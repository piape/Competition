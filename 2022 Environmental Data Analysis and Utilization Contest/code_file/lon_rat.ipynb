{
 "cells": [
  {
   "cell_type": "code",
   "execution_count": 35,
   "id": "6cf8b16f-e372-4d61-8206-2fcc2c6d72a7",
   "metadata": {},
   "outputs": [],
   "source": [
    "import numpy as np\n",
    "import pandas as pd\n",
    "import os\n",
    "\n",
    "from folium.features import DivIcon\n",
    "import folium\n",
    "import json\n",
    "import dload\n",
    "from shapely.geometry import shape\n",
    "import geopandas as gpd\n",
    "\n",
    "import plotly.express as px\n",
    "import matplotlib\n",
    "import matplotlib.pyplot as plt\n",
    "import seaborn as sns\n",
    "\n",
    "%matplotlib inline\n",
    "\n",
    "# 관련 라이브러리 임포트 \n",
    "import matplotlib.font_manager as fm\n",
    "\n",
    "#  한글글꼴로 변경\n",
    "# plt.rcParams['font.family'] = '한글글꼴명'\n",
    "plt.rcParams['font.size'] = 11.0\n",
    "# plt.rcParams['font.family'] = 'batang'\n",
    "plt.rcParams['font.family'] = 'Malgun Gothic'\n",
    "\n",
    "# 그래프에서 마이너스 폰트 깨지는 문제에 대한 대처\n",
    "matplotlib.rcParams['axes.unicode_minus'] = False\n",
    "\n",
    "# 글꼴 선명화 \n",
    "%config InlineBackend.figure_format = 'retina'\n",
    "\n",
    "# 그래프 기본 크기 설정 \n",
    "# plt.rcParams['figure.figsize'] = [10, 6]"
   ]
  },
  {
   "cell_type": "code",
   "execution_count": 36,
   "id": "e9fd805a-89ea-4b05-afe6-ea23cda147dc",
   "metadata": {},
   "outputs": [],
   "source": [
    "df = pd.read_csv(\"./data/sosang_20220630/소상공인시장진흥공단_상가(상권)정보_서울_202206.csv\")"
   ]
  },
  {
   "cell_type": "code",
   "execution_count": 37,
   "id": "326c43d6-51e6-4fa1-9a8f-6d25061e201e",
   "metadata": {},
   "outputs": [],
   "source": [
    "df = df[['상권업종대분류명', '상권업종중분류명', '상권업종소분류명', '상호명', '표준산업분류명', '행정동명', '법정동명', '경도', '위도']]"
   ]
  },
  {
   "cell_type": "code",
   "execution_count": 40,
   "id": "b655f015-d611-426e-9dea-fcf4c4f049c8",
   "metadata": {},
   "outputs": [],
   "source": [
    "df = df[df.상권업종중분류명.str.contains('커피')]"
   ]
  },
  {
   "cell_type": "code",
   "execution_count": 41,
   "id": "312b6003-826d-49c6-81f1-df37ac42883b",
   "metadata": {},
   "outputs": [],
   "source": [
    "df.to_csv(\"seoul_coffee_lon_rat.csv\", encoding=\"cp949\")"
   ]
  },
  {
   "cell_type": "code",
   "execution_count": null,
   "id": "3533ad5a-b542-4505-928b-db4868876af7",
   "metadata": {},
   "outputs": [],
   "source": []
  }
 ],
 "metadata": {
  "kernelspec": {
   "display_name": "Python 3 (ipykernel)",
   "language": "python",
   "name": "python3"
  },
  "language_info": {
   "codemirror_mode": {
    "name": "ipython",
    "version": 3
   },
   "file_extension": ".py",
   "mimetype": "text/x-python",
   "name": "python",
   "nbconvert_exporter": "python",
   "pygments_lexer": "ipython3",
   "version": "3.10.5"
  }
 },
 "nbformat": 4,
 "nbformat_minor": 5
}
