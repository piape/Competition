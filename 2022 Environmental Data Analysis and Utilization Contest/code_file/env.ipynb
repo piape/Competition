{
 "cells": [
  {
   "cell_type": "markdown",
   "id": "e33251d3-7361-4c62-b46c-b2423fd68fcf",
   "metadata": {
    "tags": []
   },
   "source": [
    "----\n",
    "# Test\n",
    "----"
   ]
  },
  {
   "cell_type": "code",
   "execution_count": 10,
   "id": "ebae584a-21b2-4a44-bf72-a7b92ede4560",
   "metadata": {},
   "outputs": [
    {
     "name": "stdout",
     "output_type": "stream",
     "text": [
      "Status: Optimal\n",
      "Population Served is =  100.0\n",
      "x =  [1. 0.]\n"
     ]
    }
   ],
   "source": [
    "import numpy as np\n",
    "import pandas as pd\n",
    "from pulp import *\n",
    "import ortools\n",
    "\n",
    "# Some dummy data, let's have 3 demand nodes and 2 possible sites\n",
    "\n",
    "# 몇 가지 더미 데이터, 3개의 수요 노드와 2개의 가능한 사이트를 갖자.\n",
    "\n",
    "I = [0,1,2]\n",
    "J = [0,1]\n",
    "\n",
    "S = 100\n",
    "d = [[50, 150], [80, 110], [160, 10]]\n",
    "\n",
    "a = [80, 20, 30]\n",
    "P = 1\n",
    "\n",
    "# Compute the sets Ni\n",
    "# NB: this will be a list in which each item is a list of nodes\n",
    "# within the threshold distance of the i'th node\n",
    "\n",
    "# 집합 계산 Ni\n",
    "# 참고: 각 항목이 노드 목록인 목록이 됩니다.\n",
    "# i'번째 노드의 임계값 거리 내에\n",
    "\n",
    "N = [[j for j in J if d[i][j] < S] for i in I]\n",
    "\n",
    "# Formulate optimisation\n",
    "# 최적화 공식\n",
    "prob = LpProblem(\"MCLP\", LpMaximize)\n",
    "x = LpVariable.dicts(\"x\", J, 0)\n",
    "y = LpVariable.dicts(\"y\", I, 0)\n",
    "\n",
    "# Objective\n",
    "# 목표\n",
    "prob += lpSum([a[i]*y[i] for i in I])\n",
    "\n",
    "# Constraints\n",
    "# 제약 조건\n",
    "for i in I:\n",
    "    prob += lpSum([x[j] for j in N[i]]) >= y[i]\n",
    "\n",
    "prob += lpSum([x[j] for j in J]) == P\n",
    "\n",
    "# Solve problem\n",
    "# 문제 해결\n",
    "prob.solve()\n",
    "\n",
    "x_soln = np.array([x[j].varValue for j in J])\n",
    "\n",
    "# And print some output\n",
    "# 그리고 출력물을 출력한다.\n",
    "print ((\"Status:\"), LpStatus[prob.status])\n",
    "print (\"Population Served is = \", value(prob.objective))\n",
    "print (\"x = \", x_soln)"
   ]
  },
  {
   "cell_type": "code",
   "execution_count": null,
   "id": "de178a92-880c-4758-ad37-47ede88103fa",
   "metadata": {},
   "outputs": [],
   "source": []
  },
  {
   "cell_type": "code",
   "execution_count": null,
   "id": "a2b80e2a-f629-462b-a243-7b7ae2e897e2",
   "metadata": {},
   "outputs": [],
   "source": []
  },
  {
   "cell_type": "code",
   "execution_count": 9,
   "id": "318f5004-628e-4880-9fe3-7c7f7124cd7d",
   "metadata": {},
   "outputs": [
    {
     "name": "stdout",
     "output_type": "stream",
     "text": [
      "14.0\n",
      "0.0\n",
      "3.0\n",
      "1.0\n"
     ]
    }
   ],
   "source": [
    "import pulp\n",
    "\n",
    "# variables\n",
    "x1 = pulp.LpVariable('x1', lowBound = 0)\n",
    "x2 = pulp.LpVariable('x2', lowBound = 0)\n",
    "x3 = pulp.LpVariable('x3', lowBound = 0)\n",
    "\n",
    "# model\n",
    "model = pulp.LpProblem('test_lp', pulp.LpMinimize)\n",
    "\n",
    "# objective function\n",
    "model += 6 * x1 + 4 * x2 + 2 * x3\n",
    "\n",
    "# constraints\n",
    "model += 4 * x1 + 2 * x2 + x3 >= 5\n",
    "model += x1 + x2 >= 3\n",
    "model += x2 + x3 >= 4\n",
    "\n",
    "# solve\n",
    "model.solve()\n",
    "\n",
    "# optimal value\n",
    "print(pulp.value(model.objective))\n",
    "\n",
    "# optimal solution\n",
    "print(x1.varValue)\n",
    "print(x2.varValue)\n",
    "print(x3.varValue)"
   ]
  },
  {
   "cell_type": "code",
   "execution_count": null,
   "id": "aba6edaa-e1b7-483c-9346-201ed01822ab",
   "metadata": {},
   "outputs": [
    {
     "ename": "ModuleNotFoundError",
     "evalue": "No module named 'mclp'",
     "output_type": "error",
     "traceback": [
      "\u001b[1;31m---------------------------------------------------------------------------\u001b[0m",
      "\u001b[1;31mModuleNotFoundError\u001b[0m                       Traceback (most recent call last)",
      "Input \u001b[1;32mIn [6]\u001b[0m, in \u001b[0;36m<cell line: 1>\u001b[1;34m()\u001b[0m\n\u001b[1;32m----> 1\u001b[0m \u001b[38;5;28;01mimport\u001b[39;00m \u001b[38;5;21;01mmclp\u001b[39;00m\n",
      "\u001b[1;31mModuleNotFoundError\u001b[0m: No module named 'mclp'"
     ]
    }
   ],
   "source": []
  },
  {
   "cell_type": "code",
   "execution_count": null,
   "id": "6565fa90-1e54-44e2-8416-921e5883df9d",
   "metadata": {},
   "outputs": [],
   "source": []
  }
 ],
 "metadata": {
  "kernelspec": {
   "display_name": "Python 3 (ipykernel)",
   "language": "python",
   "name": "python3"
  },
  "language_info": {
   "codemirror_mode": {
    "name": "ipython",
    "version": 3
   },
   "file_extension": ".py",
   "mimetype": "text/x-python",
   "name": "python",
   "nbconvert_exporter": "python",
   "pygments_lexer": "ipython3",
   "version": "3.10.5"
  }
 },
 "nbformat": 4,
 "nbformat_minor": 5
}
