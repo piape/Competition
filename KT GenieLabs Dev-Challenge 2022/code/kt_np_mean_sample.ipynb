{
 "cells": [
  {
   "cell_type": "markdown",
   "id": "fc744e33-29fe-4a67-afae-a40ee219e40c",
   "metadata": {
    "tags": []
   },
   "source": [
    "---\n",
    "# KT, 지니랩스\n",
    "---\n",
    "```\n",
    "Test 1\n",
    "data_size = 20 * 50\n",
    "w,h,c = 32,32,1\n",
    "batch = 128\n",
    "epoch = 100\n",
    "```"
   ]
  },
  {
   "cell_type": "code",
   "execution_count": 1,
   "id": "923b6b4a-538c-4159-af34-3715e4fdf1ea",
   "metadata": {},
   "outputs": [],
   "source": [
    "# 기본\n",
    "import pandas as pd\n",
    "import numpy as np\n",
    "\n",
    "import matplotlib.pyplot as plt\n",
    "import seaborn as sns\n",
    "import math\n",
    "import os\n",
    "import shutil\n",
    "import glob # 특정 폴더에 하위 폴더 및 파일 목록을 다 가져오는 모듈\n",
    "import cv2\n",
    "\n",
    "# 경고 뜨지 않게 ..\n",
    "import warnings\n",
    "warnings.filterwarnings('ignore')\n",
    "\n",
    "# 출력한 내용 청소\n",
    "from IPython.display import clear_output\n",
    "\n",
    "# 그래프 설정\n",
    "plt.rcParams['font.family'] = 'Malgun Gothic'\n",
    "plt.rcParams['figure.figsize'] = 20, 10\n",
    "plt.rcParams['axes.unicode_minus'] = False\n",
    "plt.rcParams['text.color'] = 'white'\n",
    "plt.rcParams['xtick.color'] = 'white'\n",
    "plt.rcParams['xtick.labelcolor'] = 'white'\n",
    "plt.rcParams['ytick.color'] = 'white'\n",
    "plt.rcParams['ytick.labelcolor'] = 'white'\n",
    "plt.rcParams['legend.labelcolor'] = 'white'\n",
    "plt.rcParams['legend.facecolor'] = 'grey'\n",
    "\n",
    "\n",
    "# 랜덤 모듈\n",
    "import random\n",
    "\n",
    "# 학습 모델 저장 및 복원\n",
    "import pickle\n",
    "\n",
    "# 딥러닝 라이브러리\n",
    "import tensorflow as tf\n",
    "# 신경망 모델을 관리하는 객체\n",
    "from tensorflow.keras.models import Sequential\n",
    "from tensorflow.keras.utils import Sequence\n",
    "from tensorflow.keras.preprocessing.image import ImageDataGenerator\n",
    "\n",
    "# 선형 회귀 레이어\n",
    "from tensorflow.keras.layers import Dense\n",
    "# 활성화 함수를 정의하는 객체\n",
    "from tensorflow.keras.layers import Activation\n",
    "# 원핫 인코딩을 수행하는 함수\n",
    "from tensorflow.keras.utils import to_categorical\n",
    "# 모델을 자동 저장한다.\n",
    "from tensorflow.keras.callbacks import ModelCheckpoint\n",
    "# 성능이 더이상 좋아지지 않을 경우 중단 시킨다.\n",
    "from tensorflow.keras.callbacks import EarlyStopping\n",
    "# GPU 사용 확인\n",
    "from tensorflow.python.client import device_lib\n",
    "from tensorflow.keras.layers import Flatten\n",
    "from tensorflow.keras.layers import Dropout\n",
    "\n",
    "# 평가함수\n",
    "# 분류용\n",
    "from sklearn.metrics import accuracy_score\n",
    "from sklearn.metrics import precision_score\n",
    "from sklearn.metrics import recall_score\n",
    "from sklearn.metrics import f1_score\n",
    "from sklearn.metrics import roc_auc_score\n",
    "\n",
    "# 회귀용\n",
    "from sklearn.metrics import r2_score\n",
    "from sklearn.metrics import mean_squared_error\n",
    "\n",
    "# 표준화\n",
    "from sklearn.preprocessing import StandardScaler\n",
    "from sklearn.preprocessing import MinMaxScaler\n",
    "\n",
    "# 문자열 -> 숫자\n",
    "from sklearn.preprocessing import LabelEncoder\n",
    "\n",
    "# 전체데이터를 학습용과 검증으로 나눈다.\n",
    "from sklearn.model_selection import train_test_split, KFold\n",
    "\n",
    "# ★매우 중요★\n",
    "# 현재 프로젝트에서 GPU 메모리 사용을 필요한 만큼만 쓸 수 있도록 한다.\n",
    "# 컴퓨터에 있는 GPU 정보들을 가져온다.\n",
    "# gpu가 있다면...\n",
    "\n",
    "os.environ[\"CUDA_VISIBLE_DEVICES\"]=\"0\"\n",
    "gpus = tf.config.experimental.list_physical_devices('GPU')\n",
    "if gpus:\n",
    "    try:\n",
    "        tf.config.experimental.set_memory_growth(gpus[0], True)\n",
    "    except RuntimeError as e:\n",
    "        print(e)"
   ]
  },
  {
   "cell_type": "code",
   "execution_count": 2,
   "id": "169b4db8-9c5c-47ec-9441-c0975390e6db",
   "metadata": {},
   "outputs": [],
   "source": [
    "# CNN : 커널을 통해 합성곱을 구하는 것. 이미지의 특징이 두드러 지게 한다.\n",
    "from tensorflow.keras.layers import Conv2D\n",
    "from tensorflow.keras.layers import Conv1D\n",
    "\n",
    "# MaxPooling : 커널내에서 가장 큰 값을 추출하는 방식으로 불필요한 부분을 제거한다.\n",
    "from tensorflow.keras.layers import MaxPool2D\n",
    "from tensorflow.keras.layers import MaxPool1D\n",
    "\n",
    "# Flatten : 다차원의 이미지 데이터를 선형 회귀 은닉층으로 전달하기 전에\n",
    "# 1차원으로 변환하는 것\n",
    "from tensorflow.keras.layers import Flatten\n",
    "\n",
    "# Dropout : 이미지나 영상, 음파 등의 데이터는 오랫동안 학습을 진행 시켜야 한다.\n",
    "# 하지만 너무 빨리 과적합이 발생되면 조기 중단 때문에 학습 횟수가 줄어들 수 있다.\n",
    "# 이에 은닉의 노드를 일부 사용하지 않으므로써 과적합이 빨리 오는 것을 예방하고\n",
    "# 오랫동한 학습이 진행될 수 있도록 한다.\n",
    "from tensorflow.keras.layers import Dropout"
   ]
  },
  {
   "cell_type": "code",
   "execution_count": 3,
   "id": "b01b8056-79b7-44f7-878b-6ea23cde7f38",
   "metadata": {},
   "outputs": [],
   "source": [
    "# 이미지 파일을 지정하여 이미지 데이터를 읽어온다.\n",
    "from PIL import Image"
   ]
  },
  {
   "cell_type": "code",
   "execution_count": 4,
   "id": "1d2583c1-aed0-470d-912c-db5c25280ddb",
   "metadata": {
    "tags": []
   },
   "outputs": [],
   "source": [
    "# 하위 폴더 들의 이름을 가져온다(결과 데이터)\n",
    "categories = list(os.walk('./train/'))[0][1]  # [0] 폴더목록, [0][1] 폴더목록 내 하위폴더"
   ]
  },
  {
   "cell_type": "code",
   "execution_count": 5,
   "id": "80f20435-f607-4219-9887-29b7a03f80b6",
   "metadata": {},
   "outputs": [
    {
     "data": {
      "text/plain": [
       "['가자미전',\n",
       " '간장게장',\n",
       " '감자탕',\n",
       " '거봉포도',\n",
       " '고구마',\n",
       " '고구마맛탕',\n",
       " '고등어찌개',\n",
       " '곱창구이',\n",
       " '군만두',\n",
       " '굴전',\n",
       " '김치찌개',\n",
       " '깻잎나물볶음',\n",
       " '꼬리곰탕',\n",
       " '꽈리고추무침',\n",
       " '나시고랭',\n",
       " '누룽지',\n",
       " '단무지',\n",
       " '달걀말이',\n",
       " '달걀볶음밥',\n",
       " '달걀비빔밥',\n",
       " '닭가슴살',\n",
       " '닭개장',\n",
       " '닭살채소볶음',\n",
       " '닭칼국수',\n",
       " '도가니탕',\n",
       " '도토리묵',\n",
       " '돼지감자',\n",
       " '돼지고기구이',\n",
       " '두부',\n",
       " '두부고추장조림',\n",
       " '딸기',\n",
       " '떡갈비',\n",
       " '떡국',\n",
       " '레드와인',\n",
       " '마늘쫑무침',\n",
       " '마카롱',\n",
       " '매운탕',\n",
       " '미소된장국',\n",
       " '미소장국',\n",
       " '미역초무침',\n",
       " '바나나우유',\n",
       " '바지락조개국',\n",
       " '보리밥',\n",
       " '불고기',\n",
       " '비빔밥',\n",
       " '뼈해장국',\n",
       " '삼선자장면',\n",
       " '새우매운탕',\n",
       " '새우볶음밥',\n",
       " '생연어']"
      ]
     },
     "execution_count": 5,
     "metadata": {},
     "output_type": "execute_result"
    }
   ],
   "source": [
    "categories"
   ]
  },
  {
   "cell_type": "code",
   "execution_count": 6,
   "id": "ba752369-3a7d-4bb6-84f5-f7683e0bd5d2",
   "metadata": {},
   "outputs": [],
   "source": [
    "num_classes = len(categories)"
   ]
  },
  {
   "cell_type": "code",
   "execution_count": 7,
   "id": "6c717421-a6ea-4617-b37a-dded14b3f235",
   "metadata": {},
   "outputs": [],
   "source": [
    "# image size\n",
    "image_w = 256\n",
    "image_h = 256\n",
    "channel = 3\n",
    "\n",
    "pixels = image_w * image_h * channel"
   ]
  },
  {
   "cell_type": "code",
   "execution_count": 8,
   "id": "a411a293-6722-4f33-8770-343d213e0a41",
   "metadata": {
    "tags": []
   },
   "outputs": [
    {
     "name": "stdout",
     "output_type": "stream",
     "text": [
      "가자미전 : ./train/가자미전.\\07_071_07011001_160325962319321_1_1.jpg\n",
      "간장게장 : ./train/간장게장.\\13_131_13011001_160283198137567_1.jpg\n",
      "감자탕 : ./train/감자탕.\\04_043_04013003_160310320495791_0_1.jpg\n",
      "거봉포도 : ./train/거봉포도.\\A220102XX_00879_0.jpg\n",
      "고구마 : ./train/고구마.\\A240101XX_03067_0.jpg\n",
      "고구마맛탕 : ./train/고구마맛탕.\\10_104_10014002_160327656232685_0_1.jpg\n",
      "고등어찌개 : ./train/고등어찌개.\\04_045_04015001_160453924457830_1_1.jpg\n",
      "곱창구이 : ./train/곱창구이.\\Img_003_0001.jpg\n",
      "군만두 : ./train/군만두.\\02_022_02012002_160280303753582_1.jpg\n",
      "굴전 : ./train/굴전.\\07_071_07011002_160290610355083_0_1.jpg\n",
      "김치찌개 : ./train/김치찌개.\\B060103XX_10290_0.jpg\n",
      "깻잎나물볶음 : ./train/깻잎나물볶음.\\08_082_08012003_160284014319714_1.jpg\n",
      "꼬리곰탕 : ./train/꼬리곰탕.\\04_043_04013006_160415840746190_1_1.jpg\n",
      "꽈리고추무침 : ./train/꽈리고추무침.\\Img_062_0002.jpg\n",
      "나시고랭 : ./train/나시고랭.\\B010411_10388_0.jpg\n",
      "누룽지 : ./train/누룽지.\\Img_071_0002.jpg\n",
      "단무지 : ./train/단무지.\\13_131_13011012_160273723268904_1.jpg\n",
      "달걀말이 : ./train/달걀말이.\\07_074_07014001_160274615545634_1.jpg\n",
      "달걀볶음밥 : ./train/달걀볶음밥.\\B010419XX_11393_0.jpg\n",
      "달걀비빔밥 : ./train/달걀비빔밥.\\B010309XX_10506_0.jpg\n",
      "닭가슴살 : ./train/닭가슴살.\\A270202XX_11011_0.jpg\n",
      "닭개장 : ./train/닭개장.\\04_043_04013022_160342397525481_0_1.jpg\n",
      "닭살채소볶음 : ./train/닭살채소볶음.\\B100517XX_10327_0.jpg\n",
      "닭칼국수 : ./train/닭칼국수.\\02_021_02011007_160275197688329_1.jpg\n",
      "도가니탕 : ./train/도가니탕.\\04_043_04013013_160299595730053_0_1.jpg\n",
      "도토리묵 : ./train/도토리묵.\\11_111_11011006_160291697627055_1_1.jpg\n",
      "돼지감자 : ./train/돼지감자.\\A240103XX_00889_0.jpg\n",
      "돼지고기구이 : ./train/돼지고기구이.\\B080228XX_10014_0.jpg\n",
      "두부 : ./train/두부.\\A250101XX_06106_1.jpg\n",
      "두부고추장조림 : ./train/두부고추장조림.\\09_095_09015003_160277372673793_1.jpg\n",
      "딸기 : ./train/딸기.\\A220109XX_10041_0.jpg\n",
      "떡갈비 : ./train/떡갈비.\\06_062_06012004_160301159498205_0_1.jpg\n",
      "떡국 : ./train/떡국.\\02_021_02011038_160274798999751_1.jpg\n",
      "레드와인 : ./train/레드와인.\\A210101XX_06001_0.jpg\n",
      "마늘쫑무침 : ./train/마늘쫑무침.\\11_111_11011007_160273960996194_1.jpg\n",
      "마카롱 : ./train/마카롱.\\1082670.jpg\n",
      "매운탕 : ./train/매운탕.\\04_043_04013005_160292625789818_0_1.jpg\n",
      "미소된장국 : ./train/미소된장국.\\04_042_04012002_160285205146179_1.jpg\n",
      "미소장국 : ./train/미소장국.\\B050226XX_00012_0.jpg\n",
      "미역초무침 : ./train/미역초무침.\\11_114_11014003_160395368242464_0_1.jpg\n",
      "바나나우유 : ./train/바나나우유.\\A190107XX_00022_0.jpg\n",
      "바지락조개국 : ./train/바지락조개국.\\04_041_04011006_160283416988969_1.jpg\n",
      "보리밥 : ./train/보리밥.\\01_012_01012003_160275541756372_1.jpg\n",
      "불고기 : ./train/불고기.\\06_062_06012005_160350785835157_0_1.jpg\n",
      "비빔밥 : ./train/비빔밥.\\B010316XX_02362_0.jpg\n",
      "뼈해장국 : ./train/뼈해장국.\\04_043_04013024_160654222485861_0_1.jpg\n",
      "삼선자장면 : ./train/삼선자장면.\\02_021_02011017_160354714689714_0_1.jpg\n",
      "새우매운탕 : ./train/새우매운탕.\\B060338XX_00023_0.jpg\n",
      "새우볶음밥 : ./train/새우볶음밥.\\01_014_01014007_160482355929467_1_1.jpg\n",
      "생연어 : ./train/생연어.\\14_141_14011001_160414797483726_0_1.jpg\n"
     ]
    }
   ],
   "source": [
    "X = []\n",
    "y = []\n",
    "\n",
    "for idx, category in enumerate(categories):\n",
    "    # one-hot\n",
    "    label = [0 for i in range(num_classes)]\n",
    "    label[idx] = 1\n",
    "    \n",
    "    image_dir = './train/' + category\n",
    "    files = glob.glob(image_dir + './*.jpg')\n",
    "    \n",
    "    for i, j in enumerate(files):\n",
    "        img = Image.open(j)\n",
    "        # img = img.convert(\"L\")\n",
    "        img = img.resize((image_w, image_h))\n",
    "        data = np.asarray(img) / 255\n",
    "        \n",
    "        X.append(data)\n",
    "        y.append(label)\n",
    "        \n",
    "        if i % 700 == 0 :\n",
    "            print(category, ':', j)\n",
    "        \n",
    "X = np.array(X)\n",
    "y = np.array(y)"
   ]
  },
  {
   "cell_type": "code",
   "execution_count": 9,
   "id": "afe91bdf-e598-4d99-954a-dfa466648dfc",
   "metadata": {},
   "outputs": [
    {
     "data": {
      "text/plain": [
       "(256, 256, 3)"
      ]
     },
     "execution_count": 9,
     "metadata": {},
     "output_type": "execute_result"
    }
   ],
   "source": [
    "data.shape"
   ]
  },
  {
   "cell_type": "code",
   "execution_count": 10,
   "id": "79ecf85e-4e93-495d-9e65-fc03b5528f8c",
   "metadata": {},
   "outputs": [
    {
     "data": {
      "text/plain": [
       "((10000, 256, 256, 3), (10000, 50))"
      ]
     },
     "execution_count": 10,
     "metadata": {},
     "output_type": "execute_result"
    }
   ],
   "source": [
    "X.shape, y.shape"
   ]
  },
  {
   "cell_type": "code",
   "execution_count": 11,
   "id": "b285f221-72bb-4567-adb5-73f83cb13924",
   "metadata": {},
   "outputs": [],
   "source": [
    "# 다중 분류 옵션들\n",
    "out_nodes = len(categories)\n",
    "loss_function = 'categorical_crossentropy'\n",
    "activation_function = 'softmax'"
   ]
  },
  {
   "cell_type": "code",
   "execution_count": 12,
   "id": "214801e8-9b10-4b3c-a2c0-33f6084b397d",
   "metadata": {},
   "outputs": [],
   "source": [
    "# 신경망 설계\n",
    "model = Sequential()\n",
    "\n",
    "# CNN : 이미지 데이터를 입력받아 합성곱을 수행한다.\n",
    "# 첫 번째 매개변수 : 노드의 개수 = 커널의 개수\n",
    "# kernel_size : 커널 하나의 가로, 세로 길이 2*2 or 3*3 추천\n",
    "# input shape : 입력되는 이미지의 세로길이 가로길이 채널 수\n",
    "model.add(Conv2D(32, kernel_size = (3,3), input_shape = (image_h, image_w, channel)))\n",
    "model.add(Activation('LeakyReLU'))\n",
    "\n",
    "model.add(Conv2D(64, kernel_size = (3,3)))\n",
    "model.add(Activation('LeakyReLU'))\n",
    "\n",
    "# 커널 내에서 가장 큰 값만 추출하여 불필요한 부분을 제거한다.\n",
    "model.add(MaxPool2D(pool_size = 2))\n",
    "\n",
    "# 과적합 방지\n",
    "model.add(Dropout(0.25))\n",
    "\n",
    "# 다차원의 이미지 데이터를 1차원으로 변환\n",
    "model.add(Flatten())\n",
    "\n",
    "# CNN 층을 통해 변형된 이미지 데이터를 학습하는 선형 회귀층\n",
    "model.add(Dense(128))\n",
    "model.add(Activation('LeakyReLU'))\n",
    "\n",
    "model.add(Dropout(0.5))\n",
    "\n",
    "# 출력층\n",
    "model.add(Dense(out_nodes))\n",
    "model.add(Activation(activation_function))"
   ]
  },
  {
   "cell_type": "code",
   "execution_count": 18,
   "id": "80e8a8b0-b362-45bd-9d09-2e7fc63dbc60",
   "metadata": {},
   "outputs": [
    {
     "name": "stdout",
     "output_type": "stream",
     "text": [
      "Model: \"sequential\"\n",
      "_________________________________________________________________\n",
      " Layer (type)                Output Shape              Param #   \n",
      "=================================================================\n",
      " conv2d (Conv2D)             (None, 254, 254, 32)      896       \n",
      "                                                                 \n",
      " activation (Activation)     (None, 254, 254, 32)      0         \n",
      "                                                                 \n",
      " conv2d_1 (Conv2D)           (None, 252, 252, 64)      18496     \n",
      "                                                                 \n",
      " activation_1 (Activation)   (None, 252, 252, 64)      0         \n",
      "                                                                 \n",
      " max_pooling2d (MaxPooling2D  (None, 126, 126, 64)     0         \n",
      " )                                                               \n",
      "                                                                 \n",
      " dropout (Dropout)           (None, 126, 126, 64)      0         \n",
      "                                                                 \n",
      " flatten (Flatten)           (None, 1016064)           0         \n",
      "                                                                 \n",
      " dense (Dense)               (None, 128)               130056320 \n",
      "                                                                 \n",
      " activation_2 (Activation)   (None, 128)               0         \n",
      "                                                                 \n",
      " dropout_1 (Dropout)         (None, 128)               0         \n",
      "                                                                 \n",
      " dense_1 (Dense)             (None, 50)                6450      \n",
      "                                                                 \n",
      " activation_3 (Activation)   (None, 50)                0         \n",
      "                                                                 \n",
      "=================================================================\n",
      "Total params: 130,082,162\n",
      "Trainable params: 130,082,162\n",
      "Non-trainable params: 0\n",
      "_________________________________________________________________\n"
     ]
    }
   ],
   "source": [
    "# 모델 컴파일\n",
    "# lr = 0.001\n",
    "adam = tf.keras.optimizers.Adam(lr=0.001, beta_1=0.9, beta_2=0.999, epsilon=None, decay=0.0, amsgrad=False)\n",
    "model.compile(loss = loss_function, optimizer = adam, metrics=['accuracy'])\n",
    "model.summary()"
   ]
  },
  {
   "cell_type": "markdown",
   "id": "64ade381-d06c-430e-acc6-4eddaf312714",
   "metadata": {
    "tags": []
   },
   "source": [
    "```\n",
    "# 만약 폴더가 있다면 삭제한다.\n",
    "if os.path.isdir(path) :\n",
    "    shutil.rmtree(path)\n",
    "    \n",
    "# 폴더를 생성한다.\n",
    "os.makedirs(os.path.join(path))\n",
    "```"
   ]
  },
  {
   "cell_type": "markdown",
   "id": "4dcb99cc-7143-403e-8e45-23162f984818",
   "metadata": {},
   "source": [
    "# 모델_체크포인트 문법\n",
    "path1 = path + '/{epoch}-{val_loss}.h5'\n",
    "path2 = path + '/best_model.h5'\n",
    "\n",
    "# 저장 콜백\n",
    "call1 = ModelCheckpoint(filepath = path1, monitor = 'val_loss', save_best_only = True) # 이미지 작업에선 빼도된다. 용량주의\n",
    "call2 = ModelCheckpoint(filepath = path2, monitor = 'val_loss', save_best_only = True)\n",
    "\n",
    "# 조기 중단\n",
    "call3 = EarlyStopping( monitor = 'val_loss', patience = 50 )"
   ]
  },
  {
   "cell_type": "code",
   "execution_count": 19,
   "id": "bbf2efc0-a099-46e9-a76f-ab5b90a09acb",
   "metadata": {
    "tags": []
   },
   "outputs": [],
   "source": [
    "class Dataloader(Sequence):\n",
    "\n",
    "    def __init__(self, x_set, y_set, batch_size, shuffle=False):\n",
    "        self.x, self.y = x_set, y_set\n",
    "        self.batch_size = batch_size\n",
    "        self.shuffle = shuffle\n",
    "        self.on_epoch_end()\n",
    "\n",
    "    def __len__(self):\n",
    "        return math.ceil(len(self.x) / self.batch_size)\n",
    "        \n",
    "        \n",
    "    def __getitem__(self, idx):\n",
    "        indices = self.indices[idx * self.batch_size : (idx + 1) * self.batch_size]\n",
    "\n",
    "        batch_x = [self.x[i] for i in indices]\n",
    "        batch_y = [self.y[i] for i in indices]\n",
    "\n",
    "        return np.array(batch_x), np.array(batch_y)\n",
    "\n",
    "    def on_epoch_end(self):\n",
    "        self.indices = np.arange(len(self.x))\n",
    "        if self.shuffle == True:\n",
    "            np.random.shuffle(self.indices)"
   ]
  },
  {
   "cell_type": "code",
   "execution_count": 20,
   "id": "6b5116c0-7f0c-49bd-a9c8-ba789f53f33c",
   "metadata": {},
   "outputs": [],
   "source": [
    "def fold(self):\n",
    "    self.kfold = KFold(n_splits = 5, shuffle = True, random_state = 1)\n",
    "    self.cross_val_score(model, X, Y, cv=kfold)"
   ]
  },
  {
   "cell_type": "code",
   "execution_count": 21,
   "id": "70875836-5979-4c4e-8689-107da6ef9c63",
   "metadata": {},
   "outputs": [],
   "source": [
    "train_loader = Dataloader(X, y, 128, shuffle=True)\n",
    "valid_loader = Dataloader(X, y, 128)\n",
    "test_loader = Dataloader(X, y, 128)"
   ]
  },
  {
   "cell_type": "code",
   "execution_count": 22,
   "id": "44348901-fbd9-47bd-b8e3-d8a281d7da7f",
   "metadata": {
    "tags": []
   },
   "outputs": [
    {
     "name": "stdout",
     "output_type": "stream",
     "text": [
      "Epoch 1/100\n"
     ]
    },
    {
     "ename": "ResourceExhaustedError",
     "evalue": "Graph execution error:\n\nDetected at node 'sequential/activation/leaky_re_lu/LeakyRelu' defined at (most recent call last):\n    File \"C:\\Users\\245\\AppData\\Local\\Programs\\Python\\Python310\\lib\\runpy.py\", line 196, in _run_module_as_main\n      return _run_code(code, main_globals, None,\n    File \"C:\\Users\\245\\AppData\\Local\\Programs\\Python\\Python310\\lib\\runpy.py\", line 86, in _run_code\n      exec(code, run_globals)\n    File \"C:\\Users\\245\\AppData\\Local\\Programs\\Python\\Python310\\lib\\site-packages\\ipykernel_launcher.py\", line 17, in <module>\n      app.launch_new_instance()\n    File \"C:\\Users\\245\\AppData\\Local\\Programs\\Python\\Python310\\lib\\site-packages\\traitlets\\config\\application.py\", line 976, in launch_instance\n      app.start()\n    File \"C:\\Users\\245\\AppData\\Local\\Programs\\Python\\Python310\\lib\\site-packages\\ipykernel\\kernelapp.py\", line 712, in start\n      self.io_loop.start()\n    File \"C:\\Users\\245\\AppData\\Local\\Programs\\Python\\Python310\\lib\\site-packages\\tornado\\platform\\asyncio.py\", line 215, in start\n      self.asyncio_loop.run_forever()\n    File \"C:\\Users\\245\\AppData\\Local\\Programs\\Python\\Python310\\lib\\asyncio\\base_events.py\", line 600, in run_forever\n      self._run_once()\n    File \"C:\\Users\\245\\AppData\\Local\\Programs\\Python\\Python310\\lib\\asyncio\\base_events.py\", line 1896, in _run_once\n      handle._run()\n    File \"C:\\Users\\245\\AppData\\Local\\Programs\\Python\\Python310\\lib\\asyncio\\events.py\", line 80, in _run\n      self._context.run(self._callback, *self._args)\n    File \"C:\\Users\\245\\AppData\\Local\\Programs\\Python\\Python310\\lib\\site-packages\\ipykernel\\kernelbase.py\", line 510, in dispatch_queue\n      await self.process_one()\n    File \"C:\\Users\\245\\AppData\\Local\\Programs\\Python\\Python310\\lib\\site-packages\\ipykernel\\kernelbase.py\", line 499, in process_one\n      await dispatch(*args)\n    File \"C:\\Users\\245\\AppData\\Local\\Programs\\Python\\Python310\\lib\\site-packages\\ipykernel\\kernelbase.py\", line 406, in dispatch_shell\n      await result\n    File \"C:\\Users\\245\\AppData\\Local\\Programs\\Python\\Python310\\lib\\site-packages\\ipykernel\\kernelbase.py\", line 730, in execute_request\n      reply_content = await reply_content\n    File \"C:\\Users\\245\\AppData\\Local\\Programs\\Python\\Python310\\lib\\site-packages\\ipykernel\\ipkernel.py\", line 383, in do_execute\n      res = shell.run_cell(\n    File \"C:\\Users\\245\\AppData\\Local\\Programs\\Python\\Python310\\lib\\site-packages\\ipykernel\\zmqshell.py\", line 528, in run_cell\n      return super().run_cell(*args, **kwargs)\n    File \"C:\\Users\\245\\AppData\\Local\\Programs\\Python\\Python310\\lib\\site-packages\\IPython\\core\\interactiveshell.py\", line 2881, in run_cell\n      result = self._run_cell(\n    File \"C:\\Users\\245\\AppData\\Local\\Programs\\Python\\Python310\\lib\\site-packages\\IPython\\core\\interactiveshell.py\", line 2936, in _run_cell\n      return runner(coro)\n    File \"C:\\Users\\245\\AppData\\Local\\Programs\\Python\\Python310\\lib\\site-packages\\IPython\\core\\async_helpers.py\", line 129, in _pseudo_sync_runner\n      coro.send(None)\n    File \"C:\\Users\\245\\AppData\\Local\\Programs\\Python\\Python310\\lib\\site-packages\\IPython\\core\\interactiveshell.py\", line 3135, in run_cell_async\n      has_raised = await self.run_ast_nodes(code_ast.body, cell_name,\n    File \"C:\\Users\\245\\AppData\\Local\\Programs\\Python\\Python310\\lib\\site-packages\\IPython\\core\\interactiveshell.py\", line 3338, in run_ast_nodes\n      if await self.run_code(code, result, async_=asy):\n    File \"C:\\Users\\245\\AppData\\Local\\Programs\\Python\\Python310\\lib\\site-packages\\IPython\\core\\interactiveshell.py\", line 3398, in run_code\n      exec(code_obj, self.user_global_ns, self.user_ns)\n    File \"C:\\Users\\245\\AppData\\Local\\Temp\\ipykernel_14008\\981943307.py\", line 1, in <cell line: 1>\n      history = model.fit(train_loader, validation_data=valid_loader, epochs=100, workers=4, validation_split= 0.2,\n    File \"C:\\Users\\245\\AppData\\Local\\Programs\\Python\\Python310\\lib\\site-packages\\keras\\utils\\traceback_utils.py\", line 64, in error_handler\n      return fn(*args, **kwargs)\n    File \"C:\\Users\\245\\AppData\\Local\\Programs\\Python\\Python310\\lib\\site-packages\\keras\\engine\\training.py\", line 1409, in fit\n      tmp_logs = self.train_function(iterator)\n    File \"C:\\Users\\245\\AppData\\Local\\Programs\\Python\\Python310\\lib\\site-packages\\keras\\engine\\training.py\", line 1051, in train_function\n      return step_function(self, iterator)\n    File \"C:\\Users\\245\\AppData\\Local\\Programs\\Python\\Python310\\lib\\site-packages\\keras\\engine\\training.py\", line 1040, in step_function\n      outputs = model.distribute_strategy.run(run_step, args=(data,))\n    File \"C:\\Users\\245\\AppData\\Local\\Programs\\Python\\Python310\\lib\\site-packages\\keras\\engine\\training.py\", line 1030, in run_step\n      outputs = model.train_step(data)\n    File \"C:\\Users\\245\\AppData\\Local\\Programs\\Python\\Python310\\lib\\site-packages\\keras\\engine\\training.py\", line 889, in train_step\n      y_pred = self(x, training=True)\n    File \"C:\\Users\\245\\AppData\\Local\\Programs\\Python\\Python310\\lib\\site-packages\\keras\\utils\\traceback_utils.py\", line 64, in error_handler\n      return fn(*args, **kwargs)\n    File \"C:\\Users\\245\\AppData\\Local\\Programs\\Python\\Python310\\lib\\site-packages\\keras\\engine\\training.py\", line 490, in __call__\n      return super().__call__(*args, **kwargs)\n    File \"C:\\Users\\245\\AppData\\Local\\Programs\\Python\\Python310\\lib\\site-packages\\keras\\utils\\traceback_utils.py\", line 64, in error_handler\n      return fn(*args, **kwargs)\n    File \"C:\\Users\\245\\AppData\\Local\\Programs\\Python\\Python310\\lib\\site-packages\\keras\\engine\\base_layer.py\", line 1014, in __call__\n      outputs = call_fn(inputs, *args, **kwargs)\n    File \"C:\\Users\\245\\AppData\\Local\\Programs\\Python\\Python310\\lib\\site-packages\\keras\\utils\\traceback_utils.py\", line 92, in error_handler\n      return fn(*args, **kwargs)\n    File \"C:\\Users\\245\\AppData\\Local\\Programs\\Python\\Python310\\lib\\site-packages\\keras\\engine\\sequential.py\", line 374, in call\n      return super(Sequential, self).call(inputs, training=training, mask=mask)\n    File \"C:\\Users\\245\\AppData\\Local\\Programs\\Python\\Python310\\lib\\site-packages\\keras\\engine\\functional.py\", line 458, in call\n      return self._run_internal_graph(\n    File \"C:\\Users\\245\\AppData\\Local\\Programs\\Python\\Python310\\lib\\site-packages\\keras\\engine\\functional.py\", line 596, in _run_internal_graph\n      outputs = node.layer(*args, **kwargs)\n    File \"C:\\Users\\245\\AppData\\Local\\Programs\\Python\\Python310\\lib\\site-packages\\keras\\utils\\traceback_utils.py\", line 64, in error_handler\n      return fn(*args, **kwargs)\n    File \"C:\\Users\\245\\AppData\\Local\\Programs\\Python\\Python310\\lib\\site-packages\\keras\\engine\\base_layer.py\", line 1014, in __call__\n      outputs = call_fn(inputs, *args, **kwargs)\n    File \"C:\\Users\\245\\AppData\\Local\\Programs\\Python\\Python310\\lib\\site-packages\\keras\\utils\\traceback_utils.py\", line 92, in error_handler\n      return fn(*args, **kwargs)\n    File \"C:\\Users\\245\\AppData\\Local\\Programs\\Python\\Python310\\lib\\site-packages\\keras\\layers\\core\\activation.py\", line 57, in call\n      return self.activation(inputs)\n    File \"C:\\Users\\245\\AppData\\Local\\Programs\\Python\\Python310\\lib\\site-packages\\keras\\utils\\traceback_utils.py\", line 64, in error_handler\n      return fn(*args, **kwargs)\n    File \"C:\\Users\\245\\AppData\\Local\\Programs\\Python\\Python310\\lib\\site-packages\\keras\\engine\\base_layer.py\", line 1014, in __call__\n      outputs = call_fn(inputs, *args, **kwargs)\n    File \"C:\\Users\\245\\AppData\\Local\\Programs\\Python\\Python310\\lib\\site-packages\\keras\\utils\\traceback_utils.py\", line 92, in error_handler\n      return fn(*args, **kwargs)\n    File \"C:\\Users\\245\\AppData\\Local\\Programs\\Python\\Python310\\lib\\site-packages\\keras\\layers\\activation\\leaky_relu.py\", line 70, in call\n      return backend.relu(inputs, alpha=self.alpha)\n    File \"C:\\Users\\245\\AppData\\Local\\Programs\\Python\\Python310\\lib\\site-packages\\keras\\backend.py\", line 4975, in relu\n      return tf.nn.leaky_relu(x, alpha=alpha)\nNode: 'sequential/activation/leaky_re_lu/LeakyRelu'\nOOM when allocating tensor with shape[128,32,254,254] and type float on /job:localhost/replica:0/task:0/device:GPU:0 by allocator GPU_0_bfc\n\t [[{{node sequential/activation/leaky_re_lu/LeakyRelu}}]]\nHint: If you want to see a list of allocated tensors when OOM happens, add report_tensor_allocations_upon_oom to RunOptions for current allocation info. This isn't available when running in Eager mode.\n [Op:__inference_train_function_1629]",
     "output_type": "error",
     "traceback": [
      "\u001b[1;31m---------------------------------------------------------------------------\u001b[0m",
      "\u001b[1;31mResourceExhaustedError\u001b[0m                    Traceback (most recent call last)",
      "Input \u001b[1;32mIn [22]\u001b[0m, in \u001b[0;36m<cell line: 1>\u001b[1;34m()\u001b[0m\n\u001b[1;32m----> 1\u001b[0m history \u001b[38;5;241m=\u001b[39m \u001b[43mmodel\u001b[49m\u001b[38;5;241;43m.\u001b[39;49m\u001b[43mfit\u001b[49m\u001b[43m(\u001b[49m\u001b[43mtrain_loader\u001b[49m\u001b[43m,\u001b[49m\u001b[43m \u001b[49m\u001b[43mvalidation_data\u001b[49m\u001b[38;5;241;43m=\u001b[39;49m\u001b[43mvalid_loader\u001b[49m\u001b[43m,\u001b[49m\u001b[43m \u001b[49m\u001b[43mepochs\u001b[49m\u001b[38;5;241;43m=\u001b[39;49m\u001b[38;5;241;43m100\u001b[39;49m\u001b[43m,\u001b[49m\u001b[43m \u001b[49m\u001b[43mworkers\u001b[49m\u001b[38;5;241;43m=\u001b[39;49m\u001b[38;5;241;43m4\u001b[39;49m\u001b[43m,\u001b[49m\u001b[43m \u001b[49m\u001b[43mvalidation_split\u001b[49m\u001b[38;5;241;43m=\u001b[39;49m\u001b[43m \u001b[49m\u001b[38;5;241;43m0.2\u001b[39;49m\u001b[43m,\u001b[49m\n\u001b[0;32m      2\u001b[0m \u001b[43m                   \u001b[49m\u001b[38;5;66;43;03m# callbacks= [call1, call2, call3]\u001b[39;49;00m\n\u001b[0;32m      3\u001b[0m \u001b[43m                   \u001b[49m\u001b[43m)\u001b[49m\n",
      "File \u001b[1;32m~\\AppData\\Local\\Programs\\Python\\Python310\\lib\\site-packages\\keras\\utils\\traceback_utils.py:67\u001b[0m, in \u001b[0;36mfilter_traceback.<locals>.error_handler\u001b[1;34m(*args, **kwargs)\u001b[0m\n\u001b[0;32m     65\u001b[0m \u001b[38;5;28;01mexcept\u001b[39;00m \u001b[38;5;167;01mException\u001b[39;00m \u001b[38;5;28;01mas\u001b[39;00m e:  \u001b[38;5;66;03m# pylint: disable=broad-except\u001b[39;00m\n\u001b[0;32m     66\u001b[0m   filtered_tb \u001b[38;5;241m=\u001b[39m _process_traceback_frames(e\u001b[38;5;241m.\u001b[39m__traceback__)\n\u001b[1;32m---> 67\u001b[0m   \u001b[38;5;28;01mraise\u001b[39;00m e\u001b[38;5;241m.\u001b[39mwith_traceback(filtered_tb) \u001b[38;5;28;01mfrom\u001b[39;00m \u001b[38;5;28mNone\u001b[39m\n\u001b[0;32m     68\u001b[0m \u001b[38;5;28;01mfinally\u001b[39;00m:\n\u001b[0;32m     69\u001b[0m   \u001b[38;5;28;01mdel\u001b[39;00m filtered_tb\n",
      "File \u001b[1;32m~\\AppData\\Local\\Programs\\Python\\Python310\\lib\\site-packages\\tensorflow\\python\\eager\\execute.py:54\u001b[0m, in \u001b[0;36mquick_execute\u001b[1;34m(op_name, num_outputs, inputs, attrs, ctx, name)\u001b[0m\n\u001b[0;32m     52\u001b[0m \u001b[38;5;28;01mtry\u001b[39;00m:\n\u001b[0;32m     53\u001b[0m   ctx\u001b[38;5;241m.\u001b[39mensure_initialized()\n\u001b[1;32m---> 54\u001b[0m   tensors \u001b[38;5;241m=\u001b[39m pywrap_tfe\u001b[38;5;241m.\u001b[39mTFE_Py_Execute(ctx\u001b[38;5;241m.\u001b[39m_handle, device_name, op_name,\n\u001b[0;32m     55\u001b[0m                                       inputs, attrs, num_outputs)\n\u001b[0;32m     56\u001b[0m \u001b[38;5;28;01mexcept\u001b[39;00m core\u001b[38;5;241m.\u001b[39m_NotOkStatusException \u001b[38;5;28;01mas\u001b[39;00m e:\n\u001b[0;32m     57\u001b[0m   \u001b[38;5;28;01mif\u001b[39;00m name \u001b[38;5;129;01mis\u001b[39;00m \u001b[38;5;129;01mnot\u001b[39;00m \u001b[38;5;28;01mNone\u001b[39;00m:\n",
      "\u001b[1;31mResourceExhaustedError\u001b[0m: Graph execution error:\n\nDetected at node 'sequential/activation/leaky_re_lu/LeakyRelu' defined at (most recent call last):\n    File \"C:\\Users\\245\\AppData\\Local\\Programs\\Python\\Python310\\lib\\runpy.py\", line 196, in _run_module_as_main\n      return _run_code(code, main_globals, None,\n    File \"C:\\Users\\245\\AppData\\Local\\Programs\\Python\\Python310\\lib\\runpy.py\", line 86, in _run_code\n      exec(code, run_globals)\n    File \"C:\\Users\\245\\AppData\\Local\\Programs\\Python\\Python310\\lib\\site-packages\\ipykernel_launcher.py\", line 17, in <module>\n      app.launch_new_instance()\n    File \"C:\\Users\\245\\AppData\\Local\\Programs\\Python\\Python310\\lib\\site-packages\\traitlets\\config\\application.py\", line 976, in launch_instance\n      app.start()\n    File \"C:\\Users\\245\\AppData\\Local\\Programs\\Python\\Python310\\lib\\site-packages\\ipykernel\\kernelapp.py\", line 712, in start\n      self.io_loop.start()\n    File \"C:\\Users\\245\\AppData\\Local\\Programs\\Python\\Python310\\lib\\site-packages\\tornado\\platform\\asyncio.py\", line 215, in start\n      self.asyncio_loop.run_forever()\n    File \"C:\\Users\\245\\AppData\\Local\\Programs\\Python\\Python310\\lib\\asyncio\\base_events.py\", line 600, in run_forever\n      self._run_once()\n    File \"C:\\Users\\245\\AppData\\Local\\Programs\\Python\\Python310\\lib\\asyncio\\base_events.py\", line 1896, in _run_once\n      handle._run()\n    File \"C:\\Users\\245\\AppData\\Local\\Programs\\Python\\Python310\\lib\\asyncio\\events.py\", line 80, in _run\n      self._context.run(self._callback, *self._args)\n    File \"C:\\Users\\245\\AppData\\Local\\Programs\\Python\\Python310\\lib\\site-packages\\ipykernel\\kernelbase.py\", line 510, in dispatch_queue\n      await self.process_one()\n    File \"C:\\Users\\245\\AppData\\Local\\Programs\\Python\\Python310\\lib\\site-packages\\ipykernel\\kernelbase.py\", line 499, in process_one\n      await dispatch(*args)\n    File \"C:\\Users\\245\\AppData\\Local\\Programs\\Python\\Python310\\lib\\site-packages\\ipykernel\\kernelbase.py\", line 406, in dispatch_shell\n      await result\n    File \"C:\\Users\\245\\AppData\\Local\\Programs\\Python\\Python310\\lib\\site-packages\\ipykernel\\kernelbase.py\", line 730, in execute_request\n      reply_content = await reply_content\n    File \"C:\\Users\\245\\AppData\\Local\\Programs\\Python\\Python310\\lib\\site-packages\\ipykernel\\ipkernel.py\", line 383, in do_execute\n      res = shell.run_cell(\n    File \"C:\\Users\\245\\AppData\\Local\\Programs\\Python\\Python310\\lib\\site-packages\\ipykernel\\zmqshell.py\", line 528, in run_cell\n      return super().run_cell(*args, **kwargs)\n    File \"C:\\Users\\245\\AppData\\Local\\Programs\\Python\\Python310\\lib\\site-packages\\IPython\\core\\interactiveshell.py\", line 2881, in run_cell\n      result = self._run_cell(\n    File \"C:\\Users\\245\\AppData\\Local\\Programs\\Python\\Python310\\lib\\site-packages\\IPython\\core\\interactiveshell.py\", line 2936, in _run_cell\n      return runner(coro)\n    File \"C:\\Users\\245\\AppData\\Local\\Programs\\Python\\Python310\\lib\\site-packages\\IPython\\core\\async_helpers.py\", line 129, in _pseudo_sync_runner\n      coro.send(None)\n    File \"C:\\Users\\245\\AppData\\Local\\Programs\\Python\\Python310\\lib\\site-packages\\IPython\\core\\interactiveshell.py\", line 3135, in run_cell_async\n      has_raised = await self.run_ast_nodes(code_ast.body, cell_name,\n    File \"C:\\Users\\245\\AppData\\Local\\Programs\\Python\\Python310\\lib\\site-packages\\IPython\\core\\interactiveshell.py\", line 3338, in run_ast_nodes\n      if await self.run_code(code, result, async_=asy):\n    File \"C:\\Users\\245\\AppData\\Local\\Programs\\Python\\Python310\\lib\\site-packages\\IPython\\core\\interactiveshell.py\", line 3398, in run_code\n      exec(code_obj, self.user_global_ns, self.user_ns)\n    File \"C:\\Users\\245\\AppData\\Local\\Temp\\ipykernel_14008\\981943307.py\", line 1, in <cell line: 1>\n      history = model.fit(train_loader, validation_data=valid_loader, epochs=100, workers=4, validation_split= 0.2,\n    File \"C:\\Users\\245\\AppData\\Local\\Programs\\Python\\Python310\\lib\\site-packages\\keras\\utils\\traceback_utils.py\", line 64, in error_handler\n      return fn(*args, **kwargs)\n    File \"C:\\Users\\245\\AppData\\Local\\Programs\\Python\\Python310\\lib\\site-packages\\keras\\engine\\training.py\", line 1409, in fit\n      tmp_logs = self.train_function(iterator)\n    File \"C:\\Users\\245\\AppData\\Local\\Programs\\Python\\Python310\\lib\\site-packages\\keras\\engine\\training.py\", line 1051, in train_function\n      return step_function(self, iterator)\n    File \"C:\\Users\\245\\AppData\\Local\\Programs\\Python\\Python310\\lib\\site-packages\\keras\\engine\\training.py\", line 1040, in step_function\n      outputs = model.distribute_strategy.run(run_step, args=(data,))\n    File \"C:\\Users\\245\\AppData\\Local\\Programs\\Python\\Python310\\lib\\site-packages\\keras\\engine\\training.py\", line 1030, in run_step\n      outputs = model.train_step(data)\n    File \"C:\\Users\\245\\AppData\\Local\\Programs\\Python\\Python310\\lib\\site-packages\\keras\\engine\\training.py\", line 889, in train_step\n      y_pred = self(x, training=True)\n    File \"C:\\Users\\245\\AppData\\Local\\Programs\\Python\\Python310\\lib\\site-packages\\keras\\utils\\traceback_utils.py\", line 64, in error_handler\n      return fn(*args, **kwargs)\n    File \"C:\\Users\\245\\AppData\\Local\\Programs\\Python\\Python310\\lib\\site-packages\\keras\\engine\\training.py\", line 490, in __call__\n      return super().__call__(*args, **kwargs)\n    File \"C:\\Users\\245\\AppData\\Local\\Programs\\Python\\Python310\\lib\\site-packages\\keras\\utils\\traceback_utils.py\", line 64, in error_handler\n      return fn(*args, **kwargs)\n    File \"C:\\Users\\245\\AppData\\Local\\Programs\\Python\\Python310\\lib\\site-packages\\keras\\engine\\base_layer.py\", line 1014, in __call__\n      outputs = call_fn(inputs, *args, **kwargs)\n    File \"C:\\Users\\245\\AppData\\Local\\Programs\\Python\\Python310\\lib\\site-packages\\keras\\utils\\traceback_utils.py\", line 92, in error_handler\n      return fn(*args, **kwargs)\n    File \"C:\\Users\\245\\AppData\\Local\\Programs\\Python\\Python310\\lib\\site-packages\\keras\\engine\\sequential.py\", line 374, in call\n      return super(Sequential, self).call(inputs, training=training, mask=mask)\n    File \"C:\\Users\\245\\AppData\\Local\\Programs\\Python\\Python310\\lib\\site-packages\\keras\\engine\\functional.py\", line 458, in call\n      return self._run_internal_graph(\n    File \"C:\\Users\\245\\AppData\\Local\\Programs\\Python\\Python310\\lib\\site-packages\\keras\\engine\\functional.py\", line 596, in _run_internal_graph\n      outputs = node.layer(*args, **kwargs)\n    File \"C:\\Users\\245\\AppData\\Local\\Programs\\Python\\Python310\\lib\\site-packages\\keras\\utils\\traceback_utils.py\", line 64, in error_handler\n      return fn(*args, **kwargs)\n    File \"C:\\Users\\245\\AppData\\Local\\Programs\\Python\\Python310\\lib\\site-packages\\keras\\engine\\base_layer.py\", line 1014, in __call__\n      outputs = call_fn(inputs, *args, **kwargs)\n    File \"C:\\Users\\245\\AppData\\Local\\Programs\\Python\\Python310\\lib\\site-packages\\keras\\utils\\traceback_utils.py\", line 92, in error_handler\n      return fn(*args, **kwargs)\n    File \"C:\\Users\\245\\AppData\\Local\\Programs\\Python\\Python310\\lib\\site-packages\\keras\\layers\\core\\activation.py\", line 57, in call\n      return self.activation(inputs)\n    File \"C:\\Users\\245\\AppData\\Local\\Programs\\Python\\Python310\\lib\\site-packages\\keras\\utils\\traceback_utils.py\", line 64, in error_handler\n      return fn(*args, **kwargs)\n    File \"C:\\Users\\245\\AppData\\Local\\Programs\\Python\\Python310\\lib\\site-packages\\keras\\engine\\base_layer.py\", line 1014, in __call__\n      outputs = call_fn(inputs, *args, **kwargs)\n    File \"C:\\Users\\245\\AppData\\Local\\Programs\\Python\\Python310\\lib\\site-packages\\keras\\utils\\traceback_utils.py\", line 92, in error_handler\n      return fn(*args, **kwargs)\n    File \"C:\\Users\\245\\AppData\\Local\\Programs\\Python\\Python310\\lib\\site-packages\\keras\\layers\\activation\\leaky_relu.py\", line 70, in call\n      return backend.relu(inputs, alpha=self.alpha)\n    File \"C:\\Users\\245\\AppData\\Local\\Programs\\Python\\Python310\\lib\\site-packages\\keras\\backend.py\", line 4975, in relu\n      return tf.nn.leaky_relu(x, alpha=alpha)\nNode: 'sequential/activation/leaky_re_lu/LeakyRelu'\nOOM when allocating tensor with shape[128,32,254,254] and type float on /job:localhost/replica:0/task:0/device:GPU:0 by allocator GPU_0_bfc\n\t [[{{node sequential/activation/leaky_re_lu/LeakyRelu}}]]\nHint: If you want to see a list of allocated tensors when OOM happens, add report_tensor_allocations_upon_oom to RunOptions for current allocation info. This isn't available when running in Eager mode.\n [Op:__inference_train_function_1629]"
     ]
    }
   ],
   "source": [
    "history = model.fit(train_loader, validation_data=valid_loader, epochs=100, workers=4, validation_split= 0.2,\n",
    "                   # callbacks= [call1, call2, call3]\n",
    "                   )"
   ]
  },
  {
   "cell_type": "code",
   "execution_count": null,
   "id": "7fc73d90-1575-4a1c-ae20-bdea962a2e77",
   "metadata": {},
   "outputs": [],
   "source": [
    "# 정확도 확인 ( 앞선 결과에 누적되었다 )\n",
    "a1 = model.evaluate(test_loader)\n",
    "print(f' 손실률 : {a1[0]}')\n",
    "print(f' 정확도 : {a1[1]}')"
   ]
  },
  {
   "cell_type": "code",
   "execution_count": null,
   "id": "e87401ed-256d-474d-88b9-cdaee8dc64ad",
   "metadata": {},
   "outputs": [],
   "source": [
    "model.save('./model/one/best_model.h5')"
   ]
  },
  {
   "cell_type": "code",
   "execution_count": null,
   "id": "b4a1013c-9362-4162-843e-d5f3701df1e1",
   "metadata": {},
   "outputs": [],
   "source": [
    "# 리스트를 추출한다.\n",
    "loss_list = history.history['loss']\n",
    "accuracy_list = history.history['accuracy']\n",
    "val_loss_list = history.history['val_loss']\n",
    "val_accuracy_list = history.history['val_accuracy']"
   ]
  },
  {
   "cell_type": "code",
   "execution_count": null,
   "id": "7e73df6c-4bab-4c18-9379-83e8c10b24d8",
   "metadata": {},
   "outputs": [],
   "source": [
    "# 정확도 그래프\n",
    "plt.plot(accuracy_list, label='accuracy')\n",
    "plt.plot(val_accuracy_list, label='val_accuracy')\n",
    "plt.legend()\n",
    "plt.show()"
   ]
  },
  {
   "cell_type": "code",
   "execution_count": null,
   "id": "360086de-e0a7-4dfd-99f0-a403af516909",
   "metadata": {},
   "outputs": [],
   "source": [
    "# 손실률\n",
    "plt.plot(loss_list, label='loss')\n",
    "plt.plot(val_loss_list, label='val_loss')\n",
    "plt.legend()\n",
    "plt.show()"
   ]
  },
  {
   "cell_type": "markdown",
   "id": "940f4eac-5f7a-4d5a-b6ce-1005f7ee5def",
   "metadata": {},
   "source": [
    "# 테스트"
   ]
  },
  {
   "cell_type": "markdown",
   "id": "8216d2f5-e4dd-4073-b647-d781a006470e",
   "metadata": {},
   "source": [
    "# 모델불러오기\n",
    "from tensorflow.keras.models import load_model\n",
    "best_model = load_model('./model/zero/best_model.h5')"
   ]
  },
  {
   "cell_type": "code",
   "execution_count": 181,
   "id": "9efa342e-b948-4c23-8a12-12ea7a499539",
   "metadata": {},
   "outputs": [
    {
     "data": {
      "image/png": "[encoded data removed]",
      "text/plain": [
       "<PIL.JpegImagePlugin.JpegImageFile image mode=RGB size=268x188>"
      ]
     },
     "execution_count": 181,
     "metadata": {},
     "output_type": "execute_result"
    }
   ],
   "source": [
    "# 원본이미지\n",
    "test_org = Image.open('./random_sample/도가니탕1호.jpg')\n",
    "test_org"
   ]
  },
  {
   "cell_type": "code",
   "execution_count": 182,
   "id": "cf90cb4e-7eb2-4b9e-a7bb-a5b3a91384b5",
   "metadata": {},
   "outputs": [],
   "source": [
    "# 흑백반전\n",
    "# test_img = test_org.convert('L')\n",
    "# test_img"
   ]
  },
  {
   "cell_type": "code",
   "execution_count": 183,
   "id": "2177a1f4-32dd-48a7-bc6d-be9434db7e67",
   "metadata": {},
   "outputs": [],
   "source": [
    "# # 리사이징\n",
    "# test_img = test_org.resize((image_w, image_h))\n",
    "# test_img"
   ]
  },
  {
   "cell_type": "code",
   "execution_count": 184,
   "id": "169b3fbe-eb23-4c2b-adb0-d35c11c961f4",
   "metadata": {},
   "outputs": [],
   "source": [
    "test_data = np.asarray(test_org) / 255"
   ]
  },
  {
   "cell_type": "code",
   "execution_count": 185,
   "id": "543ad148-3ee7-407c-9799-a70c738e0df0",
   "metadata": {
    "tags": []
   },
   "outputs": [
    {
     "name": "stdout",
     "output_type": "stream",
     "text": [
      "[0.84705882 0.80784314 0.77254902]\n"
     ]
    }
   ],
   "source": [
    "# 이미지 변경시 값 변화 확인\n",
    "print(test_data[0][0])"
   ]
  },
  {
   "cell_type": "code",
   "execution_count": 186,
   "id": "330871e4-0025-4e5f-bae2-5f3ea1081761",
   "metadata": {},
   "outputs": [
    {
     "ename": "InvalidArgumentError",
     "evalue": "Input to reshape is a tensor with 151152 values, but the requested shape has 196608 [Op:Reshape]",
     "output_type": "error",
     "traceback": [
      "\u001b[1;31m---------------------------------------------------------------------------\u001b[0m",
      "\u001b[1;31mInvalidArgumentError\u001b[0m                      Traceback (most recent call last)",
      "Input \u001b[1;32mIn [186]\u001b[0m, in \u001b[0;36m<cell line: 2>\u001b[1;34m()\u001b[0m\n\u001b[0;32m      1\u001b[0m \u001b[38;5;66;03m# 텐서로 변환\u001b[39;00m\n\u001b[1;32m----> 2\u001b[0m test_data \u001b[38;5;241m=\u001b[39m \u001b[43mtf\u001b[49m\u001b[38;5;241;43m.\u001b[39;49m\u001b[43mreshape\u001b[49m\u001b[43m(\u001b[49m\u001b[43mtest_data\u001b[49m\u001b[43m,\u001b[49m\u001b[43m(\u001b[49m\u001b[38;5;241;43m1\u001b[39;49m\u001b[43m,\u001b[49m\u001b[43m \u001b[49m\u001b[43mimage_w\u001b[49m\u001b[43m,\u001b[49m\u001b[43m \u001b[49m\u001b[43mimage_h\u001b[49m\u001b[43m,\u001b[49m\u001b[43m \u001b[49m\u001b[38;5;241;43m3\u001b[39;49m\u001b[43m)\u001b[49m\u001b[43m)\u001b[49m \u001b[38;5;66;03m# 차원체크\u001b[39;00m\n\u001b[0;32m      3\u001b[0m test_data\u001b[38;5;241m.\u001b[39mshape\n",
      "File \u001b[1;32m~\\AppData\\Local\\Programs\\Python\\Python310\\lib\\site-packages\\tensorflow\\python\\util\\traceback_utils.py:153\u001b[0m, in \u001b[0;36mfilter_traceback.<locals>.error_handler\u001b[1;34m(*args, **kwargs)\u001b[0m\n\u001b[0;32m    151\u001b[0m \u001b[38;5;28;01mexcept\u001b[39;00m \u001b[38;5;167;01mException\u001b[39;00m \u001b[38;5;28;01mas\u001b[39;00m e:\n\u001b[0;32m    152\u001b[0m   filtered_tb \u001b[38;5;241m=\u001b[39m _process_traceback_frames(e\u001b[38;5;241m.\u001b[39m__traceback__)\n\u001b[1;32m--> 153\u001b[0m   \u001b[38;5;28;01mraise\u001b[39;00m e\u001b[38;5;241m.\u001b[39mwith_traceback(filtered_tb) \u001b[38;5;28;01mfrom\u001b[39;00m \u001b[38;5;28mNone\u001b[39m\n\u001b[0;32m    154\u001b[0m \u001b[38;5;28;01mfinally\u001b[39;00m:\n\u001b[0;32m    155\u001b[0m   \u001b[38;5;28;01mdel\u001b[39;00m filtered_tb\n",
      "File \u001b[1;32m~\\AppData\\Local\\Programs\\Python\\Python310\\lib\\site-packages\\tensorflow\\python\\eager\\execute.py:54\u001b[0m, in \u001b[0;36mquick_execute\u001b[1;34m(op_name, num_outputs, inputs, attrs, ctx, name)\u001b[0m\n\u001b[0;32m     52\u001b[0m \u001b[38;5;28;01mtry\u001b[39;00m:\n\u001b[0;32m     53\u001b[0m   ctx\u001b[38;5;241m.\u001b[39mensure_initialized()\n\u001b[1;32m---> 54\u001b[0m   tensors \u001b[38;5;241m=\u001b[39m pywrap_tfe\u001b[38;5;241m.\u001b[39mTFE_Py_Execute(ctx\u001b[38;5;241m.\u001b[39m_handle, device_name, op_name,\n\u001b[0;32m     55\u001b[0m                                       inputs, attrs, num_outputs)\n\u001b[0;32m     56\u001b[0m \u001b[38;5;28;01mexcept\u001b[39;00m core\u001b[38;5;241m.\u001b[39m_NotOkStatusException \u001b[38;5;28;01mas\u001b[39;00m e:\n\u001b[0;32m     57\u001b[0m   \u001b[38;5;28;01mif\u001b[39;00m name \u001b[38;5;129;01mis\u001b[39;00m \u001b[38;5;129;01mnot\u001b[39;00m \u001b[38;5;28;01mNone\u001b[39;00m:\n",
      "\u001b[1;31mInvalidArgumentError\u001b[0m: Input to reshape is a tensor with 151152 values, but the requested shape has 196608 [Op:Reshape]"
     ]
    }
   ],
   "source": [
    "# 텐서로 변환\n",
    "test_data = tf.reshape(test_data,(1, image_w, image_h, 3)) # 차원체크\n",
    "test_data.shape"
   ]
  },
  {
   "cell_type": "code",
   "execution_count": 29,
   "id": "e1aee8da-4347-46da-907b-fc42728c597e",
   "metadata": {},
   "outputs": [
    {
     "ename": "ValueError",
     "evalue": "in user code:\n\n    File \"C:\\Users\\245\\AppData\\Local\\Programs\\Python\\Python310\\lib\\site-packages\\keras\\engine\\training.py\", line 1845, in predict_function  *\n        return step_function(self, iterator)\n    File \"C:\\Users\\245\\AppData\\Local\\Programs\\Python\\Python310\\lib\\site-packages\\keras\\engine\\training.py\", line 1834, in step_function  **\n        outputs = model.distribute_strategy.run(run_step, args=(data,))\n    File \"C:\\Users\\245\\AppData\\Local\\Programs\\Python\\Python310\\lib\\site-packages\\keras\\engine\\training.py\", line 1823, in run_step  **\n        outputs = model.predict_step(data)\n    File \"C:\\Users\\245\\AppData\\Local\\Programs\\Python\\Python310\\lib\\site-packages\\keras\\engine\\training.py\", line 1791, in predict_step\n        return self(x, training=False)\n    File \"C:\\Users\\245\\AppData\\Local\\Programs\\Python\\Python310\\lib\\site-packages\\keras\\utils\\traceback_utils.py\", line 67, in error_handler\n        raise e.with_traceback(filtered_tb) from None\n    File \"C:\\Users\\245\\AppData\\Local\\Programs\\Python\\Python310\\lib\\site-packages\\keras\\engine\\input_spec.py\", line 264, in assert_input_compatibility\n        raise ValueError(f'Input {input_index} of layer \"{layer_name}\" is '\n\n    ValueError: Input 0 of layer \"sequential\" is incompatible with the layer: expected shape=(None, 256, 256, 3), found shape=(None, 268, 3)\n",
     "output_type": "error",
     "traceback": [
      "\u001b[1;31m---------------------------------------------------------------------------\u001b[0m",
      "\u001b[1;31mValueError\u001b[0m                                Traceback (most recent call last)",
      "Input \u001b[1;32mIn [29]\u001b[0m, in \u001b[0;36m<cell line: 2>\u001b[1;34m()\u001b[0m\n\u001b[0;32m      1\u001b[0m \u001b[38;5;66;03m# 예측한다.\u001b[39;00m\n\u001b[1;32m----> 2\u001b[0m pred \u001b[38;5;241m=\u001b[39m \u001b[43mmodel\u001b[49m\u001b[38;5;241;43m.\u001b[39;49m\u001b[43mpredict\u001b[49m\u001b[43m(\u001b[49m\u001b[43mtest_data\u001b[49m\u001b[43m)\u001b[49m\n\u001b[0;32m      3\u001b[0m pred \u001b[38;5;241m=\u001b[39m pred \u001b[38;5;241m*\u001b[39m \u001b[38;5;241m255\u001b[39m\n\u001b[0;32m      4\u001b[0m pred\u001b[38;5;241m.\u001b[39mastype(\u001b[38;5;28mint\u001b[39m)\n",
      "File \u001b[1;32m~\\AppData\\Local\\Programs\\Python\\Python310\\lib\\site-packages\\keras\\utils\\traceback_utils.py:67\u001b[0m, in \u001b[0;36mfilter_traceback.<locals>.error_handler\u001b[1;34m(*args, **kwargs)\u001b[0m\n\u001b[0;32m     65\u001b[0m \u001b[38;5;28;01mexcept\u001b[39;00m \u001b[38;5;167;01mException\u001b[39;00m \u001b[38;5;28;01mas\u001b[39;00m e:  \u001b[38;5;66;03m# pylint: disable=broad-except\u001b[39;00m\n\u001b[0;32m     66\u001b[0m   filtered_tb \u001b[38;5;241m=\u001b[39m _process_traceback_frames(e\u001b[38;5;241m.\u001b[39m__traceback__)\n\u001b[1;32m---> 67\u001b[0m   \u001b[38;5;28;01mraise\u001b[39;00m e\u001b[38;5;241m.\u001b[39mwith_traceback(filtered_tb) \u001b[38;5;28;01mfrom\u001b[39;00m \u001b[38;5;28mNone\u001b[39m\n\u001b[0;32m     68\u001b[0m \u001b[38;5;28;01mfinally\u001b[39;00m:\n\u001b[0;32m     69\u001b[0m   \u001b[38;5;28;01mdel\u001b[39;00m filtered_tb\n",
      "File \u001b[1;32m~\\AppData\\Local\\Temp\\__autograph_generated_filels391k66.py:15\u001b[0m, in \u001b[0;36mouter_factory.<locals>.inner_factory.<locals>.tf__predict_function\u001b[1;34m(iterator)\u001b[0m\n\u001b[0;32m     13\u001b[0m \u001b[38;5;28;01mtry\u001b[39;00m:\n\u001b[0;32m     14\u001b[0m     do_return \u001b[38;5;241m=\u001b[39m \u001b[38;5;28;01mTrue\u001b[39;00m\n\u001b[1;32m---> 15\u001b[0m     retval_ \u001b[38;5;241m=\u001b[39m ag__\u001b[38;5;241m.\u001b[39mconverted_call(ag__\u001b[38;5;241m.\u001b[39mld(step_function), (ag__\u001b[38;5;241m.\u001b[39mld(\u001b[38;5;28mself\u001b[39m), ag__\u001b[38;5;241m.\u001b[39mld(iterator)), \u001b[38;5;28;01mNone\u001b[39;00m, fscope)\n\u001b[0;32m     16\u001b[0m \u001b[38;5;28;01mexcept\u001b[39;00m:\n\u001b[0;32m     17\u001b[0m     do_return \u001b[38;5;241m=\u001b[39m \u001b[38;5;28;01mFalse\u001b[39;00m\n",
      "\u001b[1;31mValueError\u001b[0m: in user code:\n\n    File \"C:\\Users\\245\\AppData\\Local\\Programs\\Python\\Python310\\lib\\site-packages\\keras\\engine\\training.py\", line 1845, in predict_function  *\n        return step_function(self, iterator)\n    File \"C:\\Users\\245\\AppData\\Local\\Programs\\Python\\Python310\\lib\\site-packages\\keras\\engine\\training.py\", line 1834, in step_function  **\n        outputs = model.distribute_strategy.run(run_step, args=(data,))\n    File \"C:\\Users\\245\\AppData\\Local\\Programs\\Python\\Python310\\lib\\site-packages\\keras\\engine\\training.py\", line 1823, in run_step  **\n        outputs = model.predict_step(data)\n    File \"C:\\Users\\245\\AppData\\Local\\Programs\\Python\\Python310\\lib\\site-packages\\keras\\engine\\training.py\", line 1791, in predict_step\n        return self(x, training=False)\n    File \"C:\\Users\\245\\AppData\\Local\\Programs\\Python\\Python310\\lib\\site-packages\\keras\\utils\\traceback_utils.py\", line 67, in error_handler\n        raise e.with_traceback(filtered_tb) from None\n    File \"C:\\Users\\245\\AppData\\Local\\Programs\\Python\\Python310\\lib\\site-packages\\keras\\engine\\input_spec.py\", line 264, in assert_input_compatibility\n        raise ValueError(f'Input {input_index} of layer \"{layer_name}\" is '\n\n    ValueError: Input 0 of layer \"sequential\" is incompatible with the layer: expected shape=(None, 256, 256, 3), found shape=(None, 268, 3)\n"
     ]
    }
   ],
   "source": [
    "# 예측한다.\n",
    "pred = model.predict(test_data)\n",
    "pred = pred * 255\n",
    "pred.astype(int)"
   ]
  },
  {
   "cell_type": "code",
   "execution_count": null,
   "id": "47c37e1b-d373-47e7-9066-218639b2c7e3",
   "metadata": {},
   "outputs": [],
   "source": [
    "# 답을 출력한다.\n",
    "test_org"
   ]
  },
  {
   "cell_type": "code",
   "execution_count": null,
   "id": "7ffc5abe-9919-453a-abee-ae8adc26ee05",
   "metadata": {},
   "outputs": [],
   "source": [
    "categories[np.argmax(pred)],np.argmax(pred)"
   ]
  },
  {
   "cell_type": "code",
   "execution_count": null,
   "id": "8f6efcbc-3aa9-4241-8fdc-785c143a35eb",
   "metadata": {},
   "outputs": [],
   "source": []
  },
  {
   "cell_type": "code",
   "execution_count": null,
   "id": "d2d5ce4a-69c2-42e8-8a8f-1d308bfb3855",
   "metadata": {},
   "outputs": [],
   "source": []
  },
  {
   "cell_type": "code",
   "execution_count": 61,
   "id": "6055d3f6-f505-48a3-823a-80e74f055ece",
   "metadata": {},
   "outputs": [
    {
     "data": {
      "text/plain": [
       "['./random_sample.\\\\가자미1호.jpg',\n",
       " './random_sample.\\\\게장1호.jpg',\n",
       " './random_sample.\\\\김치찌개1호.jpg',\n",
       " './random_sample.\\\\누룽지1호.jpg',\n",
       " './random_sample.\\\\도가니탕1호.jpg',\n",
       " './random_sample.\\\\떡국1호.jpg',\n",
       " './random_sample.\\\\생연어1호.jpg']"
      ]
     },
     "execution_count": 61,
     "metadata": {},
     "output_type": "execute_result"
    }
   ],
   "source": [
    "# 검증용 샘플 랜덤 추출\n",
    "r_sample_dir = './random_sample'\n",
    "r_sample_files = glob.glob(r_sample_dir + './*.jpg')\n",
    "r_sample_files"
   ]
  },
  {
   "cell_type": "code",
   "execution_count": 174,
   "id": "5d51f962-4b98-4ffc-b288-c2e54e8ef913",
   "metadata": {},
   "outputs": [],
   "source": [
    "z = []\n",
    "\n",
    "for k in files:\n",
    "        img = Image.open(k)\n",
    "        # img = img.convert(\"L\")\n",
    "        img = img.resize((256, 256))\n",
    "        data = np.asarray(img) /255\n",
    "        \n",
    "        z.append(data)\n",
    "        \n",
    "z = np.array(z)"
   ]
  },
  {
   "cell_type": "code",
   "execution_count": 1,
   "id": "e91db721-da1c-4228-a9c7-1bc3d0594328",
   "metadata": {
    "tags": []
   },
   "outputs": [
    {
     "ename": "NameError",
     "evalue": "name 'np' is not defined",
     "output_type": "error",
     "traceback": [
      "\u001b[1;31m---------------------------------------------------------------------------\u001b[0m",
      "\u001b[1;31mNameError\u001b[0m                                 Traceback (most recent call last)",
      "Input \u001b[1;32mIn [1]\u001b[0m, in \u001b[0;36m<cell line: 4>\u001b[1;34m()\u001b[0m\n\u001b[0;32m      1\u001b[0m \u001b[38;5;66;03m# 배열로 이미지 생성 - 배열 행의 평균을 필터로 설정 > 음식 이미지에 중첩됨\u001b[39;00m\n\u001b[0;32m      2\u001b[0m \u001b[38;5;28;01mimport\u001b[39;00m \u001b[38;5;21;01mcv2\u001b[39;00m\n\u001b[1;32m----> 4\u001b[0m cv2\u001b[38;5;241m.\u001b[39mimshow(\u001b[38;5;124m\"\u001b[39m\u001b[38;5;124mimage\u001b[39m\u001b[38;5;124m\"\u001b[39m, \u001b[43mnp\u001b[49m\u001b[38;5;241m.\u001b[39maverage(z, axis \u001b[38;5;241m=\u001b[39m \u001b[38;5;241m0\u001b[39m))\n\u001b[0;32m      5\u001b[0m cv2\u001b[38;5;241m.\u001b[39mwaitKey(\u001b[38;5;241m0\u001b[39m)\n\u001b[0;32m      6\u001b[0m cv2\u001b[38;5;241m.\u001b[39mdestroyAllWindows()\n",
      "\u001b[1;31mNameError\u001b[0m: name 'np' is not defined"
     ]
    }
   ],
   "source": [
    "# 배열로 이미지 생성 - 배열 행의 평균을 필터로 설정 > 음식 이미지에 중첩됨\n",
    "import cv2\n",
    "\n",
    "cv2.imshow(\"image\", np.average(z, axis = 0))\n",
    "cv2.waitKey(0)\n",
    "cv2.destroyAllWindows()"
   ]
  },
  {
   "cell_type": "code",
   "execution_count": 176,
   "id": "80f9519d-fea5-456f-bae3-3a68768f608a",
   "metadata": {},
   "outputs": [],
   "source": [
    "# 배열로 이미지 생성 - 기존 이미지\n",
    "import cv2\n",
    "\n",
    "cv2.imshow(\"image\", z[1])\n",
    "cv2.waitKey(0)\n",
    "cv2.destroyAllWindows()"
   ]
  },
  {
   "cell_type": "code",
   "execution_count": 179,
   "id": "23beaa2f-6470-4a0e-8c80-222931671cfd",
   "metadata": {},
   "outputs": [],
   "source": [
    "# 배열로 이미지 생성 - 배열 행의 평균을 제곱함\n",
    "import cv2\n",
    "\n",
    "cv2.imshow(\"image\", z[1] ** np.average(z, axis = 0))\n",
    "cv2.waitKey(0)\n",
    "cv2.destroyAllWindows()"
   ]
  },
  {
   "cell_type": "code",
   "execution_count": 180,
   "id": "a0dfd46f-8533-4e00-8e43-2e16ab6be7a1",
   "metadata": {},
   "outputs": [],
   "source": [
    "# 배열로 이미지 생성 - 1에서 배열 행의 평균을 뺀 수치를 제곱함\n",
    "import cv2\n",
    "\n",
    "cv2.imshow(\"image\", (z[1]) ** (1 - np.average(z, axis = 0)))\n",
    "cv2.waitKey(0)\n",
    "cv2.destroyAllWindows()"
   ]
  },
  {
   "cell_type": "markdown",
   "id": "082ad7c3-6fdd-428d-98cf-187314f12ded",
   "metadata": {},
   "source": [
    "# 제곱했을때 더욱 명확해진다."
   ]
  },
  {
   "cell_type": "code",
   "execution_count": null,
   "id": "183237bf-3f27-4262-b94c-27d71d03edde",
   "metadata": {},
   "outputs": [],
   "source": [
    "np.average(z, axis = 0)"
   ]
  },
  {
   "cell_type": "code",
   "execution_count": null,
   "id": "41a75a35-27e3-4bcb-a124-e36014fa924e",
   "metadata": {},
   "outputs": [],
   "source": []
  },
  {
   "cell_type": "code",
   "execution_count": null,
   "id": "bdfdde87-b5e6-4643-a33a-0cdda8003a10",
   "metadata": {},
   "outputs": [],
   "source": []
  },
  {
   "cell_type": "code",
   "execution_count": null,
   "id": "15f09f11-6989-4585-830d-3e5f70557bb5",
   "metadata": {},
   "outputs": [],
   "source": []
  },
  {
   "cell_type": "code",
   "execution_count": null,
   "id": "8c5528a2-c2a0-4707-9ec2-5b86d24528ac",
   "metadata": {},
   "outputs": [],
   "source": []
  }
 ],
 "metadata": {
  "kernelspec": {
   "display_name": "Python 3 (ipykernel)",
   "language": "python",
   "name": "python3"
  },
  "language_info": {
   "codemirror_mode": {
    "name": "ipython",
    "version": 3
   },
   "file_extension": ".py",
   "mimetype": "text/x-python",
   "name": "python",
   "nbconvert_exporter": "python",
   "pygments_lexer": "ipython3",
   "version": "3.10.5"
  }
 },
 "nbformat": 4,
 "nbformat_minor": 5
}
