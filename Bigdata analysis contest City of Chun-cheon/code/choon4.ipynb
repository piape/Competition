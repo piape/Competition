{
 "cells": [
  {
   "cell_type": "markdown",
   "id": "ad698afa-c0b4-4a23-8edd-b8efdd0f8706",
   "metadata": {
    "tags": []
   },
   "source": [
    "---\n",
    "# 춘천시 빅데이터 공모전\n",
    "---\n",
    "\n",
    "### 폐공가 데이터 분석"
   ]
  },
  {
   "cell_type": "code",
   "execution_count": 1,
   "id": "c7a12e80-5767-4e1d-b8a5-56646be06146",
   "metadata": {
    "tags": []
   },
   "outputs": [],
   "source": [
    "import warnings\n",
    "warnings.filterwarnings('ignore')\n",
    "import pandas as pd\n",
    "import numpy as np\n",
    "import seaborn as sns\n",
    "import openpyxl\n",
    "import matplotlib.pyplot as plt\n",
    "import os\n",
    "import plotly.express as px\n",
    "import plotly.graph_objects as go\n",
    "\n",
    "plt.rcParams['font.family'] = 'Malgun Gothic' # Windows 맑은 고딕\n",
    "plt.rcParams['font.size'] = 20\n",
    "plt.rcParams['figure.figsize'] = 15, 10"
   ]
  },
  {
   "cell_type": "code",
   "execution_count": 2,
   "id": "71e1b458-1452-4c0d-8685-dc9a8b0d614d",
   "metadata": {},
   "outputs": [],
   "source": [
    "df1 = pd.read_excel('data/공공데이터 제공자료(춘천시빈집 현황).xlsx')\n",
    "df2 = pd.read_csv('./data/강원도 춘천시_관광지 및 상권 정밀 위치기반 이용자 실태 현황_20211221.csv', encoding = 'cp949')"
   ]
  },
  {
   "cell_type": "code",
   "execution_count": 3,
   "id": "364e1370-458f-4c5b-8dfd-e0651d0c8191",
   "metadata": {},
   "outputs": [
    {
     "data": {
      "text/html": [
       "<div>\n",
       "<style scoped>\n",
       "    .dataframe tbody tr th:only-of-type {\n",
       "        vertical-align: middle;\n",
       "    }\n",
       "\n",
       "    .dataframe tbody tr th {\n",
       "        vertical-align: top;\n",
       "    }\n",
       "\n",
       "    .dataframe thead th {\n",
       "        text-align: right;\n",
       "    }\n",
       "</style>\n",
       "<table border=\"1\" class=\"dataframe\">\n",
       "  <thead>\n",
       "    <tr style=\"text-align: right;\">\n",
       "      <th></th>\n",
       "      <th>구분</th>\n",
       "      <th>법정동명</th>\n",
       "      <th>건축물_구조</th>\n",
       "      <th>건물용도</th>\n",
       "      <th>연면적</th>\n",
       "      <th>빈집등급</th>\n",
       "      <th>기준월</th>\n",
       "    </tr>\n",
       "  </thead>\n",
       "  <tbody>\n",
       "    <tr>\n",
       "      <th>0</th>\n",
       "      <td>1</td>\n",
       "      <td>교동</td>\n",
       "      <td>일반목구조</td>\n",
       "      <td>단독주택(다가구)</td>\n",
       "      <td>60.320</td>\n",
       "      <td>2등급</td>\n",
       "      <td>2019.10.</td>\n",
       "    </tr>\n",
       "    <tr>\n",
       "      <th>1</th>\n",
       "      <td>2</td>\n",
       "      <td>교동</td>\n",
       "      <td>벽돌구조</td>\n",
       "      <td>단독주택(다가구)</td>\n",
       "      <td>50.191</td>\n",
       "      <td>2등급</td>\n",
       "      <td>2019.10.</td>\n",
       "    </tr>\n",
       "    <tr>\n",
       "      <th>2</th>\n",
       "      <td>3</td>\n",
       "      <td>교동</td>\n",
       "      <td>블록구조</td>\n",
       "      <td>단독주택(다가구)</td>\n",
       "      <td>50.100</td>\n",
       "      <td>1등급</td>\n",
       "      <td>2019.10.</td>\n",
       "    </tr>\n",
       "    <tr>\n",
       "      <th>3</th>\n",
       "      <td>4</td>\n",
       "      <td>교동</td>\n",
       "      <td>일반목구조</td>\n",
       "      <td>단독주택(다가구)</td>\n",
       "      <td>81.731</td>\n",
       "      <td>4등급</td>\n",
       "      <td>2019.10.</td>\n",
       "    </tr>\n",
       "    <tr>\n",
       "      <th>4</th>\n",
       "      <td>5</td>\n",
       "      <td>교동</td>\n",
       "      <td>없음</td>\n",
       "      <td>그 외 주택</td>\n",
       "      <td>489.420</td>\n",
       "      <td>1등급</td>\n",
       "      <td>2019.10.</td>\n",
       "    </tr>\n",
       "    <tr>\n",
       "      <th>...</th>\n",
       "      <td>...</td>\n",
       "      <td>...</td>\n",
       "      <td>...</td>\n",
       "      <td>...</td>\n",
       "      <td>...</td>\n",
       "      <td>...</td>\n",
       "      <td>...</td>\n",
       "    </tr>\n",
       "    <tr>\n",
       "      <th>421</th>\n",
       "      <td>422</td>\n",
       "      <td>교동</td>\n",
       "      <td>블록구조</td>\n",
       "      <td>단독주택(다가구)</td>\n",
       "      <td>41.850</td>\n",
       "      <td>4등급</td>\n",
       "      <td>2020.01.</td>\n",
       "    </tr>\n",
       "    <tr>\n",
       "      <th>422</th>\n",
       "      <td>423</td>\n",
       "      <td>석사동</td>\n",
       "      <td>없음</td>\n",
       "      <td>그 외 주택</td>\n",
       "      <td>NaN</td>\n",
       "      <td>2등급</td>\n",
       "      <td>2020.01.</td>\n",
       "    </tr>\n",
       "    <tr>\n",
       "      <th>423</th>\n",
       "      <td>424</td>\n",
       "      <td>칠전동</td>\n",
       "      <td>없음</td>\n",
       "      <td>그 외 주택</td>\n",
       "      <td>NaN</td>\n",
       "      <td>1등급</td>\n",
       "      <td>2020.01.</td>\n",
       "    </tr>\n",
       "    <tr>\n",
       "      <th>424</th>\n",
       "      <td>425</td>\n",
       "      <td>신동</td>\n",
       "      <td>일반목구조</td>\n",
       "      <td>단독주택(다가구)</td>\n",
       "      <td>98.640</td>\n",
       "      <td>1등급</td>\n",
       "      <td>2020.01.</td>\n",
       "    </tr>\n",
       "    <tr>\n",
       "      <th>425</th>\n",
       "      <td>426</td>\n",
       "      <td>신동</td>\n",
       "      <td>철근콘크리트구조</td>\n",
       "      <td>단독주택(다가구)</td>\n",
       "      <td>181.730</td>\n",
       "      <td>1등급</td>\n",
       "      <td>2020.01.</td>\n",
       "    </tr>\n",
       "  </tbody>\n",
       "</table>\n",
       "<p>426 rows × 7 columns</p>\n",
       "</div>"
      ],
      "text/plain": [
       "      구분 법정동명    건축물_구조       건물용도      연면적 빈집등급       기준월\n",
       "0      1   교동     일반목구조  단독주택(다가구)   60.320  2등급  2019.10.\n",
       "1      2   교동      벽돌구조  단독주택(다가구)   50.191  2등급  2019.10.\n",
       "2      3   교동      블록구조  단독주택(다가구)   50.100  1등급  2019.10.\n",
       "3      4   교동     일반목구조  단독주택(다가구)   81.731  4등급  2019.10.\n",
       "4      5   교동        없음     그 외 주택  489.420  1등급  2019.10.\n",
       "..   ...  ...       ...        ...      ...  ...       ...\n",
       "421  422   교동      블록구조  단독주택(다가구)   41.850  4등급  2020.01.\n",
       "422  423  석사동        없음     그 외 주택      NaN  2등급  2020.01.\n",
       "423  424  칠전동        없음     그 외 주택      NaN  1등급  2020.01.\n",
       "424  425   신동     일반목구조  단독주택(다가구)   98.640  1등급  2020.01.\n",
       "425  426   신동  철근콘크리트구조  단독주택(다가구)  181.730  1등급  2020.01.\n",
       "\n",
       "[426 rows x 7 columns]"
      ]
     },
     "execution_count": 3,
     "metadata": {},
     "output_type": "execute_result"
    }
   ],
   "source": [
    "df1"
   ]
  },
  {
   "cell_type": "code",
   "execution_count": 4,
   "id": "f6fbd4bb-55e1-4186-a19d-8490848781f8",
   "metadata": {},
   "outputs": [
    {
     "data": {
      "text/plain": [
       "구분         0\n",
       "법정동명       0\n",
       "건축물_구조     0\n",
       "건물용도       0\n",
       "연면적       78\n",
       "빈집등급       0\n",
       "기준월        0\n",
       "dtype: int64"
      ]
     },
     "execution_count": 4,
     "metadata": {},
     "output_type": "execute_result"
    }
   ],
   "source": [
    "df1.isna().sum()"
   ]
  },
  {
   "cell_type": "code",
   "execution_count": 5,
   "id": "a1e9beb3-4a70-4908-82e8-638422881b8e",
   "metadata": {},
   "outputs": [],
   "source": [
    "df1 = df1.dropna(how='any')"
   ]
  },
  {
   "cell_type": "code",
   "execution_count": 6,
   "id": "c2dad7a0-dca3-455b-9e2b-64c993569d20",
   "metadata": {},
   "outputs": [
    {
     "data": {
      "text/html": [
       "<div>\n",
       "<style scoped>\n",
       "    .dataframe tbody tr th:only-of-type {\n",
       "        vertical-align: middle;\n",
       "    }\n",
       "\n",
       "    .dataframe tbody tr th {\n",
       "        vertical-align: top;\n",
       "    }\n",
       "\n",
       "    .dataframe thead th {\n",
       "        text-align: right;\n",
       "    }\n",
       "</style>\n",
       "<table border=\"1\" class=\"dataframe\">\n",
       "  <thead>\n",
       "    <tr style=\"text-align: right;\">\n",
       "      <th></th>\n",
       "      <th>법정동명</th>\n",
       "      <th>건축물_구조</th>\n",
       "      <th>건물용도</th>\n",
       "      <th>연면적</th>\n",
       "      <th>빈집등급</th>\n",
       "      <th>기준월</th>\n",
       "    </tr>\n",
       "  </thead>\n",
       "  <tbody>\n",
       "    <tr>\n",
       "      <th>111</th>\n",
       "      <td>소양로3가</td>\n",
       "      <td>철근콘크리트구조</td>\n",
       "      <td>단독주택(다가구)</td>\n",
       "      <td>525.2350</td>\n",
       "      <td>1등급</td>\n",
       "      <td>2019.10.</td>\n",
       "    </tr>\n",
       "    <tr>\n",
       "      <th>4</th>\n",
       "      <td>교동</td>\n",
       "      <td>없음</td>\n",
       "      <td>그 외 주택</td>\n",
       "      <td>489.4200</td>\n",
       "      <td>1등급</td>\n",
       "      <td>2019.10.</td>\n",
       "    </tr>\n",
       "    <tr>\n",
       "      <th>168</th>\n",
       "      <td>옥천동</td>\n",
       "      <td>철근콘크리트구조</td>\n",
       "      <td>공동주택(다세대/연립)</td>\n",
       "      <td>461.8500</td>\n",
       "      <td>1등급</td>\n",
       "      <td>2019.10.</td>\n",
       "    </tr>\n",
       "    <tr>\n",
       "      <th>39</th>\n",
       "      <td>근화동</td>\n",
       "      <td>철근콘크리트구조</td>\n",
       "      <td>단독주택(다가구)</td>\n",
       "      <td>431.0100</td>\n",
       "      <td>3등급</td>\n",
       "      <td>2019.10.</td>\n",
       "    </tr>\n",
       "    <tr>\n",
       "      <th>182</th>\n",
       "      <td>요선동</td>\n",
       "      <td>철근콘크리트구조</td>\n",
       "      <td>그 외 주택</td>\n",
       "      <td>410.0300</td>\n",
       "      <td>1등급</td>\n",
       "      <td>2019.10.</td>\n",
       "    </tr>\n",
       "    <tr>\n",
       "      <th>...</th>\n",
       "      <td>...</td>\n",
       "      <td>...</td>\n",
       "      <td>...</td>\n",
       "      <td>...</td>\n",
       "      <td>...</td>\n",
       "      <td>...</td>\n",
       "    </tr>\n",
       "    <tr>\n",
       "      <th>81</th>\n",
       "      <td>삼천동</td>\n",
       "      <td>벽돌구조</td>\n",
       "      <td>단독주택(다가구)</td>\n",
       "      <td>17.5000</td>\n",
       "      <td>3등급</td>\n",
       "      <td>2019.10.</td>\n",
       "    </tr>\n",
       "    <tr>\n",
       "      <th>240</th>\n",
       "      <td>조양동</td>\n",
       "      <td>일반목구조</td>\n",
       "      <td>단독주택(다가구)</td>\n",
       "      <td>16.1588</td>\n",
       "      <td>2등급</td>\n",
       "      <td>2019.10.</td>\n",
       "    </tr>\n",
       "    <tr>\n",
       "      <th>284</th>\n",
       "      <td>효자동</td>\n",
       "      <td>벽돌구조</td>\n",
       "      <td>단독주택(다가구)</td>\n",
       "      <td>15.1200</td>\n",
       "      <td>1등급</td>\n",
       "      <td>2019.10.</td>\n",
       "    </tr>\n",
       "    <tr>\n",
       "      <th>62</th>\n",
       "      <td>봉의동</td>\n",
       "      <td>블록구조</td>\n",
       "      <td>단독주택(다가구)</td>\n",
       "      <td>15.0778</td>\n",
       "      <td>1등급</td>\n",
       "      <td>2019.10.</td>\n",
       "    </tr>\n",
       "    <tr>\n",
       "      <th>63</th>\n",
       "      <td>봉의동</td>\n",
       "      <td>블록구조</td>\n",
       "      <td>단독주택(다가구)</td>\n",
       "      <td>15.0778</td>\n",
       "      <td>4등급</td>\n",
       "      <td>2019.10.</td>\n",
       "    </tr>\n",
       "  </tbody>\n",
       "</table>\n",
       "<p>348 rows × 6 columns</p>\n",
       "</div>"
      ],
      "text/plain": [
       "      법정동명    건축물_구조          건물용도       연면적 빈집등급       기준월\n",
       "111  소양로3가  철근콘크리트구조     단독주택(다가구)  525.2350  1등급  2019.10.\n",
       "4       교동        없음        그 외 주택  489.4200  1등급  2019.10.\n",
       "168    옥천동  철근콘크리트구조  공동주택(다세대/연립)  461.8500  1등급  2019.10.\n",
       "39     근화동  철근콘크리트구조     단독주택(다가구)  431.0100  3등급  2019.10.\n",
       "182    요선동  철근콘크리트구조        그 외 주택  410.0300  1등급  2019.10.\n",
       "..     ...       ...           ...       ...  ...       ...\n",
       "81     삼천동      벽돌구조     단독주택(다가구)   17.5000  3등급  2019.10.\n",
       "240    조양동     일반목구조     단독주택(다가구)   16.1588  2등급  2019.10.\n",
       "284    효자동      벽돌구조     단독주택(다가구)   15.1200  1등급  2019.10.\n",
       "62     봉의동      블록구조     단독주택(다가구)   15.0778  1등급  2019.10.\n",
       "63     봉의동      블록구조     단독주택(다가구)   15.0778  4등급  2019.10.\n",
       "\n",
       "[348 rows x 6 columns]"
      ]
     },
     "execution_count": 6,
     "metadata": {},
     "output_type": "execute_result"
    }
   ],
   "source": [
    "# 면적이 결측치인 행은 제거\n",
    "# 면적순으로 정렬\n",
    "df1 = df1.sort_values('연면적', ascending=False)\n",
    "df1.drop('구분', axis = 1 , inplace = True)\n",
    "df1"
   ]
  },
  {
   "cell_type": "code",
   "execution_count": 7,
   "id": "4acade9d-6bf4-4b9b-b80f-1371edea9be1",
   "metadata": {},
   "outputs": [],
   "source": [
    "# 빈집등급에서 '등급'을 삭제한다\n",
    "df1.빈집등급 = df1.빈집등급.str.replace('등급', '')"
   ]
  },
  {
   "cell_type": "code",
   "execution_count": 8,
   "id": "3e19f4a6-bf2d-4886-9e73-cf9c056948ae",
   "metadata": {},
   "outputs": [],
   "source": [
    "# 기준월도 삭제\n",
    "df1.drop('기준월', axis = 1, inplace = True)"
   ]
  },
  {
   "cell_type": "code",
   "execution_count": 9,
   "id": "103d4197-1879-45fc-abf1-4300a0620533",
   "metadata": {},
   "outputs": [
    {
     "data": {
      "text/html": [
       "<div>\n",
       "<style scoped>\n",
       "    .dataframe tbody tr th:only-of-type {\n",
       "        vertical-align: middle;\n",
       "    }\n",
       "\n",
       "    .dataframe tbody tr th {\n",
       "        vertical-align: top;\n",
       "    }\n",
       "\n",
       "    .dataframe thead th {\n",
       "        text-align: right;\n",
       "    }\n",
       "</style>\n",
       "<table border=\"1\" class=\"dataframe\">\n",
       "  <thead>\n",
       "    <tr style=\"text-align: right;\">\n",
       "      <th></th>\n",
       "      <th>법정동명</th>\n",
       "      <th>건축물_구조</th>\n",
       "      <th>건물용도</th>\n",
       "      <th>연면적</th>\n",
       "      <th>빈집등급</th>\n",
       "    </tr>\n",
       "  </thead>\n",
       "  <tbody>\n",
       "    <tr>\n",
       "      <th>111</th>\n",
       "      <td>소양로3가</td>\n",
       "      <td>철근콘크리트구조</td>\n",
       "      <td>단독주택(다가구)</td>\n",
       "      <td>525.2350</td>\n",
       "      <td>1</td>\n",
       "    </tr>\n",
       "    <tr>\n",
       "      <th>4</th>\n",
       "      <td>교동</td>\n",
       "      <td>없음</td>\n",
       "      <td>그 외 주택</td>\n",
       "      <td>489.4200</td>\n",
       "      <td>1</td>\n",
       "    </tr>\n",
       "    <tr>\n",
       "      <th>168</th>\n",
       "      <td>옥천동</td>\n",
       "      <td>철근콘크리트구조</td>\n",
       "      <td>공동주택(다세대/연립)</td>\n",
       "      <td>461.8500</td>\n",
       "      <td>1</td>\n",
       "    </tr>\n",
       "    <tr>\n",
       "      <th>39</th>\n",
       "      <td>근화동</td>\n",
       "      <td>철근콘크리트구조</td>\n",
       "      <td>단독주택(다가구)</td>\n",
       "      <td>431.0100</td>\n",
       "      <td>3</td>\n",
       "    </tr>\n",
       "    <tr>\n",
       "      <th>182</th>\n",
       "      <td>요선동</td>\n",
       "      <td>철근콘크리트구조</td>\n",
       "      <td>그 외 주택</td>\n",
       "      <td>410.0300</td>\n",
       "      <td>1</td>\n",
       "    </tr>\n",
       "    <tr>\n",
       "      <th>...</th>\n",
       "      <td>...</td>\n",
       "      <td>...</td>\n",
       "      <td>...</td>\n",
       "      <td>...</td>\n",
       "      <td>...</td>\n",
       "    </tr>\n",
       "    <tr>\n",
       "      <th>81</th>\n",
       "      <td>삼천동</td>\n",
       "      <td>벽돌구조</td>\n",
       "      <td>단독주택(다가구)</td>\n",
       "      <td>17.5000</td>\n",
       "      <td>3</td>\n",
       "    </tr>\n",
       "    <tr>\n",
       "      <th>240</th>\n",
       "      <td>조양동</td>\n",
       "      <td>일반목구조</td>\n",
       "      <td>단독주택(다가구)</td>\n",
       "      <td>16.1588</td>\n",
       "      <td>2</td>\n",
       "    </tr>\n",
       "    <tr>\n",
       "      <th>284</th>\n",
       "      <td>효자동</td>\n",
       "      <td>벽돌구조</td>\n",
       "      <td>단독주택(다가구)</td>\n",
       "      <td>15.1200</td>\n",
       "      <td>1</td>\n",
       "    </tr>\n",
       "    <tr>\n",
       "      <th>62</th>\n",
       "      <td>봉의동</td>\n",
       "      <td>블록구조</td>\n",
       "      <td>단독주택(다가구)</td>\n",
       "      <td>15.0778</td>\n",
       "      <td>1</td>\n",
       "    </tr>\n",
       "    <tr>\n",
       "      <th>63</th>\n",
       "      <td>봉의동</td>\n",
       "      <td>블록구조</td>\n",
       "      <td>단독주택(다가구)</td>\n",
       "      <td>15.0778</td>\n",
       "      <td>4</td>\n",
       "    </tr>\n",
       "  </tbody>\n",
       "</table>\n",
       "<p>348 rows × 5 columns</p>\n",
       "</div>"
      ],
      "text/plain": [
       "      법정동명    건축물_구조          건물용도       연면적 빈집등급\n",
       "111  소양로3가  철근콘크리트구조     단독주택(다가구)  525.2350    1\n",
       "4       교동        없음        그 외 주택  489.4200    1\n",
       "168    옥천동  철근콘크리트구조  공동주택(다세대/연립)  461.8500    1\n",
       "39     근화동  철근콘크리트구조     단독주택(다가구)  431.0100    3\n",
       "182    요선동  철근콘크리트구조        그 외 주택  410.0300    1\n",
       "..     ...       ...           ...       ...  ...\n",
       "81     삼천동      벽돌구조     단독주택(다가구)   17.5000    3\n",
       "240    조양동     일반목구조     단독주택(다가구)   16.1588    2\n",
       "284    효자동      벽돌구조     단독주택(다가구)   15.1200    1\n",
       "62     봉의동      블록구조     단독주택(다가구)   15.0778    1\n",
       "63     봉의동      블록구조     단독주택(다가구)   15.0778    4\n",
       "\n",
       "[348 rows x 5 columns]"
      ]
     },
     "execution_count": 9,
     "metadata": {},
     "output_type": "execute_result"
    }
   ],
   "source": [
    "df1"
   ]
  },
  {
   "cell_type": "code",
   "execution_count": 10,
   "id": "8574d736-73b1-44ca-b0a7-7d4d26d02ea7",
   "metadata": {},
   "outputs": [
    {
     "data": {
      "text/html": [
       "<div>\n",
       "<style scoped>\n",
       "    .dataframe tbody tr th:only-of-type {\n",
       "        vertical-align: middle;\n",
       "    }\n",
       "\n",
       "    .dataframe tbody tr th {\n",
       "        vertical-align: top;\n",
       "    }\n",
       "\n",
       "    .dataframe thead th {\n",
       "        text-align: right;\n",
       "    }\n",
       "</style>\n",
       "<table border=\"1\" class=\"dataframe\">\n",
       "  <thead>\n",
       "    <tr style=\"text-align: right;\">\n",
       "      <th></th>\n",
       "      <th>법정동명</th>\n",
       "      <th>건축물_구조</th>\n",
       "      <th>건물용도</th>\n",
       "      <th>연면적</th>\n",
       "      <th>빈집등급</th>\n",
       "    </tr>\n",
       "  </thead>\n",
       "  <tbody>\n",
       "    <tr>\n",
       "      <th>111</th>\n",
       "      <td>소양로3가</td>\n",
       "      <td>철근콘크리트구조</td>\n",
       "      <td>단독주택(다가구)</td>\n",
       "      <td>525.2350</td>\n",
       "      <td>1</td>\n",
       "    </tr>\n",
       "    <tr>\n",
       "      <th>4</th>\n",
       "      <td>교동</td>\n",
       "      <td>없음</td>\n",
       "      <td>그 외 주택</td>\n",
       "      <td>489.4200</td>\n",
       "      <td>1</td>\n",
       "    </tr>\n",
       "    <tr>\n",
       "      <th>168</th>\n",
       "      <td>옥천동</td>\n",
       "      <td>철근콘크리트구조</td>\n",
       "      <td>공동주택(다세대/연립)</td>\n",
       "      <td>461.8500</td>\n",
       "      <td>1</td>\n",
       "    </tr>\n",
       "    <tr>\n",
       "      <th>182</th>\n",
       "      <td>요선동</td>\n",
       "      <td>철근콘크리트구조</td>\n",
       "      <td>그 외 주택</td>\n",
       "      <td>410.0300</td>\n",
       "      <td>1</td>\n",
       "    </tr>\n",
       "    <tr>\n",
       "      <th>314</th>\n",
       "      <td>효자동</td>\n",
       "      <td>벽돌구조</td>\n",
       "      <td>단독주택(다가구)</td>\n",
       "      <td>349.4700</td>\n",
       "      <td>1</td>\n",
       "    </tr>\n",
       "    <tr>\n",
       "      <th>...</th>\n",
       "      <td>...</td>\n",
       "      <td>...</td>\n",
       "      <td>...</td>\n",
       "      <td>...</td>\n",
       "      <td>...</td>\n",
       "    </tr>\n",
       "    <tr>\n",
       "      <th>161</th>\n",
       "      <td>약사동</td>\n",
       "      <td>일반목구조</td>\n",
       "      <td>단독주택(다가구)</td>\n",
       "      <td>66.8130</td>\n",
       "      <td>1</td>\n",
       "    </tr>\n",
       "    <tr>\n",
       "      <th>11</th>\n",
       "      <td>교동</td>\n",
       "      <td>블록구조</td>\n",
       "      <td>단독주택(다가구)</td>\n",
       "      <td>66.5900</td>\n",
       "      <td>2</td>\n",
       "    </tr>\n",
       "    <tr>\n",
       "      <th>241</th>\n",
       "      <td>조양동</td>\n",
       "      <td>블록구조</td>\n",
       "      <td>단독주택(다가구)</td>\n",
       "      <td>66.5391</td>\n",
       "      <td>2</td>\n",
       "    </tr>\n",
       "    <tr>\n",
       "      <th>339</th>\n",
       "      <td>효자동</td>\n",
       "      <td>일반목구조</td>\n",
       "      <td>단독주택(다가구)</td>\n",
       "      <td>66.3900</td>\n",
       "      <td>1</td>\n",
       "    </tr>\n",
       "    <tr>\n",
       "      <th>76</th>\n",
       "      <td>사농동</td>\n",
       "      <td>블록구조</td>\n",
       "      <td>단독주택(다가구)</td>\n",
       "      <td>66.0600</td>\n",
       "      <td>2</td>\n",
       "    </tr>\n",
       "  </tbody>\n",
       "</table>\n",
       "<p>134 rows × 5 columns</p>\n",
       "</div>"
      ],
      "text/plain": [
       "      법정동명    건축물_구조          건물용도       연면적 빈집등급\n",
       "111  소양로3가  철근콘크리트구조     단독주택(다가구)  525.2350    1\n",
       "4       교동        없음        그 외 주택  489.4200    1\n",
       "168    옥천동  철근콘크리트구조  공동주택(다세대/연립)  461.8500    1\n",
       "182    요선동  철근콘크리트구조        그 외 주택  410.0300    1\n",
       "314    효자동      벽돌구조     단독주택(다가구)  349.4700    1\n",
       "..     ...       ...           ...       ...  ...\n",
       "161    약사동     일반목구조     단독주택(다가구)   66.8130    1\n",
       "11      교동      블록구조     단독주택(다가구)   66.5900    2\n",
       "241    조양동      블록구조     단독주택(다가구)   66.5391    2\n",
       "339    효자동     일반목구조     단독주택(다가구)   66.3900    1\n",
       "76     사농동      블록구조     단독주택(다가구)   66.0600    2\n",
       "\n",
       "[134 rows x 5 columns]"
      ]
     },
     "execution_count": 10,
     "metadata": {},
     "output_type": "execute_result"
    }
   ],
   "source": [
    "# 3, 4 등급 제외(재건축이아니니까)\n",
    "# 66m^2 최소 기준으로 제거 (최소 4인)\n",
    "df1 = df1[(df1['빈집등급'] == '1') | (df1['빈집등급'] == '2')]\n",
    "df1 = df1[df1.연면적 >= 66]\n",
    "df1"
   ]
  },
  {
   "cell_type": "code",
   "execution_count": 11,
   "id": "884f2f5d-fab7-46f4-a82a-ec2347e0ecd0",
   "metadata": {},
   "outputs": [
    {
     "data": {
      "text/plain": [
       "효자동      33\n",
       "후평동      13\n",
       "운교동      10\n",
       "교동        9\n",
       "우두동       8\n",
       "약사동       6\n",
       "퇴계동       6\n",
       "조양동       5\n",
       "삼천동       5\n",
       "신동        5\n",
       "죽림동       4\n",
       "근화동       4\n",
       "소양로3가     4\n",
       "소양로2가     4\n",
       "중앙로3가     4\n",
       "사농동       3\n",
       "요선동       2\n",
       "온의동       2\n",
       "옥천동       2\n",
       "낙원동       2\n",
       "소양로4가     2\n",
       "봉의동       1\n",
       "Name: 법정동명, dtype: int64"
      ]
     },
     "execution_count": 11,
     "metadata": {},
     "output_type": "execute_result"
    }
   ],
   "source": [
    "df1.법정동명.value_counts()"
   ]
  },
  {
   "cell_type": "code",
   "execution_count": 12,
   "id": "e6e02d2c-7709-4aac-af13-351d17a1952b",
   "metadata": {},
   "outputs": [
    {
     "data": {
      "text/html": [
       "<div>\n",
       "<style scoped>\n",
       "    .dataframe tbody tr th:only-of-type {\n",
       "        vertical-align: middle;\n",
       "    }\n",
       "\n",
       "    .dataframe tbody tr th {\n",
       "        vertical-align: top;\n",
       "    }\n",
       "\n",
       "    .dataframe thead th {\n",
       "        text-align: right;\n",
       "    }\n",
       "</style>\n",
       "<table border=\"1\" class=\"dataframe\">\n",
       "  <thead>\n",
       "    <tr style=\"text-align: right;\">\n",
       "      <th></th>\n",
       "      <th>법정동명</th>\n",
       "      <th>건축물_구조</th>\n",
       "      <th>건물용도</th>\n",
       "      <th>연면적</th>\n",
       "      <th>빈집등급</th>\n",
       "    </tr>\n",
       "  </thead>\n",
       "  <tbody>\n",
       "    <tr>\n",
       "      <th>314</th>\n",
       "      <td>효자동</td>\n",
       "      <td>벽돌구조</td>\n",
       "      <td>단독주택(다가구)</td>\n",
       "      <td>349.470</td>\n",
       "      <td>1</td>\n",
       "    </tr>\n",
       "    <tr>\n",
       "      <th>349</th>\n",
       "      <td>효자동</td>\n",
       "      <td>철근콘크리트구조</td>\n",
       "      <td>단독주택(다가구)</td>\n",
       "      <td>234.754</td>\n",
       "      <td>1</td>\n",
       "    </tr>\n",
       "    <tr>\n",
       "      <th>342</th>\n",
       "      <td>효자동</td>\n",
       "      <td>벽돌구조</td>\n",
       "      <td>단독주택(다가구)</td>\n",
       "      <td>183.338</td>\n",
       "      <td>1</td>\n",
       "    </tr>\n",
       "    <tr>\n",
       "      <th>341</th>\n",
       "      <td>효자동</td>\n",
       "      <td>벽돌구조</td>\n",
       "      <td>단독주택(다가구)</td>\n",
       "      <td>154.770</td>\n",
       "      <td>2</td>\n",
       "    </tr>\n",
       "    <tr>\n",
       "      <th>394</th>\n",
       "      <td>효자동</td>\n",
       "      <td>벽돌구조</td>\n",
       "      <td>단독주택(다가구)</td>\n",
       "      <td>144.890</td>\n",
       "      <td>1</td>\n",
       "    </tr>\n",
       "    <tr>\n",
       "      <th>392</th>\n",
       "      <td>효자동</td>\n",
       "      <td>벽돌구조</td>\n",
       "      <td>단독주택(다가구)</td>\n",
       "      <td>143.930</td>\n",
       "      <td>1</td>\n",
       "    </tr>\n",
       "    <tr>\n",
       "      <th>269</th>\n",
       "      <td>효자동</td>\n",
       "      <td>없음</td>\n",
       "      <td>그 외 주택</td>\n",
       "      <td>123.200</td>\n",
       "      <td>1</td>\n",
       "    </tr>\n",
       "    <tr>\n",
       "      <th>277</th>\n",
       "      <td>효자동</td>\n",
       "      <td>벽돌구조</td>\n",
       "      <td>단독주택(다가구)</td>\n",
       "      <td>116.630</td>\n",
       "      <td>1</td>\n",
       "    </tr>\n",
       "    <tr>\n",
       "      <th>293</th>\n",
       "      <td>효자동</td>\n",
       "      <td>벽돌구조</td>\n",
       "      <td>단독주택(다가구)</td>\n",
       "      <td>116.090</td>\n",
       "      <td>1</td>\n",
       "    </tr>\n",
       "    <tr>\n",
       "      <th>297</th>\n",
       "      <td>효자동</td>\n",
       "      <td>일반목구조</td>\n",
       "      <td>단독주택(다가구)</td>\n",
       "      <td>115.444</td>\n",
       "      <td>1</td>\n",
       "    </tr>\n",
       "    <tr>\n",
       "      <th>329</th>\n",
       "      <td>효자동</td>\n",
       "      <td>없음</td>\n",
       "      <td>단독주택(다가구)</td>\n",
       "      <td>103.760</td>\n",
       "      <td>1</td>\n",
       "    </tr>\n",
       "    <tr>\n",
       "      <th>268</th>\n",
       "      <td>효자동</td>\n",
       "      <td>벽돌구조</td>\n",
       "      <td>단독주택(다가구)</td>\n",
       "      <td>98.700</td>\n",
       "      <td>1</td>\n",
       "    </tr>\n",
       "    <tr>\n",
       "      <th>301</th>\n",
       "      <td>효자동</td>\n",
       "      <td>벽돌구조</td>\n",
       "      <td>단독주택(다가구)</td>\n",
       "      <td>95.400</td>\n",
       "      <td>1</td>\n",
       "    </tr>\n",
       "    <tr>\n",
       "      <th>332</th>\n",
       "      <td>효자동</td>\n",
       "      <td>일반목구조</td>\n",
       "      <td>단독주택(다가구)</td>\n",
       "      <td>94.710</td>\n",
       "      <td>2</td>\n",
       "    </tr>\n",
       "    <tr>\n",
       "      <th>294</th>\n",
       "      <td>효자동</td>\n",
       "      <td>일반목구조</td>\n",
       "      <td>단독주택(다가구)</td>\n",
       "      <td>92.860</td>\n",
       "      <td>2</td>\n",
       "    </tr>\n",
       "    <tr>\n",
       "      <th>318</th>\n",
       "      <td>효자동</td>\n",
       "      <td>벽돌구조</td>\n",
       "      <td>단독주택(다가구)</td>\n",
       "      <td>87.420</td>\n",
       "      <td>2</td>\n",
       "    </tr>\n",
       "    <tr>\n",
       "      <th>271</th>\n",
       "      <td>효자동</td>\n",
       "      <td>일반목구조</td>\n",
       "      <td>단독주택(다가구)</td>\n",
       "      <td>85.950</td>\n",
       "      <td>1</td>\n",
       "    </tr>\n",
       "    <tr>\n",
       "      <th>308</th>\n",
       "      <td>효자동</td>\n",
       "      <td>일반목구조</td>\n",
       "      <td>단독주택(다가구)</td>\n",
       "      <td>85.810</td>\n",
       "      <td>1</td>\n",
       "    </tr>\n",
       "    <tr>\n",
       "      <th>338</th>\n",
       "      <td>효자동</td>\n",
       "      <td>블록구조</td>\n",
       "      <td>단독주택(다가구)</td>\n",
       "      <td>85.520</td>\n",
       "      <td>2</td>\n",
       "    </tr>\n",
       "    <tr>\n",
       "      <th>345</th>\n",
       "      <td>효자동</td>\n",
       "      <td>벽돌구조</td>\n",
       "      <td>단독주택(다가구)</td>\n",
       "      <td>83.828</td>\n",
       "      <td>2</td>\n",
       "    </tr>\n",
       "    <tr>\n",
       "      <th>275</th>\n",
       "      <td>효자동</td>\n",
       "      <td>석구조</td>\n",
       "      <td>단독주택(다가구)</td>\n",
       "      <td>82.459</td>\n",
       "      <td>1</td>\n",
       "    </tr>\n",
       "    <tr>\n",
       "      <th>328</th>\n",
       "      <td>효자동</td>\n",
       "      <td>없음</td>\n",
       "      <td>그 외 주택</td>\n",
       "      <td>77.680</td>\n",
       "      <td>2</td>\n",
       "    </tr>\n",
       "    <tr>\n",
       "      <th>327</th>\n",
       "      <td>효자동</td>\n",
       "      <td>없음</td>\n",
       "      <td>그 외 주택</td>\n",
       "      <td>77.680</td>\n",
       "      <td>2</td>\n",
       "    </tr>\n",
       "    <tr>\n",
       "      <th>395</th>\n",
       "      <td>효자동</td>\n",
       "      <td>일반목구조</td>\n",
       "      <td>단독주택(다가구)</td>\n",
       "      <td>74.700</td>\n",
       "      <td>1</td>\n",
       "    </tr>\n",
       "    <tr>\n",
       "      <th>299</th>\n",
       "      <td>효자동</td>\n",
       "      <td>일반목구조</td>\n",
       "      <td>단독주택(다가구)</td>\n",
       "      <td>73.980</td>\n",
       "      <td>2</td>\n",
       "    </tr>\n",
       "    <tr>\n",
       "      <th>335</th>\n",
       "      <td>효자동</td>\n",
       "      <td>벽돌구조</td>\n",
       "      <td>단독주택(다가구)</td>\n",
       "      <td>73.410</td>\n",
       "      <td>1</td>\n",
       "    </tr>\n",
       "    <tr>\n",
       "      <th>298</th>\n",
       "      <td>효자동</td>\n",
       "      <td>일반목구조</td>\n",
       "      <td>단독주택(다가구)</td>\n",
       "      <td>72.210</td>\n",
       "      <td>2</td>\n",
       "    </tr>\n",
       "    <tr>\n",
       "      <th>311</th>\n",
       "      <td>효자동</td>\n",
       "      <td>일반목구조</td>\n",
       "      <td>단독주택(다가구)</td>\n",
       "      <td>71.750</td>\n",
       "      <td>1</td>\n",
       "    </tr>\n",
       "    <tr>\n",
       "      <th>336</th>\n",
       "      <td>효자동</td>\n",
       "      <td>블록구조</td>\n",
       "      <td>단독주택(다가구)</td>\n",
       "      <td>70.778</td>\n",
       "      <td>2</td>\n",
       "    </tr>\n",
       "    <tr>\n",
       "      <th>300</th>\n",
       "      <td>효자동</td>\n",
       "      <td>일반목구조</td>\n",
       "      <td>단독주택(다가구)</td>\n",
       "      <td>70.300</td>\n",
       "      <td>1</td>\n",
       "    </tr>\n",
       "    <tr>\n",
       "      <th>315</th>\n",
       "      <td>효자동</td>\n",
       "      <td>일반목구조</td>\n",
       "      <td>단독주택(다가구)</td>\n",
       "      <td>66.910</td>\n",
       "      <td>1</td>\n",
       "    </tr>\n",
       "    <tr>\n",
       "      <th>289</th>\n",
       "      <td>효자동</td>\n",
       "      <td>일반목구조</td>\n",
       "      <td>단독주택(다가구)</td>\n",
       "      <td>66.866</td>\n",
       "      <td>1</td>\n",
       "    </tr>\n",
       "    <tr>\n",
       "      <th>339</th>\n",
       "      <td>효자동</td>\n",
       "      <td>일반목구조</td>\n",
       "      <td>단독주택(다가구)</td>\n",
       "      <td>66.390</td>\n",
       "      <td>1</td>\n",
       "    </tr>\n",
       "  </tbody>\n",
       "</table>\n",
       "</div>"
      ],
      "text/plain": [
       "    법정동명    건축물_구조       건물용도      연면적 빈집등급\n",
       "314  효자동      벽돌구조  단독주택(다가구)  349.470    1\n",
       "349  효자동  철근콘크리트구조  단독주택(다가구)  234.754    1\n",
       "342  효자동      벽돌구조  단독주택(다가구)  183.338    1\n",
       "341  효자동      벽돌구조  단독주택(다가구)  154.770    2\n",
       "394  효자동      벽돌구조  단독주택(다가구)  144.890    1\n",
       "392  효자동      벽돌구조  단독주택(다가구)  143.930    1\n",
       "269  효자동        없음     그 외 주택  123.200    1\n",
       "277  효자동      벽돌구조  단독주택(다가구)  116.630    1\n",
       "293  효자동      벽돌구조  단독주택(다가구)  116.090    1\n",
       "297  효자동     일반목구조  단독주택(다가구)  115.444    1\n",
       "329  효자동        없음  단독주택(다가구)  103.760    1\n",
       "268  효자동      벽돌구조  단독주택(다가구)   98.700    1\n",
       "301  효자동      벽돌구조  단독주택(다가구)   95.400    1\n",
       "332  효자동     일반목구조  단독주택(다가구)   94.710    2\n",
       "294  효자동     일반목구조  단독주택(다가구)   92.860    2\n",
       "318  효자동      벽돌구조  단독주택(다가구)   87.420    2\n",
       "271  효자동     일반목구조  단독주택(다가구)   85.950    1\n",
       "308  효자동     일반목구조  단독주택(다가구)   85.810    1\n",
       "338  효자동      블록구조  단독주택(다가구)   85.520    2\n",
       "345  효자동      벽돌구조  단독주택(다가구)   83.828    2\n",
       "275  효자동       석구조  단독주택(다가구)   82.459    1\n",
       "328  효자동        없음     그 외 주택   77.680    2\n",
       "327  효자동        없음     그 외 주택   77.680    2\n",
       "395  효자동     일반목구조  단독주택(다가구)   74.700    1\n",
       "299  효자동     일반목구조  단독주택(다가구)   73.980    2\n",
       "335  효자동      벽돌구조  단독주택(다가구)   73.410    1\n",
       "298  효자동     일반목구조  단독주택(다가구)   72.210    2\n",
       "311  효자동     일반목구조  단독주택(다가구)   71.750    1\n",
       "336  효자동      블록구조  단독주택(다가구)   70.778    2\n",
       "300  효자동     일반목구조  단독주택(다가구)   70.300    1\n",
       "315  효자동     일반목구조  단독주택(다가구)   66.910    1\n",
       "289  효자동     일반목구조  단독주택(다가구)   66.866    1\n",
       "339  효자동     일반목구조  단독주택(다가구)   66.390    1"
      ]
     },
     "execution_count": 12,
     "metadata": {},
     "output_type": "execute_result"
    }
   ],
   "source": [
    "df1[df1.법정동명 == '효자동']"
   ]
  },
  {
   "cell_type": "code",
   "execution_count": 13,
   "id": "1f82e73c-6156-4424-bd55-3817234ad208",
   "metadata": {},
   "outputs": [
    {
     "data": {
      "text/html": [
       "<div>\n",
       "<style scoped>\n",
       "    .dataframe tbody tr th:only-of-type {\n",
       "        vertical-align: middle;\n",
       "    }\n",
       "\n",
       "    .dataframe tbody tr th {\n",
       "        vertical-align: top;\n",
       "    }\n",
       "\n",
       "    .dataframe thead th {\n",
       "        text-align: right;\n",
       "    }\n",
       "</style>\n",
       "<table border=\"1\" class=\"dataframe\">\n",
       "  <thead>\n",
       "    <tr style=\"text-align: right;\">\n",
       "      <th></th>\n",
       "      <th>법정동명</th>\n",
       "      <th>연면적</th>\n",
       "    </tr>\n",
       "  </thead>\n",
       "  <tbody>\n",
       "    <tr>\n",
       "      <th>11</th>\n",
       "      <td>옥천동</td>\n",
       "      <td>311.315000</td>\n",
       "    </tr>\n",
       "    <tr>\n",
       "      <th>13</th>\n",
       "      <td>요선동</td>\n",
       "      <td>242.455000</td>\n",
       "    </tr>\n",
       "    <tr>\n",
       "      <th>7</th>\n",
       "      <td>소양로3가</td>\n",
       "      <td>233.158750</td>\n",
       "    </tr>\n",
       "    <tr>\n",
       "      <th>0</th>\n",
       "      <td>교동</td>\n",
       "      <td>147.991000</td>\n",
       "    </tr>\n",
       "    <tr>\n",
       "      <th>6</th>\n",
       "      <td>소양로2가</td>\n",
       "      <td>128.746000</td>\n",
       "    </tr>\n",
       "    <tr>\n",
       "      <th>15</th>\n",
       "      <td>운교동</td>\n",
       "      <td>128.202890</td>\n",
       "    </tr>\n",
       "    <tr>\n",
       "      <th>21</th>\n",
       "      <td>후평동</td>\n",
       "      <td>127.163077</td>\n",
       "    </tr>\n",
       "    <tr>\n",
       "      <th>5</th>\n",
       "      <td>삼천동</td>\n",
       "      <td>111.802200</td>\n",
       "    </tr>\n",
       "    <tr>\n",
       "      <th>20</th>\n",
       "      <td>효자동</td>\n",
       "      <td>107.320818</td>\n",
       "    </tr>\n",
       "    <tr>\n",
       "      <th>1</th>\n",
       "      <td>근화동</td>\n",
       "      <td>106.674750</td>\n",
       "    </tr>\n",
       "    <tr>\n",
       "      <th>9</th>\n",
       "      <td>신동</td>\n",
       "      <td>105.777680</td>\n",
       "    </tr>\n",
       "    <tr>\n",
       "      <th>3</th>\n",
       "      <td>봉의동</td>\n",
       "      <td>105.414000</td>\n",
       "    </tr>\n",
       "    <tr>\n",
       "      <th>16</th>\n",
       "      <td>조양동</td>\n",
       "      <td>99.013420</td>\n",
       "    </tr>\n",
       "    <tr>\n",
       "      <th>19</th>\n",
       "      <td>퇴계동</td>\n",
       "      <td>92.779833</td>\n",
       "    </tr>\n",
       "    <tr>\n",
       "      <th>8</th>\n",
       "      <td>소양로4가</td>\n",
       "      <td>92.011950</td>\n",
       "    </tr>\n",
       "    <tr>\n",
       "      <th>10</th>\n",
       "      <td>약사동</td>\n",
       "      <td>89.255517</td>\n",
       "    </tr>\n",
       "    <tr>\n",
       "      <th>14</th>\n",
       "      <td>우두동</td>\n",
       "      <td>89.227000</td>\n",
       "    </tr>\n",
       "    <tr>\n",
       "      <th>12</th>\n",
       "      <td>온의동</td>\n",
       "      <td>87.560000</td>\n",
       "    </tr>\n",
       "    <tr>\n",
       "      <th>2</th>\n",
       "      <td>낙원동</td>\n",
       "      <td>85.107000</td>\n",
       "    </tr>\n",
       "    <tr>\n",
       "      <th>17</th>\n",
       "      <td>죽림동</td>\n",
       "      <td>79.599250</td>\n",
       "    </tr>\n",
       "    <tr>\n",
       "      <th>4</th>\n",
       "      <td>사농동</td>\n",
       "      <td>78.690000</td>\n",
       "    </tr>\n",
       "    <tr>\n",
       "      <th>18</th>\n",
       "      <td>중앙로3가</td>\n",
       "      <td>71.894750</td>\n",
       "    </tr>\n",
       "  </tbody>\n",
       "</table>\n",
       "</div>"
      ],
      "text/plain": [
       "     법정동명         연면적\n",
       "11    옥천동  311.315000\n",
       "13    요선동  242.455000\n",
       "7   소양로3가  233.158750\n",
       "0      교동  147.991000\n",
       "6   소양로2가  128.746000\n",
       "15    운교동  128.202890\n",
       "21    후평동  127.163077\n",
       "5     삼천동  111.802200\n",
       "20    효자동  107.320818\n",
       "1     근화동  106.674750\n",
       "9      신동  105.777680\n",
       "3     봉의동  105.414000\n",
       "16    조양동   99.013420\n",
       "19    퇴계동   92.779833\n",
       "8   소양로4가   92.011950\n",
       "10    약사동   89.255517\n",
       "14    우두동   89.227000\n",
       "12    온의동   87.560000\n",
       "2     낙원동   85.107000\n",
       "17    죽림동   79.599250\n",
       "4     사농동   78.690000\n",
       "18  중앙로3가   71.894750"
      ]
     },
     "execution_count": 13,
     "metadata": {},
     "output_type": "execute_result"
    }
   ],
   "source": [
    "df1_size = df1.groupby('법정동명').mean().reset_index()\n",
    "df1_size = df1_size.sort_values('연면적', ascending=False)\n",
    "df1_size"
   ]
  },
  {
   "cell_type": "code",
   "execution_count": 14,
   "id": "e18f97db-51a7-425a-ba75-6d64b95d3b31",
   "metadata": {},
   "outputs": [
    {
     "data": {
      "text/html": [
       "<div>\n",
       "<style scoped>\n",
       "    .dataframe tbody tr th:only-of-type {\n",
       "        vertical-align: middle;\n",
       "    }\n",
       "\n",
       "    .dataframe tbody tr th {\n",
       "        vertical-align: top;\n",
       "    }\n",
       "\n",
       "    .dataframe thead th {\n",
       "        text-align: right;\n",
       "    }\n",
       "</style>\n",
       "<table border=\"1\" class=\"dataframe\">\n",
       "  <thead>\n",
       "    <tr style=\"text-align: right;\">\n",
       "      <th></th>\n",
       "      <th>법정동명</th>\n",
       "      <th>건축물_구조</th>\n",
       "    </tr>\n",
       "  </thead>\n",
       "  <tbody>\n",
       "    <tr>\n",
       "      <th>20</th>\n",
       "      <td>효자동</td>\n",
       "      <td>33</td>\n",
       "    </tr>\n",
       "    <tr>\n",
       "      <th>21</th>\n",
       "      <td>후평동</td>\n",
       "      <td>13</td>\n",
       "    </tr>\n",
       "    <tr>\n",
       "      <th>15</th>\n",
       "      <td>운교동</td>\n",
       "      <td>10</td>\n",
       "    </tr>\n",
       "    <tr>\n",
       "      <th>0</th>\n",
       "      <td>교동</td>\n",
       "      <td>9</td>\n",
       "    </tr>\n",
       "    <tr>\n",
       "      <th>14</th>\n",
       "      <td>우두동</td>\n",
       "      <td>8</td>\n",
       "    </tr>\n",
       "    <tr>\n",
       "      <th>10</th>\n",
       "      <td>약사동</td>\n",
       "      <td>6</td>\n",
       "    </tr>\n",
       "    <tr>\n",
       "      <th>19</th>\n",
       "      <td>퇴계동</td>\n",
       "      <td>6</td>\n",
       "    </tr>\n",
       "    <tr>\n",
       "      <th>9</th>\n",
       "      <td>신동</td>\n",
       "      <td>5</td>\n",
       "    </tr>\n",
       "    <tr>\n",
       "      <th>5</th>\n",
       "      <td>삼천동</td>\n",
       "      <td>5</td>\n",
       "    </tr>\n",
       "    <tr>\n",
       "      <th>16</th>\n",
       "      <td>조양동</td>\n",
       "      <td>5</td>\n",
       "    </tr>\n",
       "    <tr>\n",
       "      <th>17</th>\n",
       "      <td>죽림동</td>\n",
       "      <td>4</td>\n",
       "    </tr>\n",
       "    <tr>\n",
       "      <th>6</th>\n",
       "      <td>소양로2가</td>\n",
       "      <td>4</td>\n",
       "    </tr>\n",
       "    <tr>\n",
       "      <th>7</th>\n",
       "      <td>소양로3가</td>\n",
       "      <td>4</td>\n",
       "    </tr>\n",
       "    <tr>\n",
       "      <th>1</th>\n",
       "      <td>근화동</td>\n",
       "      <td>4</td>\n",
       "    </tr>\n",
       "    <tr>\n",
       "      <th>18</th>\n",
       "      <td>중앙로3가</td>\n",
       "      <td>4</td>\n",
       "    </tr>\n",
       "    <tr>\n",
       "      <th>4</th>\n",
       "      <td>사농동</td>\n",
       "      <td>3</td>\n",
       "    </tr>\n",
       "    <tr>\n",
       "      <th>2</th>\n",
       "      <td>낙원동</td>\n",
       "      <td>2</td>\n",
       "    </tr>\n",
       "    <tr>\n",
       "      <th>13</th>\n",
       "      <td>요선동</td>\n",
       "      <td>2</td>\n",
       "    </tr>\n",
       "    <tr>\n",
       "      <th>12</th>\n",
       "      <td>온의동</td>\n",
       "      <td>2</td>\n",
       "    </tr>\n",
       "    <tr>\n",
       "      <th>8</th>\n",
       "      <td>소양로4가</td>\n",
       "      <td>2</td>\n",
       "    </tr>\n",
       "    <tr>\n",
       "      <th>11</th>\n",
       "      <td>옥천동</td>\n",
       "      <td>2</td>\n",
       "    </tr>\n",
       "    <tr>\n",
       "      <th>3</th>\n",
       "      <td>봉의동</td>\n",
       "      <td>1</td>\n",
       "    </tr>\n",
       "  </tbody>\n",
       "</table>\n",
       "</div>"
      ],
      "text/plain": [
       "     법정동명  건축물_구조\n",
       "20    효자동      33\n",
       "21    후평동      13\n",
       "15    운교동      10\n",
       "0      교동       9\n",
       "14    우두동       8\n",
       "10    약사동       6\n",
       "19    퇴계동       6\n",
       "9      신동       5\n",
       "5     삼천동       5\n",
       "16    조양동       5\n",
       "17    죽림동       4\n",
       "6   소양로2가       4\n",
       "7   소양로3가       4\n",
       "1     근화동       4\n",
       "18  중앙로3가       4\n",
       "4     사농동       3\n",
       "2     낙원동       2\n",
       "13    요선동       2\n",
       "12    온의동       2\n",
       "8   소양로4가       2\n",
       "11    옥천동       2\n",
       "3     봉의동       1"
      ]
     },
     "execution_count": 14,
     "metadata": {},
     "output_type": "execute_result"
    }
   ],
   "source": [
    "df1_count = df1.groupby('법정동명').count().reset_index()\n",
    "df1_count = df1_count[['법정동명', '건축물_구조']]\n",
    "df1_count = df1_count.sort_values('건축물_구조', ascending=False)\n",
    "df1_count"
   ]
  },
  {
   "cell_type": "code",
   "execution_count": 15,
   "id": "93a1ffc2-b96c-405e-a232-b4eabac85370",
   "metadata": {},
   "outputs": [
    {
     "data": {
      "text/html": [
       "<div>\n",
       "<style scoped>\n",
       "    .dataframe tbody tr th:only-of-type {\n",
       "        vertical-align: middle;\n",
       "    }\n",
       "\n",
       "    .dataframe tbody tr th {\n",
       "        vertical-align: top;\n",
       "    }\n",
       "\n",
       "    .dataframe thead th {\n",
       "        text-align: right;\n",
       "    }\n",
       "</style>\n",
       "<table border=\"1\" class=\"dataframe\">\n",
       "  <thead>\n",
       "    <tr style=\"text-align: right;\">\n",
       "      <th></th>\n",
       "      <th>법정동명</th>\n",
       "      <th>연면적</th>\n",
       "      <th>건축물_구조</th>\n",
       "    </tr>\n",
       "  </thead>\n",
       "  <tbody>\n",
       "    <tr>\n",
       "      <th>0</th>\n",
       "      <td>옥천동</td>\n",
       "      <td>311.315000</td>\n",
       "      <td>2</td>\n",
       "    </tr>\n",
       "    <tr>\n",
       "      <th>1</th>\n",
       "      <td>요선동</td>\n",
       "      <td>242.455000</td>\n",
       "      <td>2</td>\n",
       "    </tr>\n",
       "    <tr>\n",
       "      <th>2</th>\n",
       "      <td>소양로3가</td>\n",
       "      <td>233.158750</td>\n",
       "      <td>4</td>\n",
       "    </tr>\n",
       "    <tr>\n",
       "      <th>3</th>\n",
       "      <td>교동</td>\n",
       "      <td>147.991000</td>\n",
       "      <td>9</td>\n",
       "    </tr>\n",
       "    <tr>\n",
       "      <th>4</th>\n",
       "      <td>소양로2가</td>\n",
       "      <td>128.746000</td>\n",
       "      <td>4</td>\n",
       "    </tr>\n",
       "    <tr>\n",
       "      <th>5</th>\n",
       "      <td>운교동</td>\n",
       "      <td>128.202890</td>\n",
       "      <td>10</td>\n",
       "    </tr>\n",
       "    <tr>\n",
       "      <th>6</th>\n",
       "      <td>후평동</td>\n",
       "      <td>127.163077</td>\n",
       "      <td>13</td>\n",
       "    </tr>\n",
       "    <tr>\n",
       "      <th>7</th>\n",
       "      <td>삼천동</td>\n",
       "      <td>111.802200</td>\n",
       "      <td>5</td>\n",
       "    </tr>\n",
       "    <tr>\n",
       "      <th>8</th>\n",
       "      <td>효자동</td>\n",
       "      <td>107.320818</td>\n",
       "      <td>33</td>\n",
       "    </tr>\n",
       "    <tr>\n",
       "      <th>9</th>\n",
       "      <td>근화동</td>\n",
       "      <td>106.674750</td>\n",
       "      <td>4</td>\n",
       "    </tr>\n",
       "    <tr>\n",
       "      <th>10</th>\n",
       "      <td>신동</td>\n",
       "      <td>105.777680</td>\n",
       "      <td>5</td>\n",
       "    </tr>\n",
       "    <tr>\n",
       "      <th>11</th>\n",
       "      <td>봉의동</td>\n",
       "      <td>105.414000</td>\n",
       "      <td>1</td>\n",
       "    </tr>\n",
       "    <tr>\n",
       "      <th>12</th>\n",
       "      <td>조양동</td>\n",
       "      <td>99.013420</td>\n",
       "      <td>5</td>\n",
       "    </tr>\n",
       "    <tr>\n",
       "      <th>13</th>\n",
       "      <td>퇴계동</td>\n",
       "      <td>92.779833</td>\n",
       "      <td>6</td>\n",
       "    </tr>\n",
       "    <tr>\n",
       "      <th>14</th>\n",
       "      <td>소양로4가</td>\n",
       "      <td>92.011950</td>\n",
       "      <td>2</td>\n",
       "    </tr>\n",
       "    <tr>\n",
       "      <th>15</th>\n",
       "      <td>약사동</td>\n",
       "      <td>89.255517</td>\n",
       "      <td>6</td>\n",
       "    </tr>\n",
       "    <tr>\n",
       "      <th>16</th>\n",
       "      <td>우두동</td>\n",
       "      <td>89.227000</td>\n",
       "      <td>8</td>\n",
       "    </tr>\n",
       "    <tr>\n",
       "      <th>17</th>\n",
       "      <td>온의동</td>\n",
       "      <td>87.560000</td>\n",
       "      <td>2</td>\n",
       "    </tr>\n",
       "    <tr>\n",
       "      <th>18</th>\n",
       "      <td>낙원동</td>\n",
       "      <td>85.107000</td>\n",
       "      <td>2</td>\n",
       "    </tr>\n",
       "    <tr>\n",
       "      <th>19</th>\n",
       "      <td>죽림동</td>\n",
       "      <td>79.599250</td>\n",
       "      <td>4</td>\n",
       "    </tr>\n",
       "    <tr>\n",
       "      <th>20</th>\n",
       "      <td>사농동</td>\n",
       "      <td>78.690000</td>\n",
       "      <td>3</td>\n",
       "    </tr>\n",
       "    <tr>\n",
       "      <th>21</th>\n",
       "      <td>중앙로3가</td>\n",
       "      <td>71.894750</td>\n",
       "      <td>4</td>\n",
       "    </tr>\n",
       "  </tbody>\n",
       "</table>\n",
       "</div>"
      ],
      "text/plain": [
       "     법정동명         연면적  건축물_구조\n",
       "0     옥천동  311.315000       2\n",
       "1     요선동  242.455000       2\n",
       "2   소양로3가  233.158750       4\n",
       "3      교동  147.991000       9\n",
       "4   소양로2가  128.746000       4\n",
       "5     운교동  128.202890      10\n",
       "6     후평동  127.163077      13\n",
       "7     삼천동  111.802200       5\n",
       "8     효자동  107.320818      33\n",
       "9     근화동  106.674750       4\n",
       "10     신동  105.777680       5\n",
       "11    봉의동  105.414000       1\n",
       "12    조양동   99.013420       5\n",
       "13    퇴계동   92.779833       6\n",
       "14  소양로4가   92.011950       2\n",
       "15    약사동   89.255517       6\n",
       "16    우두동   89.227000       8\n",
       "17    온의동   87.560000       2\n",
       "18    낙원동   85.107000       2\n",
       "19    죽림동   79.599250       4\n",
       "20    사농동   78.690000       3\n",
       "21  중앙로3가   71.894750       4"
      ]
     },
     "execution_count": 15,
     "metadata": {},
     "output_type": "execute_result"
    }
   ],
   "source": [
    "# 법정동을 기준으로 합친다\n",
    "df_empty = pd.merge(df1_size, df1_count)\n",
    "df_empty"
   ]
  },
  {
   "cell_type": "code",
   "execution_count": 16,
   "id": "25207100-4a0e-4128-bce6-6e5d00e98895",
   "metadata": {},
   "outputs": [
    {
     "data": {
      "text/html": [
       "<div>\n",
       "<style scoped>\n",
       "    .dataframe tbody tr th:only-of-type {\n",
       "        vertical-align: middle;\n",
       "    }\n",
       "\n",
       "    .dataframe tbody tr th {\n",
       "        vertical-align: top;\n",
       "    }\n",
       "\n",
       "    .dataframe thead th {\n",
       "        text-align: right;\n",
       "    }\n",
       "</style>\n",
       "<table border=\"1\" class=\"dataframe\">\n",
       "  <thead>\n",
       "    <tr style=\"text-align: right;\">\n",
       "      <th></th>\n",
       "      <th>읍면동</th>\n",
       "      <th>연면적</th>\n",
       "      <th>계</th>\n",
       "    </tr>\n",
       "  </thead>\n",
       "  <tbody>\n",
       "    <tr>\n",
       "      <th>0</th>\n",
       "      <td>옥천동</td>\n",
       "      <td>311.315000</td>\n",
       "      <td>2</td>\n",
       "    </tr>\n",
       "    <tr>\n",
       "      <th>1</th>\n",
       "      <td>요선동</td>\n",
       "      <td>242.455000</td>\n",
       "      <td>2</td>\n",
       "    </tr>\n",
       "    <tr>\n",
       "      <th>2</th>\n",
       "      <td>소양로3가</td>\n",
       "      <td>233.158750</td>\n",
       "      <td>4</td>\n",
       "    </tr>\n",
       "    <tr>\n",
       "      <th>3</th>\n",
       "      <td>교동</td>\n",
       "      <td>147.991000</td>\n",
       "      <td>9</td>\n",
       "    </tr>\n",
       "    <tr>\n",
       "      <th>4</th>\n",
       "      <td>소양로2가</td>\n",
       "      <td>128.746000</td>\n",
       "      <td>4</td>\n",
       "    </tr>\n",
       "    <tr>\n",
       "      <th>5</th>\n",
       "      <td>운교동</td>\n",
       "      <td>128.202890</td>\n",
       "      <td>10</td>\n",
       "    </tr>\n",
       "    <tr>\n",
       "      <th>6</th>\n",
       "      <td>후평동</td>\n",
       "      <td>127.163077</td>\n",
       "      <td>13</td>\n",
       "    </tr>\n",
       "    <tr>\n",
       "      <th>7</th>\n",
       "      <td>삼천동</td>\n",
       "      <td>111.802200</td>\n",
       "      <td>5</td>\n",
       "    </tr>\n",
       "    <tr>\n",
       "      <th>8</th>\n",
       "      <td>효자동</td>\n",
       "      <td>107.320818</td>\n",
       "      <td>33</td>\n",
       "    </tr>\n",
       "    <tr>\n",
       "      <th>9</th>\n",
       "      <td>근화동</td>\n",
       "      <td>106.674750</td>\n",
       "      <td>4</td>\n",
       "    </tr>\n",
       "    <tr>\n",
       "      <th>10</th>\n",
       "      <td>신동</td>\n",
       "      <td>105.777680</td>\n",
       "      <td>5</td>\n",
       "    </tr>\n",
       "    <tr>\n",
       "      <th>11</th>\n",
       "      <td>봉의동</td>\n",
       "      <td>105.414000</td>\n",
       "      <td>1</td>\n",
       "    </tr>\n",
       "    <tr>\n",
       "      <th>12</th>\n",
       "      <td>조양동</td>\n",
       "      <td>99.013420</td>\n",
       "      <td>5</td>\n",
       "    </tr>\n",
       "    <tr>\n",
       "      <th>13</th>\n",
       "      <td>퇴계동</td>\n",
       "      <td>92.779833</td>\n",
       "      <td>6</td>\n",
       "    </tr>\n",
       "    <tr>\n",
       "      <th>14</th>\n",
       "      <td>소양로4가</td>\n",
       "      <td>92.011950</td>\n",
       "      <td>2</td>\n",
       "    </tr>\n",
       "    <tr>\n",
       "      <th>15</th>\n",
       "      <td>약사동</td>\n",
       "      <td>89.255517</td>\n",
       "      <td>6</td>\n",
       "    </tr>\n",
       "    <tr>\n",
       "      <th>16</th>\n",
       "      <td>우두동</td>\n",
       "      <td>89.227000</td>\n",
       "      <td>8</td>\n",
       "    </tr>\n",
       "    <tr>\n",
       "      <th>17</th>\n",
       "      <td>온의동</td>\n",
       "      <td>87.560000</td>\n",
       "      <td>2</td>\n",
       "    </tr>\n",
       "    <tr>\n",
       "      <th>18</th>\n",
       "      <td>낙원동</td>\n",
       "      <td>85.107000</td>\n",
       "      <td>2</td>\n",
       "    </tr>\n",
       "    <tr>\n",
       "      <th>19</th>\n",
       "      <td>죽림동</td>\n",
       "      <td>79.599250</td>\n",
       "      <td>4</td>\n",
       "    </tr>\n",
       "    <tr>\n",
       "      <th>20</th>\n",
       "      <td>사농동</td>\n",
       "      <td>78.690000</td>\n",
       "      <td>3</td>\n",
       "    </tr>\n",
       "    <tr>\n",
       "      <th>21</th>\n",
       "      <td>중앙로3가</td>\n",
       "      <td>71.894750</td>\n",
       "      <td>4</td>\n",
       "    </tr>\n",
       "  </tbody>\n",
       "</table>\n",
       "</div>"
      ],
      "text/plain": [
       "      읍면동         연면적   계\n",
       "0     옥천동  311.315000   2\n",
       "1     요선동  242.455000   2\n",
       "2   소양로3가  233.158750   4\n",
       "3      교동  147.991000   9\n",
       "4   소양로2가  128.746000   4\n",
       "5     운교동  128.202890  10\n",
       "6     후평동  127.163077  13\n",
       "7     삼천동  111.802200   5\n",
       "8     효자동  107.320818  33\n",
       "9     근화동  106.674750   4\n",
       "10     신동  105.777680   5\n",
       "11    봉의동  105.414000   1\n",
       "12    조양동   99.013420   5\n",
       "13    퇴계동   92.779833   6\n",
       "14  소양로4가   92.011950   2\n",
       "15    약사동   89.255517   6\n",
       "16    우두동   89.227000   8\n",
       "17    온의동   87.560000   2\n",
       "18    낙원동   85.107000   2\n",
       "19    죽림동   79.599250   4\n",
       "20    사농동   78.690000   3\n",
       "21  중앙로3가   71.894750   4"
      ]
     },
     "execution_count": 16,
     "metadata": {},
     "output_type": "execute_result"
    }
   ],
   "source": [
    "df_empty.columns = ['읍면동', '연면적', '계']\n",
    "df_empty"
   ]
  },
  {
   "cell_type": "markdown",
   "id": "97bae0dd-d69d-4a36-9660-fec17ee0fcc7",
   "metadata": {},
   "source": [
    "# 이용자정보"
   ]
  },
  {
   "cell_type": "code",
   "execution_count": 17,
   "id": "56e44f02-c9ea-483c-8ebb-5ee7d97d15cf",
   "metadata": {},
   "outputs": [
    {
     "name": "stdout",
     "output_type": "stream",
     "text": [
      "<class 'pandas.core.frame.DataFrame'>\n",
      "RangeIndex: 984662 entries, 0 to 984661\n",
      "Data columns (total 17 columns):\n",
      " #   Column   Non-Null Count   Dtype         \n",
      "---  ------   --------------   -----         \n",
      " 0   상호명      984662 non-null  object        \n",
      " 1   날짜       984662 non-null  datetime64[ns]\n",
      " 2   업종       984662 non-null  object        \n",
      " 3   위도       984662 non-null  float64       \n",
      " 4   경도       984662 non-null  float64       \n",
      " 5   시도       984662 non-null  object        \n",
      " 6   시군구      984662 non-null  object        \n",
      " 7   읍면동      984662 non-null  object        \n",
      " 8   이용자수     984662 non-null  int64         \n",
      " 9   남성비율     984662 non-null  float64       \n",
      " 10  여성비율     984662 non-null  float64       \n",
      " 11  10대비율    984662 non-null  float64       \n",
      " 12  20대비율    984662 non-null  float64       \n",
      " 13  30대비율    984662 non-null  float64       \n",
      " 14  40대비율    984662 non-null  float64       \n",
      " 15  50대이상비율  984662 non-null  float64       \n",
      " 16  데이터기준일   984662 non-null  object        \n",
      "dtypes: datetime64[ns](1), float64(9), int64(1), object(6)\n",
      "memory usage: 127.7+ MB\n"
     ]
    }
   ],
   "source": [
    "# 날짜를 시계열로\n",
    "df2.날짜 = pd.to_datetime(df2.날짜)\n",
    "df2.info()"
   ]
  },
  {
   "cell_type": "code",
   "execution_count": 18,
   "id": "efae3e5b-cde2-4672-9e0d-a662e33bfaf5",
   "metadata": {},
   "outputs": [
    {
     "data": {
      "text/plain": [
       "석사동        254492\n",
       "동내면 거두리     82106\n",
       "후평동         76372\n",
       "효자동         74542\n",
       "근화동         65758\n",
       "            ...  \n",
       "소양동           244\n",
       "강남동           244\n",
       "봉의동           244\n",
       "신북읍 지내리       122\n",
       "신북읍 유포리       122\n",
       "Name: 읍면동, Length: 71, dtype: int64"
      ]
     },
     "execution_count": 18,
     "metadata": {},
     "output_type": "execute_result"
    }
   ],
   "source": [
    "df2.읍면동.value_counts()"
   ]
  },
  {
   "cell_type": "code",
   "execution_count": 19,
   "id": "11f9acf1-e6d1-4e0a-9a2b-a5eb50a94d8e",
   "metadata": {},
   "outputs": [],
   "source": [
    "# 읍면동에서 xx리를 제거한다\n",
    "idx = df2[df2['읍면동'].str.endswith('리')].index\n",
    "dong = df2[df2['읍면동'].str.endswith('리')]"
   ]
  },
  {
   "cell_type": "code",
   "execution_count": 20,
   "id": "4e6c432b-7057-43b3-9788-0d55e9e69e06",
   "metadata": {},
   "outputs": [
    {
     "data": {
      "text/html": [
       "<div>\n",
       "<style scoped>\n",
       "    .dataframe tbody tr th:only-of-type {\n",
       "        vertical-align: middle;\n",
       "    }\n",
       "\n",
       "    .dataframe tbody tr th {\n",
       "        vertical-align: top;\n",
       "    }\n",
       "\n",
       "    .dataframe thead th {\n",
       "        text-align: right;\n",
       "    }\n",
       "</style>\n",
       "<table border=\"1\" class=\"dataframe\">\n",
       "  <thead>\n",
       "    <tr style=\"text-align: right;\">\n",
       "      <th></th>\n",
       "      <th>상호명</th>\n",
       "      <th>날짜</th>\n",
       "      <th>업종</th>\n",
       "      <th>위도</th>\n",
       "      <th>경도</th>\n",
       "      <th>시도</th>\n",
       "      <th>시군구</th>\n",
       "      <th>읍면동</th>\n",
       "      <th>이용자수</th>\n",
       "      <th>남성비율</th>\n",
       "      <th>여성비율</th>\n",
       "      <th>10대비율</th>\n",
       "      <th>20대비율</th>\n",
       "      <th>30대비율</th>\n",
       "      <th>40대비율</th>\n",
       "      <th>50대이상비율</th>\n",
       "      <th>데이터기준일</th>\n",
       "    </tr>\n",
       "  </thead>\n",
       "  <tbody>\n",
       "    <tr>\n",
       "      <th>0</th>\n",
       "      <td>(주)화천레미콘</td>\n",
       "      <td>2021-07-19</td>\n",
       "      <td>기타시설</td>\n",
       "      <td>37.851783</td>\n",
       "      <td>127.750995</td>\n",
       "      <td>강원</td>\n",
       "      <td>춘천시</td>\n",
       "      <td>석사동</td>\n",
       "      <td>551</td>\n",
       "      <td>26.17</td>\n",
       "      <td>73.83</td>\n",
       "      <td>0.97</td>\n",
       "      <td>2.47</td>\n",
       "      <td>1.36</td>\n",
       "      <td>4.14</td>\n",
       "      <td>91.06</td>\n",
       "      <td>2021-12-21</td>\n",
       "    </tr>\n",
       "    <tr>\n",
       "      <th>1</th>\n",
       "      <td>여의도순복음춘천교회</td>\n",
       "      <td>2021-07-19</td>\n",
       "      <td>종교시설</td>\n",
       "      <td>37.849759</td>\n",
       "      <td>127.755033</td>\n",
       "      <td>강원</td>\n",
       "      <td>춘천시</td>\n",
       "      <td>동내면</td>\n",
       "      <td>79</td>\n",
       "      <td>42.50</td>\n",
       "      <td>57.50</td>\n",
       "      <td>13.22</td>\n",
       "      <td>18.84</td>\n",
       "      <td>25.55</td>\n",
       "      <td>21.69</td>\n",
       "      <td>20.70</td>\n",
       "      <td>2021-12-21</td>\n",
       "    </tr>\n",
       "    <tr>\n",
       "      <th>2</th>\n",
       "      <td>디자인카페티이오</td>\n",
       "      <td>2021-07-19</td>\n",
       "      <td>카페</td>\n",
       "      <td>37.884288</td>\n",
       "      <td>127.728886</td>\n",
       "      <td>강원</td>\n",
       "      <td>춘천시</td>\n",
       "      <td>요선동</td>\n",
       "      <td>95</td>\n",
       "      <td>46.24</td>\n",
       "      <td>53.76</td>\n",
       "      <td>13.52</td>\n",
       "      <td>20.90</td>\n",
       "      <td>21.89</td>\n",
       "      <td>21.74</td>\n",
       "      <td>21.95</td>\n",
       "      <td>2021-12-21</td>\n",
       "    </tr>\n",
       "    <tr>\n",
       "      <th>3</th>\n",
       "      <td>브이스페이스(VSpace)</td>\n",
       "      <td>2021-07-19</td>\n",
       "      <td>카페</td>\n",
       "      <td>37.815480</td>\n",
       "      <td>127.716347</td>\n",
       "      <td>강원</td>\n",
       "      <td>춘천시</td>\n",
       "      <td>신동면</td>\n",
       "      <td>72</td>\n",
       "      <td>55.17</td>\n",
       "      <td>44.83</td>\n",
       "      <td>10.38</td>\n",
       "      <td>20.74</td>\n",
       "      <td>20.02</td>\n",
       "      <td>22.26</td>\n",
       "      <td>26.60</td>\n",
       "      <td>2021-12-21</td>\n",
       "    </tr>\n",
       "    <tr>\n",
       "      <th>4</th>\n",
       "      <td>오꼬만봄내점</td>\n",
       "      <td>2021-07-19</td>\n",
       "      <td>음식점</td>\n",
       "      <td>37.855721</td>\n",
       "      <td>127.745546</td>\n",
       "      <td>강원</td>\n",
       "      <td>춘천시</td>\n",
       "      <td>석사동</td>\n",
       "      <td>315</td>\n",
       "      <td>28.96</td>\n",
       "      <td>71.04</td>\n",
       "      <td>15.33</td>\n",
       "      <td>21.03</td>\n",
       "      <td>19.13</td>\n",
       "      <td>22.74</td>\n",
       "      <td>21.77</td>\n",
       "      <td>2021-12-21</td>\n",
       "    </tr>\n",
       "  </tbody>\n",
       "</table>\n",
       "</div>"
      ],
      "text/plain": [
       "              상호명         날짜    업종         위도          경도  시도  시군구  읍면동  이용자수  \\\n",
       "0        (주)화천레미콘 2021-07-19  기타시설  37.851783  127.750995  강원  춘천시  석사동   551   \n",
       "1      여의도순복음춘천교회 2021-07-19  종교시설  37.849759  127.755033  강원  춘천시  동내면    79   \n",
       "2        디자인카페티이오 2021-07-19    카페  37.884288  127.728886  강원  춘천시  요선동    95   \n",
       "3  브이스페이스(VSpace) 2021-07-19    카페  37.815480  127.716347  강원  춘천시  신동면    72   \n",
       "4          오꼬만봄내점 2021-07-19   음식점  37.855721  127.745546  강원  춘천시  석사동   315   \n",
       "\n",
       "    남성비율   여성비율  10대비율  20대비율  30대비율  40대비율  50대이상비율      데이터기준일  \n",
       "0  26.17  73.83   0.97   2.47   1.36   4.14    91.06  2021-12-21  \n",
       "1  42.50  57.50  13.22  18.84  25.55  21.69    20.70  2021-12-21  \n",
       "2  46.24  53.76  13.52  20.90  21.89  21.74    21.95  2021-12-21  \n",
       "3  55.17  44.83  10.38  20.74  20.02  22.26    26.60  2021-12-21  \n",
       "4  28.96  71.04  15.33  21.03  19.13  22.74    21.77  2021-12-21  "
      ]
     },
     "execution_count": 20,
     "metadata": {},
     "output_type": "execute_result"
    }
   ],
   "source": [
    "df2.loc[idx,'읍면동']= dong.읍면동.str.split(' ').str[0]\n",
    "df2.head()"
   ]
  },
  {
   "cell_type": "code",
   "execution_count": 21,
   "id": "7ce8443e-80b2-48fb-b868-cd9d4e28807b",
   "metadata": {},
   "outputs": [
    {
     "data": {
      "text/plain": [
       "(array(['강남동', '교동', '근화동', '낙원동', '남산면', '동내면', '동면', '동산면', '봉의동', '북산면',\n",
       "        '사농동', '사북면', '삼천동', '서면', '석사동', '소양동', '소양로1가', '소양로2가', '소양로3가',\n",
       "        '소양로4가', '송암동', '신동', '신동면', '신북읍', '약사동', '옥천동', '온의동', '요선동',\n",
       "        '우두동', '운교동', '조양동', '죽림동', '중앙로1가', '중앙로2가', '중앙로3가', '칠전동',\n",
       "        '퇴계동', '효자동', '후평동'], dtype=object),\n",
       " 39)"
      ]
     },
     "execution_count": 21,
     "metadata": {},
     "output_type": "execute_result"
    }
   ],
   "source": [
    "df2.읍면동.sort_values().unique(), len(df2.읍면동.sort_values().unique())"
   ]
  },
  {
   "cell_type": "markdown",
   "id": "6583572c-0ed2-400a-ba2b-db7893428365",
   "metadata": {},
   "source": [
    "### df_empty, df2의 행정동명을 변경한다"
   ]
  },
  {
   "cell_type": "code",
   "execution_count": 22,
   "id": "b4581b91-c7d6-4c24-b612-f9afd515558c",
   "metadata": {},
   "outputs": [],
   "source": [
    "# 딕셔너리로 맵핑\n",
    "mapper = {'낙원동': '소양동', '봉의동' : '소양동', '사농동' : '신사우동', '삼천동' : '강남동', '소양로1가' : '소양동', '소양로2가' : '소양동',\n",
    "    '소양로3가' : '소양동', '소양로4가' : '소양동', '송암동' : '강남동', '신동' : '신사우동', '약사동' : '약사명동', '옥천동' : '소양동',\n",
    "    '온의동' : '강남동', '요선동' : '소양동', '우두동' : '신사우동', '운교동' : '조운동', '조양동' : '조운동', '죽림동' : '약사명동',\n",
    "    '중앙로1가' : '소양동', '중앙로2가' : '약사명동', '중앙로3가' : '약사명동' , '칠전동' : '강남동', '석사동' : '효자동'\n",
    "}"
   ]
  },
  {
   "cell_type": "code",
   "execution_count": 23,
   "id": "6910b214-eef4-4e43-aa2a-f078fb5398ce",
   "metadata": {},
   "outputs": [
    {
     "data": {
      "text/plain": [
       "Int64Index([0, 1, 2, 4, 5, 7, 10, 11, 12, 14, 15, 16, 17, 18, 19, 20, 21], dtype='int64')"
      ]
     },
     "execution_count": 23,
     "metadata": {},
     "output_type": "execute_result"
    }
   ],
   "source": [
    "# 인덱스를 가져온다\n",
    "idx2 = df2.query('읍면동 in @mapper').index\n",
    "idx3 = df_empty.query('읍면동 in @mapper').index\n",
    "idx3"
   ]
  },
  {
   "cell_type": "code",
   "execution_count": 24,
   "id": "69fee680-92f9-4b6f-8800-ecc4223c76de",
   "metadata": {},
   "outputs": [],
   "source": [
    "# 뒤집어준다\n",
    "df2.loc[idx2, '읍면동'] = df2.loc[idx2, '읍면동'].map(mapper)\n",
    "df_empty.loc[idx3, '읍면동'] = df_empty.loc[idx3, '읍면동'].map(mapper)"
   ]
  },
  {
   "cell_type": "code",
   "execution_count": 25,
   "id": "1faafa1b-7907-40a7-a9e9-bf56f291e741",
   "metadata": {},
   "outputs": [
    {
     "data": {
      "text/plain": [
       "array(['효자동', '동내면', '소양동', '신동면', '퇴계동', '약사명동', '동면', '서면', '후평동',\n",
       "       '근화동', '조운동', '강남동', '교동', '신사우동', '동산면', '남산면', '사북면', '신북읍',\n",
       "       '북산면'], dtype=object)"
      ]
     },
     "execution_count": 25,
     "metadata": {},
     "output_type": "execute_result"
    }
   ],
   "source": [
    "# 결과확인\n",
    "df2.읍면동.unique()"
   ]
  },
  {
   "cell_type": "code",
   "execution_count": 26,
   "id": "a15e0286-51a2-4377-87dc-2db23b4913b9",
   "metadata": {},
   "outputs": [
    {
     "data": {
      "text/plain": [
       "array(['소양동', '교동', '조운동', '후평동', '강남동', '효자동', '근화동', '신사우동', '퇴계동',\n",
       "       '약사명동'], dtype=object)"
      ]
     },
     "execution_count": 26,
     "metadata": {},
     "output_type": "execute_result"
    }
   ],
   "source": [
    "# 결과확인2\n",
    "df_empty.읍면동.unique()"
   ]
  },
  {
   "cell_type": "code",
   "execution_count": 27,
   "id": "ff64a0c3-4496-478c-8698-631f94048aa5",
   "metadata": {},
   "outputs": [
    {
     "data": {
      "text/html": [
       "<div>\n",
       "<style scoped>\n",
       "    .dataframe tbody tr th:only-of-type {\n",
       "        vertical-align: middle;\n",
       "    }\n",
       "\n",
       "    .dataframe tbody tr th {\n",
       "        vertical-align: top;\n",
       "    }\n",
       "\n",
       "    .dataframe thead th {\n",
       "        text-align: right;\n",
       "    }\n",
       "</style>\n",
       "<table border=\"1\" class=\"dataframe\">\n",
       "  <thead>\n",
       "    <tr style=\"text-align: right;\">\n",
       "      <th></th>\n",
       "      <th>읍면동</th>\n",
       "      <th>이용자수</th>\n",
       "    </tr>\n",
       "  </thead>\n",
       "  <tbody>\n",
       "    <tr>\n",
       "      <th>0</th>\n",
       "      <td>강남동</td>\n",
       "      <td>443.537866</td>\n",
       "    </tr>\n",
       "    <tr>\n",
       "      <th>1</th>\n",
       "      <td>교동</td>\n",
       "      <td>131.005342</td>\n",
       "    </tr>\n",
       "    <tr>\n",
       "      <th>2</th>\n",
       "      <td>근화동</td>\n",
       "      <td>206.389306</td>\n",
       "    </tr>\n",
       "    <tr>\n",
       "      <th>3</th>\n",
       "      <td>남산면</td>\n",
       "      <td>149.800060</td>\n",
       "    </tr>\n",
       "    <tr>\n",
       "      <th>4</th>\n",
       "      <td>동내면</td>\n",
       "      <td>235.911001</td>\n",
       "    </tr>\n",
       "    <tr>\n",
       "      <th>5</th>\n",
       "      <td>동면</td>\n",
       "      <td>387.697120</td>\n",
       "    </tr>\n",
       "    <tr>\n",
       "      <th>6</th>\n",
       "      <td>동산면</td>\n",
       "      <td>86.139560</td>\n",
       "    </tr>\n",
       "    <tr>\n",
       "      <th>7</th>\n",
       "      <td>북산면</td>\n",
       "      <td>9727.698613</td>\n",
       "    </tr>\n",
       "    <tr>\n",
       "      <th>8</th>\n",
       "      <td>사북면</td>\n",
       "      <td>81.202869</td>\n",
       "    </tr>\n",
       "    <tr>\n",
       "      <th>9</th>\n",
       "      <td>서면</td>\n",
       "      <td>94.866311</td>\n",
       "    </tr>\n",
       "    <tr>\n",
       "      <th>10</th>\n",
       "      <td>소양동</td>\n",
       "      <td>3915.977677</td>\n",
       "    </tr>\n",
       "    <tr>\n",
       "      <th>11</th>\n",
       "      <td>신동면</td>\n",
       "      <td>97.608339</td>\n",
       "    </tr>\n",
       "    <tr>\n",
       "      <th>12</th>\n",
       "      <td>신북읍</td>\n",
       "      <td>347.140673</td>\n",
       "    </tr>\n",
       "    <tr>\n",
       "      <th>13</th>\n",
       "      <td>신사우동</td>\n",
       "      <td>176.808801</td>\n",
       "    </tr>\n",
       "    <tr>\n",
       "      <th>14</th>\n",
       "      <td>약사명동</td>\n",
       "      <td>2170.440333</td>\n",
       "    </tr>\n",
       "    <tr>\n",
       "      <th>15</th>\n",
       "      <td>조운동</td>\n",
       "      <td>3819.259138</td>\n",
       "    </tr>\n",
       "    <tr>\n",
       "      <th>16</th>\n",
       "      <td>퇴계동</td>\n",
       "      <td>1477.442236</td>\n",
       "    </tr>\n",
       "    <tr>\n",
       "      <th>17</th>\n",
       "      <td>효자동</td>\n",
       "      <td>714.693779</td>\n",
       "    </tr>\n",
       "    <tr>\n",
       "      <th>18</th>\n",
       "      <td>후평동</td>\n",
       "      <td>310.898850</td>\n",
       "    </tr>\n",
       "  </tbody>\n",
       "</table>\n",
       "</div>"
      ],
      "text/plain": [
       "     읍면동         이용자수\n",
       "0    강남동   443.537866\n",
       "1     교동   131.005342\n",
       "2    근화동   206.389306\n",
       "3    남산면   149.800060\n",
       "4    동내면   235.911001\n",
       "5     동면   387.697120\n",
       "6    동산면    86.139560\n",
       "7    북산면  9727.698613\n",
       "8    사북면    81.202869\n",
       "9     서면    94.866311\n",
       "10   소양동  3915.977677\n",
       "11   신동면    97.608339\n",
       "12   신북읍   347.140673\n",
       "13  신사우동   176.808801\n",
       "14  약사명동  2170.440333\n",
       "15   조운동  3819.259138\n",
       "16   퇴계동  1477.442236\n",
       "17   효자동   714.693779\n",
       "18   후평동   310.898850"
      ]
     },
     "execution_count": 27,
     "metadata": {},
     "output_type": "execute_result"
    }
   ],
   "source": [
    "df_user = df2.groupby('읍면동')[['이용자수']].mean().reset_index()\n",
    "df_user"
   ]
  },
  {
   "cell_type": "code",
   "execution_count": 28,
   "id": "919ffd6e-19cf-40bf-84b3-1a2063a8304c",
   "metadata": {},
   "outputs": [
    {
     "data": {
      "text/html": [
       "<div>\n",
       "<style scoped>\n",
       "    .dataframe tbody tr th:only-of-type {\n",
       "        vertical-align: middle;\n",
       "    }\n",
       "\n",
       "    .dataframe tbody tr th {\n",
       "        vertical-align: top;\n",
       "    }\n",
       "\n",
       "    .dataframe thead th {\n",
       "        text-align: right;\n",
       "    }\n",
       "</style>\n",
       "<table border=\"1\" class=\"dataframe\">\n",
       "  <thead>\n",
       "    <tr style=\"text-align: right;\">\n",
       "      <th></th>\n",
       "      <th>읍면동</th>\n",
       "      <th>연면적</th>\n",
       "      <th>계</th>\n",
       "    </tr>\n",
       "  </thead>\n",
       "  <tbody>\n",
       "    <tr>\n",
       "      <th>0</th>\n",
       "      <td>소양동</td>\n",
       "      <td>311.315000</td>\n",
       "      <td>2</td>\n",
       "    </tr>\n",
       "    <tr>\n",
       "      <th>1</th>\n",
       "      <td>소양동</td>\n",
       "      <td>242.455000</td>\n",
       "      <td>2</td>\n",
       "    </tr>\n",
       "    <tr>\n",
       "      <th>2</th>\n",
       "      <td>소양동</td>\n",
       "      <td>233.158750</td>\n",
       "      <td>4</td>\n",
       "    </tr>\n",
       "    <tr>\n",
       "      <th>3</th>\n",
       "      <td>교동</td>\n",
       "      <td>147.991000</td>\n",
       "      <td>9</td>\n",
       "    </tr>\n",
       "    <tr>\n",
       "      <th>4</th>\n",
       "      <td>소양동</td>\n",
       "      <td>128.746000</td>\n",
       "      <td>4</td>\n",
       "    </tr>\n",
       "    <tr>\n",
       "      <th>5</th>\n",
       "      <td>조운동</td>\n",
       "      <td>128.202890</td>\n",
       "      <td>10</td>\n",
       "    </tr>\n",
       "    <tr>\n",
       "      <th>6</th>\n",
       "      <td>후평동</td>\n",
       "      <td>127.163077</td>\n",
       "      <td>13</td>\n",
       "    </tr>\n",
       "    <tr>\n",
       "      <th>7</th>\n",
       "      <td>강남동</td>\n",
       "      <td>111.802200</td>\n",
       "      <td>5</td>\n",
       "    </tr>\n",
       "    <tr>\n",
       "      <th>8</th>\n",
       "      <td>효자동</td>\n",
       "      <td>107.320818</td>\n",
       "      <td>33</td>\n",
       "    </tr>\n",
       "    <tr>\n",
       "      <th>9</th>\n",
       "      <td>근화동</td>\n",
       "      <td>106.674750</td>\n",
       "      <td>4</td>\n",
       "    </tr>\n",
       "    <tr>\n",
       "      <th>10</th>\n",
       "      <td>신사우동</td>\n",
       "      <td>105.777680</td>\n",
       "      <td>5</td>\n",
       "    </tr>\n",
       "    <tr>\n",
       "      <th>11</th>\n",
       "      <td>소양동</td>\n",
       "      <td>105.414000</td>\n",
       "      <td>1</td>\n",
       "    </tr>\n",
       "    <tr>\n",
       "      <th>12</th>\n",
       "      <td>조운동</td>\n",
       "      <td>99.013420</td>\n",
       "      <td>5</td>\n",
       "    </tr>\n",
       "    <tr>\n",
       "      <th>13</th>\n",
       "      <td>퇴계동</td>\n",
       "      <td>92.779833</td>\n",
       "      <td>6</td>\n",
       "    </tr>\n",
       "    <tr>\n",
       "      <th>14</th>\n",
       "      <td>소양동</td>\n",
       "      <td>92.011950</td>\n",
       "      <td>2</td>\n",
       "    </tr>\n",
       "    <tr>\n",
       "      <th>15</th>\n",
       "      <td>약사명동</td>\n",
       "      <td>89.255517</td>\n",
       "      <td>6</td>\n",
       "    </tr>\n",
       "    <tr>\n",
       "      <th>16</th>\n",
       "      <td>신사우동</td>\n",
       "      <td>89.227000</td>\n",
       "      <td>8</td>\n",
       "    </tr>\n",
       "    <tr>\n",
       "      <th>17</th>\n",
       "      <td>강남동</td>\n",
       "      <td>87.560000</td>\n",
       "      <td>2</td>\n",
       "    </tr>\n",
       "    <tr>\n",
       "      <th>18</th>\n",
       "      <td>소양동</td>\n",
       "      <td>85.107000</td>\n",
       "      <td>2</td>\n",
       "    </tr>\n",
       "    <tr>\n",
       "      <th>19</th>\n",
       "      <td>약사명동</td>\n",
       "      <td>79.599250</td>\n",
       "      <td>4</td>\n",
       "    </tr>\n",
       "    <tr>\n",
       "      <th>20</th>\n",
       "      <td>신사우동</td>\n",
       "      <td>78.690000</td>\n",
       "      <td>3</td>\n",
       "    </tr>\n",
       "    <tr>\n",
       "      <th>21</th>\n",
       "      <td>약사명동</td>\n",
       "      <td>71.894750</td>\n",
       "      <td>4</td>\n",
       "    </tr>\n",
       "  </tbody>\n",
       "</table>\n",
       "</div>"
      ],
      "text/plain": [
       "     읍면동         연면적   계\n",
       "0    소양동  311.315000   2\n",
       "1    소양동  242.455000   2\n",
       "2    소양동  233.158750   4\n",
       "3     교동  147.991000   9\n",
       "4    소양동  128.746000   4\n",
       "5    조운동  128.202890  10\n",
       "6    후평동  127.163077  13\n",
       "7    강남동  111.802200   5\n",
       "8    효자동  107.320818  33\n",
       "9    근화동  106.674750   4\n",
       "10  신사우동  105.777680   5\n",
       "11   소양동  105.414000   1\n",
       "12   조운동   99.013420   5\n",
       "13   퇴계동   92.779833   6\n",
       "14   소양동   92.011950   2\n",
       "15  약사명동   89.255517   6\n",
       "16  신사우동   89.227000   8\n",
       "17   강남동   87.560000   2\n",
       "18   소양동   85.107000   2\n",
       "19  약사명동   79.599250   4\n",
       "20  신사우동   78.690000   3\n",
       "21  약사명동   71.894750   4"
      ]
     },
     "execution_count": 28,
     "metadata": {},
     "output_type": "execute_result"
    }
   ],
   "source": [
    "df_empty"
   ]
  },
  {
   "cell_type": "code",
   "execution_count": 29,
   "id": "52fe46ba-9481-4a08-902c-a53219e342b1",
   "metadata": {},
   "outputs": [
    {
     "data": {
      "text/html": [
       "<div>\n",
       "<style scoped>\n",
       "    .dataframe tbody tr th:only-of-type {\n",
       "        vertical-align: middle;\n",
       "    }\n",
       "\n",
       "    .dataframe tbody tr th {\n",
       "        vertical-align: top;\n",
       "    }\n",
       "\n",
       "    .dataframe thead th {\n",
       "        text-align: right;\n",
       "    }\n",
       "</style>\n",
       "<table border=\"1\" class=\"dataframe\">\n",
       "  <thead>\n",
       "    <tr style=\"text-align: right;\">\n",
       "      <th></th>\n",
       "      <th>읍면동</th>\n",
       "      <th>연면적</th>\n",
       "      <th>계</th>\n",
       "    </tr>\n",
       "  </thead>\n",
       "  <tbody>\n",
       "    <tr>\n",
       "      <th>3</th>\n",
       "      <td>소양동</td>\n",
       "      <td>171.172529</td>\n",
       "      <td>17</td>\n",
       "    </tr>\n",
       "    <tr>\n",
       "      <th>1</th>\n",
       "      <td>교동</td>\n",
       "      <td>147.991000</td>\n",
       "      <td>9</td>\n",
       "    </tr>\n",
       "    <tr>\n",
       "      <th>9</th>\n",
       "      <td>후평동</td>\n",
       "      <td>127.163077</td>\n",
       "      <td>13</td>\n",
       "    </tr>\n",
       "    <tr>\n",
       "      <th>6</th>\n",
       "      <td>조운동</td>\n",
       "      <td>113.608155</td>\n",
       "      <td>15</td>\n",
       "    </tr>\n",
       "    <tr>\n",
       "      <th>8</th>\n",
       "      <td>효자동</td>\n",
       "      <td>107.320818</td>\n",
       "      <td>33</td>\n",
       "    </tr>\n",
       "    <tr>\n",
       "      <th>2</th>\n",
       "      <td>근화동</td>\n",
       "      <td>106.674750</td>\n",
       "      <td>4</td>\n",
       "    </tr>\n",
       "    <tr>\n",
       "      <th>0</th>\n",
       "      <td>강남동</td>\n",
       "      <td>99.681100</td>\n",
       "      <td>7</td>\n",
       "    </tr>\n",
       "    <tr>\n",
       "      <th>7</th>\n",
       "      <td>퇴계동</td>\n",
       "      <td>92.779833</td>\n",
       "      <td>6</td>\n",
       "    </tr>\n",
       "    <tr>\n",
       "      <th>4</th>\n",
       "      <td>신사우동</td>\n",
       "      <td>91.231560</td>\n",
       "      <td>16</td>\n",
       "    </tr>\n",
       "    <tr>\n",
       "      <th>5</th>\n",
       "      <td>약사명동</td>\n",
       "      <td>80.249839</td>\n",
       "      <td>14</td>\n",
       "    </tr>\n",
       "  </tbody>\n",
       "</table>\n",
       "</div>"
      ],
      "text/plain": [
       "    읍면동         연면적   계\n",
       "3   소양동  171.172529  17\n",
       "1    교동  147.991000   9\n",
       "9   후평동  127.163077  13\n",
       "6   조운동  113.608155  15\n",
       "8   효자동  107.320818  33\n",
       "2   근화동  106.674750   4\n",
       "0   강남동   99.681100   7\n",
       "7   퇴계동   92.779833   6\n",
       "4  신사우동   91.231560  16\n",
       "5  약사명동   80.249839  14"
      ]
     },
     "execution_count": 29,
     "metadata": {},
     "output_type": "execute_result"
    }
   ],
   "source": [
    "df_empty = df_empty.groupby('읍면동').agg({'연면적' : 'mean', '계' : 'sum'}).reset_index().sort_values(['연면적', '계'], ascending = False)\n",
    "df_empty"
   ]
  },
  {
   "cell_type": "code",
   "execution_count": 30,
   "id": "4caadbab-d5ce-4685-8140-bdef69d0bd4b",
   "metadata": {},
   "outputs": [
    {
     "data": {
      "text/html": [
       "<div>\n",
       "<style scoped>\n",
       "    .dataframe tbody tr th:only-of-type {\n",
       "        vertical-align: middle;\n",
       "    }\n",
       "\n",
       "    .dataframe tbody tr th {\n",
       "        vertical-align: top;\n",
       "    }\n",
       "\n",
       "    .dataframe thead th {\n",
       "        text-align: right;\n",
       "    }\n",
       "</style>\n",
       "<table border=\"1\" class=\"dataframe\">\n",
       "  <thead>\n",
       "    <tr style=\"text-align: right;\">\n",
       "      <th></th>\n",
       "      <th>읍면동</th>\n",
       "      <th>이용자수</th>\n",
       "    </tr>\n",
       "  </thead>\n",
       "  <tbody>\n",
       "    <tr>\n",
       "      <th>0</th>\n",
       "      <td>강남동</td>\n",
       "      <td>443.537866</td>\n",
       "    </tr>\n",
       "    <tr>\n",
       "      <th>1</th>\n",
       "      <td>교동</td>\n",
       "      <td>131.005342</td>\n",
       "    </tr>\n",
       "    <tr>\n",
       "      <th>2</th>\n",
       "      <td>근화동</td>\n",
       "      <td>206.389306</td>\n",
       "    </tr>\n",
       "    <tr>\n",
       "      <th>10</th>\n",
       "      <td>소양동</td>\n",
       "      <td>3915.977677</td>\n",
       "    </tr>\n",
       "    <tr>\n",
       "      <th>13</th>\n",
       "      <td>신사우동</td>\n",
       "      <td>176.808801</td>\n",
       "    </tr>\n",
       "    <tr>\n",
       "      <th>14</th>\n",
       "      <td>약사명동</td>\n",
       "      <td>2170.440333</td>\n",
       "    </tr>\n",
       "    <tr>\n",
       "      <th>15</th>\n",
       "      <td>조운동</td>\n",
       "      <td>3819.259138</td>\n",
       "    </tr>\n",
       "    <tr>\n",
       "      <th>16</th>\n",
       "      <td>퇴계동</td>\n",
       "      <td>1477.442236</td>\n",
       "    </tr>\n",
       "    <tr>\n",
       "      <th>17</th>\n",
       "      <td>효자동</td>\n",
       "      <td>714.693779</td>\n",
       "    </tr>\n",
       "    <tr>\n",
       "      <th>18</th>\n",
       "      <td>후평동</td>\n",
       "      <td>310.898850</td>\n",
       "    </tr>\n",
       "  </tbody>\n",
       "</table>\n",
       "</div>"
      ],
      "text/plain": [
       "     읍면동         이용자수\n",
       "0    강남동   443.537866\n",
       "1     교동   131.005342\n",
       "2    근화동   206.389306\n",
       "10   소양동  3915.977677\n",
       "13  신사우동   176.808801\n",
       "14  약사명동  2170.440333\n",
       "15   조운동  3819.259138\n",
       "16   퇴계동  1477.442236\n",
       "17   효자동   714.693779\n",
       "18   후평동   310.898850"
      ]
     },
     "execution_count": 30,
     "metadata": {},
     "output_type": "execute_result"
    }
   ],
   "source": [
    "df_user = df_user[df_user['읍면동'].str.endswith('동')]\n",
    "df_user"
   ]
  },
  {
   "cell_type": "code",
   "execution_count": 31,
   "id": "c128ac38-1d35-4be3-9d47-43205960313f",
   "metadata": {},
   "outputs": [
    {
     "data": {
      "text/plain": [
       "(읍면동    10\n",
       " 연면적    10\n",
       " 계      10\n",
       " dtype: int64,\n",
       " 읍면동     10\n",
       " 이용자수    10\n",
       " dtype: int64)"
      ]
     },
     "execution_count": 31,
     "metadata": {},
     "output_type": "execute_result"
    }
   ],
   "source": [
    "df_empty.count(), df_user.count()"
   ]
  },
  {
   "cell_type": "code",
   "execution_count": 32,
   "id": "52a044d7-9d0c-4697-84a2-74c94325a007",
   "metadata": {},
   "outputs": [
    {
     "data": {
      "text/html": [
       "<div>\n",
       "<style scoped>\n",
       "    .dataframe tbody tr th:only-of-type {\n",
       "        vertical-align: middle;\n",
       "    }\n",
       "\n",
       "    .dataframe tbody tr th {\n",
       "        vertical-align: top;\n",
       "    }\n",
       "\n",
       "    .dataframe thead th {\n",
       "        text-align: right;\n",
       "    }\n",
       "</style>\n",
       "<table border=\"1\" class=\"dataframe\">\n",
       "  <thead>\n",
       "    <tr style=\"text-align: right;\">\n",
       "      <th></th>\n",
       "      <th>읍면동</th>\n",
       "      <th>연면적</th>\n",
       "      <th>계</th>\n",
       "    </tr>\n",
       "  </thead>\n",
       "  <tbody>\n",
       "    <tr>\n",
       "      <th>0</th>\n",
       "      <td>강남동</td>\n",
       "      <td>99.681100</td>\n",
       "      <td>7</td>\n",
       "    </tr>\n",
       "    <tr>\n",
       "      <th>1</th>\n",
       "      <td>교동</td>\n",
       "      <td>147.991000</td>\n",
       "      <td>9</td>\n",
       "    </tr>\n",
       "    <tr>\n",
       "      <th>2</th>\n",
       "      <td>근화동</td>\n",
       "      <td>106.674750</td>\n",
       "      <td>4</td>\n",
       "    </tr>\n",
       "    <tr>\n",
       "      <th>3</th>\n",
       "      <td>소양동</td>\n",
       "      <td>171.172529</td>\n",
       "      <td>17</td>\n",
       "    </tr>\n",
       "    <tr>\n",
       "      <th>4</th>\n",
       "      <td>신사우동</td>\n",
       "      <td>91.231560</td>\n",
       "      <td>16</td>\n",
       "    </tr>\n",
       "    <tr>\n",
       "      <th>5</th>\n",
       "      <td>약사명동</td>\n",
       "      <td>80.249839</td>\n",
       "      <td>14</td>\n",
       "    </tr>\n",
       "    <tr>\n",
       "      <th>6</th>\n",
       "      <td>조운동</td>\n",
       "      <td>113.608155</td>\n",
       "      <td>15</td>\n",
       "    </tr>\n",
       "    <tr>\n",
       "      <th>7</th>\n",
       "      <td>퇴계동</td>\n",
       "      <td>92.779833</td>\n",
       "      <td>6</td>\n",
       "    </tr>\n",
       "    <tr>\n",
       "      <th>8</th>\n",
       "      <td>효자동</td>\n",
       "      <td>107.320818</td>\n",
       "      <td>33</td>\n",
       "    </tr>\n",
       "    <tr>\n",
       "      <th>9</th>\n",
       "      <td>후평동</td>\n",
       "      <td>127.163077</td>\n",
       "      <td>13</td>\n",
       "    </tr>\n",
       "  </tbody>\n",
       "</table>\n",
       "</div>"
      ],
      "text/plain": [
       "    읍면동         연면적   계\n",
       "0   강남동   99.681100   7\n",
       "1    교동  147.991000   9\n",
       "2   근화동  106.674750   4\n",
       "3   소양동  171.172529  17\n",
       "4  신사우동   91.231560  16\n",
       "5  약사명동   80.249839  14\n",
       "6   조운동  113.608155  15\n",
       "7   퇴계동   92.779833   6\n",
       "8   효자동  107.320818  33\n",
       "9   후평동  127.163077  13"
      ]
     },
     "execution_count": 32,
     "metadata": {},
     "output_type": "execute_result"
    }
   ],
   "source": [
    "df_empty.sort_values('읍면동')"
   ]
  },
  {
   "cell_type": "code",
   "execution_count": 33,
   "id": "733d3c5a-d40e-45ae-b0e3-b0810327d357",
   "metadata": {},
   "outputs": [
    {
     "data": {
      "text/html": [
       "<div>\n",
       "<style scoped>\n",
       "    .dataframe tbody tr th:only-of-type {\n",
       "        vertical-align: middle;\n",
       "    }\n",
       "\n",
       "    .dataframe tbody tr th {\n",
       "        vertical-align: top;\n",
       "    }\n",
       "\n",
       "    .dataframe thead th {\n",
       "        text-align: right;\n",
       "    }\n",
       "</style>\n",
       "<table border=\"1\" class=\"dataframe\">\n",
       "  <thead>\n",
       "    <tr style=\"text-align: right;\">\n",
       "      <th></th>\n",
       "      <th>읍면동</th>\n",
       "      <th>이용자수</th>\n",
       "    </tr>\n",
       "  </thead>\n",
       "  <tbody>\n",
       "    <tr>\n",
       "      <th>0</th>\n",
       "      <td>강남동</td>\n",
       "      <td>443.537866</td>\n",
       "    </tr>\n",
       "    <tr>\n",
       "      <th>1</th>\n",
       "      <td>교동</td>\n",
       "      <td>131.005342</td>\n",
       "    </tr>\n",
       "    <tr>\n",
       "      <th>2</th>\n",
       "      <td>근화동</td>\n",
       "      <td>206.389306</td>\n",
       "    </tr>\n",
       "    <tr>\n",
       "      <th>10</th>\n",
       "      <td>소양동</td>\n",
       "      <td>3915.977677</td>\n",
       "    </tr>\n",
       "    <tr>\n",
       "      <th>13</th>\n",
       "      <td>신사우동</td>\n",
       "      <td>176.808801</td>\n",
       "    </tr>\n",
       "    <tr>\n",
       "      <th>14</th>\n",
       "      <td>약사명동</td>\n",
       "      <td>2170.440333</td>\n",
       "    </tr>\n",
       "    <tr>\n",
       "      <th>15</th>\n",
       "      <td>조운동</td>\n",
       "      <td>3819.259138</td>\n",
       "    </tr>\n",
       "    <tr>\n",
       "      <th>16</th>\n",
       "      <td>퇴계동</td>\n",
       "      <td>1477.442236</td>\n",
       "    </tr>\n",
       "    <tr>\n",
       "      <th>17</th>\n",
       "      <td>효자동</td>\n",
       "      <td>714.693779</td>\n",
       "    </tr>\n",
       "    <tr>\n",
       "      <th>18</th>\n",
       "      <td>후평동</td>\n",
       "      <td>310.898850</td>\n",
       "    </tr>\n",
       "  </tbody>\n",
       "</table>\n",
       "</div>"
      ],
      "text/plain": [
       "     읍면동         이용자수\n",
       "0    강남동   443.537866\n",
       "1     교동   131.005342\n",
       "2    근화동   206.389306\n",
       "10   소양동  3915.977677\n",
       "13  신사우동   176.808801\n",
       "14  약사명동  2170.440333\n",
       "15   조운동  3819.259138\n",
       "16   퇴계동  1477.442236\n",
       "17   효자동   714.693779\n",
       "18   후평동   310.898850"
      ]
     },
     "execution_count": 33,
     "metadata": {},
     "output_type": "execute_result"
    }
   ],
   "source": [
    "df_user.sort_values('읍면동')"
   ]
  },
  {
   "cell_type": "code",
   "execution_count": 34,
   "id": "12db011b-a628-47c3-b944-fd3c2834d2c3",
   "metadata": {},
   "outputs": [
    {
     "data": {
      "text/html": [
       "<div>\n",
       "<style scoped>\n",
       "    .dataframe tbody tr th:only-of-type {\n",
       "        vertical-align: middle;\n",
       "    }\n",
       "\n",
       "    .dataframe tbody tr th {\n",
       "        vertical-align: top;\n",
       "    }\n",
       "\n",
       "    .dataframe thead th {\n",
       "        text-align: right;\n",
       "    }\n",
       "</style>\n",
       "<table border=\"1\" class=\"dataframe\">\n",
       "  <thead>\n",
       "    <tr style=\"text-align: right;\">\n",
       "      <th></th>\n",
       "      <th>읍면동</th>\n",
       "      <th>이용자수</th>\n",
       "      <th>연면적</th>\n",
       "      <th>폐공가수</th>\n",
       "    </tr>\n",
       "  </thead>\n",
       "  <tbody>\n",
       "    <tr>\n",
       "      <th>0</th>\n",
       "      <td>강남동</td>\n",
       "      <td>443.537866</td>\n",
       "      <td>99.681100</td>\n",
       "      <td>7</td>\n",
       "    </tr>\n",
       "    <tr>\n",
       "      <th>1</th>\n",
       "      <td>교동</td>\n",
       "      <td>131.005342</td>\n",
       "      <td>147.991000</td>\n",
       "      <td>9</td>\n",
       "    </tr>\n",
       "    <tr>\n",
       "      <th>2</th>\n",
       "      <td>근화동</td>\n",
       "      <td>206.389306</td>\n",
       "      <td>106.674750</td>\n",
       "      <td>4</td>\n",
       "    </tr>\n",
       "    <tr>\n",
       "      <th>3</th>\n",
       "      <td>소양동</td>\n",
       "      <td>3915.977677</td>\n",
       "      <td>171.172529</td>\n",
       "      <td>17</td>\n",
       "    </tr>\n",
       "    <tr>\n",
       "      <th>4</th>\n",
       "      <td>신사우동</td>\n",
       "      <td>176.808801</td>\n",
       "      <td>91.231560</td>\n",
       "      <td>16</td>\n",
       "    </tr>\n",
       "    <tr>\n",
       "      <th>5</th>\n",
       "      <td>약사명동</td>\n",
       "      <td>2170.440333</td>\n",
       "      <td>80.249839</td>\n",
       "      <td>14</td>\n",
       "    </tr>\n",
       "    <tr>\n",
       "      <th>6</th>\n",
       "      <td>조운동</td>\n",
       "      <td>3819.259138</td>\n",
       "      <td>113.608155</td>\n",
       "      <td>15</td>\n",
       "    </tr>\n",
       "    <tr>\n",
       "      <th>7</th>\n",
       "      <td>퇴계동</td>\n",
       "      <td>1477.442236</td>\n",
       "      <td>92.779833</td>\n",
       "      <td>6</td>\n",
       "    </tr>\n",
       "    <tr>\n",
       "      <th>8</th>\n",
       "      <td>효자동</td>\n",
       "      <td>714.693779</td>\n",
       "      <td>107.320818</td>\n",
       "      <td>33</td>\n",
       "    </tr>\n",
       "    <tr>\n",
       "      <th>9</th>\n",
       "      <td>후평동</td>\n",
       "      <td>310.898850</td>\n",
       "      <td>127.163077</td>\n",
       "      <td>13</td>\n",
       "    </tr>\n",
       "  </tbody>\n",
       "</table>\n",
       "</div>"
      ],
      "text/plain": [
       "    읍면동         이용자수         연면적  폐공가수\n",
       "0   강남동   443.537866   99.681100     7\n",
       "1    교동   131.005342  147.991000     9\n",
       "2   근화동   206.389306  106.674750     4\n",
       "3   소양동  3915.977677  171.172529    17\n",
       "4  신사우동   176.808801   91.231560    16\n",
       "5  약사명동  2170.440333   80.249839    14\n",
       "6   조운동  3819.259138  113.608155    15\n",
       "7   퇴계동  1477.442236   92.779833     6\n",
       "8   효자동   714.693779  107.320818    33\n",
       "9   후평동   310.898850  127.163077    13"
      ]
     },
     "execution_count": 34,
     "metadata": {},
     "output_type": "execute_result"
    }
   ],
   "source": [
    "df_sum = pd.merge(df_user, df_empty)\n",
    "df_sum.columns = ['읍면동', '이용자수', '연면적', '폐공가수']\n",
    "df_sum = df_sum.sort_values('읍면동', ascending=True)\n",
    "df_sum"
   ]
  },
  {
   "cell_type": "code",
   "execution_count": 68,
   "id": "037c2483-9d75-44d0-8f31-7682b3a4ea51",
   "metadata": {},
   "outputs": [
    {
     "data": {
      "text/html": [
       "<div>\n",
       "<style scoped>\n",
       "    .dataframe tbody tr th:only-of-type {\n",
       "        vertical-align: middle;\n",
       "    }\n",
       "\n",
       "    .dataframe tbody tr th {\n",
       "        vertical-align: top;\n",
       "    }\n",
       "\n",
       "    .dataframe thead th {\n",
       "        text-align: right;\n",
       "    }\n",
       "</style>\n",
       "<table border=\"1\" class=\"dataframe\">\n",
       "  <thead>\n",
       "    <tr style=\"text-align: right;\">\n",
       "      <th></th>\n",
       "      <th>읍면동</th>\n",
       "      <th>이용자수</th>\n",
       "      <th>연면적</th>\n",
       "      <th>폐공가수</th>\n",
       "    </tr>\n",
       "  </thead>\n",
       "  <tbody>\n",
       "    <tr>\n",
       "      <th>0</th>\n",
       "      <td>강남동</td>\n",
       "      <td>443.54</td>\n",
       "      <td>99.68</td>\n",
       "      <td>7</td>\n",
       "    </tr>\n",
       "    <tr>\n",
       "      <th>1</th>\n",
       "      <td>교동</td>\n",
       "      <td>131.01</td>\n",
       "      <td>147.99</td>\n",
       "      <td>9</td>\n",
       "    </tr>\n",
       "    <tr>\n",
       "      <th>2</th>\n",
       "      <td>근화동</td>\n",
       "      <td>206.39</td>\n",
       "      <td>106.67</td>\n",
       "      <td>4</td>\n",
       "    </tr>\n",
       "    <tr>\n",
       "      <th>3</th>\n",
       "      <td>소양동</td>\n",
       "      <td>3915.98</td>\n",
       "      <td>171.17</td>\n",
       "      <td>17</td>\n",
       "    </tr>\n",
       "    <tr>\n",
       "      <th>4</th>\n",
       "      <td>신사우동</td>\n",
       "      <td>176.81</td>\n",
       "      <td>91.23</td>\n",
       "      <td>16</td>\n",
       "    </tr>\n",
       "    <tr>\n",
       "      <th>5</th>\n",
       "      <td>약사명동</td>\n",
       "      <td>2170.44</td>\n",
       "      <td>80.25</td>\n",
       "      <td>14</td>\n",
       "    </tr>\n",
       "    <tr>\n",
       "      <th>6</th>\n",
       "      <td>조운동</td>\n",
       "      <td>3819.26</td>\n",
       "      <td>113.61</td>\n",
       "      <td>15</td>\n",
       "    </tr>\n",
       "    <tr>\n",
       "      <th>7</th>\n",
       "      <td>퇴계동</td>\n",
       "      <td>1477.44</td>\n",
       "      <td>92.78</td>\n",
       "      <td>6</td>\n",
       "    </tr>\n",
       "    <tr>\n",
       "      <th>8</th>\n",
       "      <td>효자동</td>\n",
       "      <td>714.69</td>\n",
       "      <td>107.32</td>\n",
       "      <td>33</td>\n",
       "    </tr>\n",
       "    <tr>\n",
       "      <th>9</th>\n",
       "      <td>후평동</td>\n",
       "      <td>310.90</td>\n",
       "      <td>127.16</td>\n",
       "      <td>13</td>\n",
       "    </tr>\n",
       "  </tbody>\n",
       "</table>\n",
       "</div>"
      ],
      "text/plain": [
       "    읍면동     이용자수     연면적  폐공가수\n",
       "0   강남동   443.54   99.68     7\n",
       "1    교동   131.01  147.99     9\n",
       "2   근화동   206.39  106.67     4\n",
       "3   소양동  3915.98  171.17    17\n",
       "4  신사우동   176.81   91.23    16\n",
       "5  약사명동  2170.44   80.25    14\n",
       "6   조운동  3819.26  113.61    15\n",
       "7   퇴계동  1477.44   92.78     6\n",
       "8   효자동   714.69  107.32    33\n",
       "9   후평동   310.90  127.16    13"
      ]
     },
     "execution_count": 68,
     "metadata": {},
     "output_type": "execute_result"
    }
   ],
   "source": [
    "# 이용자수 정리\n",
    "df_sum.이용자수 = df_sum.이용자수.map(lambda x : round(x, 2))\n",
    "df_sum.연면적 = df_sum.연면적.map(lambda x : round(x, 2))\n",
    "df_sum"
   ]
  },
  {
   "cell_type": "code",
   "execution_count": 87,
   "id": "57384e54-5d37-425a-8f16-d0f2712a5e9b",
   "metadata": {},
   "outputs": [
    {
     "data": {
      "application/vnd.plotly.v1+json": {
       "config": {
        "plotlyServerURL": "https://plot.ly"
       },
       "data": [
        {
         "hovertemplate": "읍면동=강남동<br>폐공가수=%{x}<br>연면적=%{marker.size}<br>이용자수=%{text}<extra></extra>",
         "legendgroup": "강남동",
         "marker": {
          "color": "#636efa",
          "size": [
           99.68
          ],
          "sizemode": "area",
          "sizeref": 0.04754722222222222,
          "symbol": "circle"
         },
         "mode": "markers+text",
         "name": "강남동",
         "orientation": "v",
         "showlegend": true,
         "text": [
          443.54
         ],
         "type": "scatter",
         "x": [
          7
         ],
         "xaxis": "x",
         "y": [
          99.68
         ],
         "yaxis": "y"
        },
        {
         "hovertemplate": "읍면동=교동<br>폐공가수=%{x}<br>연면적=%{marker.size}<br>이용자수=%{text}<extra></extra>",
         "legendgroup": "교동",
         "marker": {
          "color": "#EF553B",
          "size": [
           147.99
          ],
          "sizemode": "area",
          "sizeref": 0.04754722222222222,
          "symbol": "circle"
         },
         "mode": "markers+text",
         "name": "교동",
         "orientation": "v",
         "showlegend": true,
         "text": [
          131.01
         ],
         "type": "scatter",
         "x": [
          9
         ],
         "xaxis": "x",
         "y": [
          147.99
         ],
         "yaxis": "y"
        },
        {
         "hovertemplate": "읍면동=근화동<br>폐공가수=%{x}<br>연면적=%{marker.size}<br>이용자수=%{text}<extra></extra>",
         "legendgroup": "근화동",
         "marker": {
          "color": "#00cc96",
          "size": [
           106.67
          ],
          "sizemode": "area",
          "sizeref": 0.04754722222222222,
          "symbol": "circle"
         },
         "mode": "markers+text",
         "name": "근화동",
         "orientation": "v",
         "showlegend": true,
         "text": [
          206.39
         ],
         "type": "scatter",
         "x": [
          4
         ],
         "xaxis": "x",
         "y": [
          106.67
         ],
         "yaxis": "y"
        },
        {
         "hovertemplate": "읍면동=소양동<br>폐공가수=%{x}<br>연면적=%{marker.size}<br>이용자수=%{text}<extra></extra>",
         "legendgroup": "소양동",
         "marker": {
          "color": "#ab63fa",
          "size": [
           171.17
          ],
          "sizemode": "area",
          "sizeref": 0.04754722222222222,
          "symbol": "circle"
         },
         "mode": "markers+text",
         "name": "소양동",
         "orientation": "v",
         "showlegend": true,
         "text": [
          3915.98
         ],
         "type": "scatter",
         "x": [
          17
         ],
         "xaxis": "x",
         "y": [
          171.17
         ],
         "yaxis": "y"
        },
        {
         "hovertemplate": "읍면동=신사우동<br>폐공가수=%{x}<br>연면적=%{marker.size}<br>이용자수=%{text}<extra></extra>",
         "legendgroup": "신사우동",
         "marker": {
          "color": "#FFA15A",
          "size": [
           91.23
          ],
          "sizemode": "area",
          "sizeref": 0.04754722222222222,
          "symbol": "circle"
         },
         "mode": "markers+text",
         "name": "신사우동",
         "orientation": "v",
         "showlegend": true,
         "text": [
          176.81
         ],
         "type": "scatter",
         "x": [
          16
         ],
         "xaxis": "x",
         "y": [
          91.23
         ],
         "yaxis": "y"
        },
        {
         "hovertemplate": "읍면동=약사명동<br>폐공가수=%{x}<br>연면적=%{marker.size}<br>이용자수=%{text}<extra></extra>",
         "legendgroup": "약사명동",
         "marker": {
          "color": "#19d3f3",
          "size": [
           80.25
          ],
          "sizemode": "area",
          "sizeref": 0.04754722222222222,
          "symbol": "circle"
         },
         "mode": "markers+text",
         "name": "약사명동",
         "orientation": "v",
         "showlegend": true,
         "text": [
          2170.44
         ],
         "type": "scatter",
         "x": [
          14
         ],
         "xaxis": "x",
         "y": [
          80.25
         ],
         "yaxis": "y"
        },
        {
         "hovertemplate": "읍면동=조운동<br>폐공가수=%{x}<br>연면적=%{marker.size}<br>이용자수=%{text}<extra></extra>",
         "legendgroup": "조운동",
         "marker": {
          "color": "#FF6692",
          "size": [
           113.61
          ],
          "sizemode": "area",
          "sizeref": 0.04754722222222222,
          "symbol": "circle"
         },
         "mode": "markers+text",
         "name": "조운동",
         "orientation": "v",
         "showlegend": true,
         "text": [
          3819.26
         ],
         "type": "scatter",
         "x": [
          15
         ],
         "xaxis": "x",
         "y": [
          113.61
         ],
         "yaxis": "y"
        },
        {
         "hovertemplate": "읍면동=퇴계동<br>폐공가수=%{x}<br>연면적=%{marker.size}<br>이용자수=%{text}<extra></extra>",
         "legendgroup": "퇴계동",
         "marker": {
          "color": "#B6E880",
          "size": [
           92.78
          ],
          "sizemode": "area",
          "sizeref": 0.04754722222222222,
          "symbol": "circle"
         },
         "mode": "markers+text",
         "name": "퇴계동",
         "orientation": "v",
         "showlegend": true,
         "text": [
          1477.44
         ],
         "type": "scatter",
         "x": [
          6
         ],
         "xaxis": "x",
         "y": [
          92.78
         ],
         "yaxis": "y"
        },
        {
         "hovertemplate": "읍면동=효자동<br>폐공가수=%{x}<br>연면적=%{marker.size}<br>이용자수=%{text}<extra></extra>",
         "legendgroup": "효자동",
         "marker": {
          "color": "#FF97FF",
          "size": [
           107.32
          ],
          "sizemode": "area",
          "sizeref": 0.04754722222222222,
          "symbol": "circle"
         },
         "mode": "markers+text",
         "name": "효자동",
         "orientation": "v",
         "showlegend": true,
         "text": [
          714.69
         ],
         "type": "scatter",
         "x": [
          33
         ],
         "xaxis": "x",
         "y": [
          107.32
         ],
         "yaxis": "y"
        },
        {
         "hovertemplate": "읍면동=후평동<br>폐공가수=%{x}<br>연면적=%{marker.size}<br>이용자수=%{text}<extra></extra>",
         "legendgroup": "후평동",
         "marker": {
          "color": "#FECB52",
          "size": [
           127.16
          ],
          "sizemode": "area",
          "sizeref": 0.04754722222222222,
          "symbol": "circle"
         },
         "mode": "markers+text",
         "name": "후평동",
         "orientation": "v",
         "showlegend": true,
         "text": [
          310.9
         ],
         "type": "scatter",
         "x": [
          13
         ],
         "xaxis": "x",
         "y": [
          127.16
         ],
         "yaxis": "y"
        }
       ],
       "layout": {
        "autosize": true,
        "legend": {
         "itemsizing": "constant",
         "title": {
          "text": "읍면동"
         },
         "tracegroupgap": 0
        },
        "margin": {
         "t": 60
        },
        "template": {
         "data": {
          "bar": [
           {
            "error_x": {
             "color": "#2a3f5f"
            },
            "error_y": {
             "color": "#2a3f5f"
            },
            "marker": {
             "line": {
              "color": "#E5ECF6",
              "width": 0.5
             },
             "pattern": {
              "fillmode": "overlay",
              "size": 10,
              "solidity": 0.2
             }
            },
            "type": "bar"
           }
          ],
          "barpolar": [
           {
            "marker": {
             "line": {
              "color": "#E5ECF6",
              "width": 0.5
             },
             "pattern": {
              "fillmode": "overlay",
              "size": 10,
              "solidity": 0.2
             }
            },
            "type": "barpolar"
           }
          ],
          "carpet": [
           {
            "aaxis": {
             "endlinecolor": "#2a3f5f",
             "gridcolor": "white",
             "linecolor": "white",
             "minorgridcolor": "white",
             "startlinecolor": "#2a3f5f"
            },
            "baxis": {
             "endlinecolor": "#2a3f5f",
             "gridcolor": "white",
             "linecolor": "white",
             "minorgridcolor": "white",
             "startlinecolor": "#2a3f5f"
            },
            "type": "carpet"
           }
          ],
          "choropleth": [
           {
            "colorbar": {
             "outlinewidth": 0,
             "ticks": ""
            },
            "type": "choropleth"
           }
          ],
          "contour": [
           {
            "colorbar": {
             "outlinewidth": 0,
             "ticks": ""
            },
            "colorscale": [
             [
              0,
              "#0d0887"
             ],
             [
              0.1111111111111111,
              "#46039f"
             ],
             [
              0.2222222222222222,
              "#7201a8"
             ],
             [
              0.3333333333333333,
              "#9c179e"
             ],
             [
              0.4444444444444444,
              "#bd3786"
             ],
             [
              0.5555555555555556,
              "#d8576b"
             ],
             [
              0.6666666666666666,
              "#ed7953"
             ],
             [
              0.7777777777777778,
              "#fb9f3a"
             ],
             [
              0.8888888888888888,
              "#fdca26"
             ],
             [
              1,
              "#f0f921"
             ]
            ],
            "type": "contour"
           }
          ],
          "contourcarpet": [
           {
            "colorbar": {
             "outlinewidth": 0,
             "ticks": ""
            },
            "type": "contourcarpet"
           }
          ],
          "heatmap": [
           {
            "colorbar": {
             "outlinewidth": 0,
             "ticks": ""
            },
            "colorscale": [
             [
              0,
              "#0d0887"
             ],
             [
              0.1111111111111111,
              "#46039f"
             ],
             [
              0.2222222222222222,
              "#7201a8"
             ],
             [
              0.3333333333333333,
              "#9c179e"
             ],
             [
              0.4444444444444444,
              "#bd3786"
             ],
             [
              0.5555555555555556,
              "#d8576b"
             ],
             [
              0.6666666666666666,
              "#ed7953"
             ],
             [
              0.7777777777777778,
              "#fb9f3a"
             ],
             [
              0.8888888888888888,
              "#fdca26"
             ],
             [
              1,
              "#f0f921"
             ]
            ],
            "type": "heatmap"
           }
          ],
          "heatmapgl": [
           {
            "colorbar": {
             "outlinewidth": 0,
             "ticks": ""
            },
            "colorscale": [
             [
              0,
              "#0d0887"
             ],
             [
              0.1111111111111111,
              "#46039f"
             ],
             [
              0.2222222222222222,
              "#7201a8"
             ],
             [
              0.3333333333333333,
              "#9c179e"
             ],
             [
              0.4444444444444444,
              "#bd3786"
             ],
             [
              0.5555555555555556,
              "#d8576b"
             ],
             [
              0.6666666666666666,
              "#ed7953"
             ],
             [
              0.7777777777777778,
              "#fb9f3a"
             ],
             [
              0.8888888888888888,
              "#fdca26"
             ],
             [
              1,
              "#f0f921"
             ]
            ],
            "type": "heatmapgl"
           }
          ],
          "histogram": [
           {
            "marker": {
             "pattern": {
              "fillmode": "overlay",
              "size": 10,
              "solidity": 0.2
             }
            },
            "type": "histogram"
           }
          ],
          "histogram2d": [
           {
            "colorbar": {
             "outlinewidth": 0,
             "ticks": ""
            },
            "colorscale": [
             [
              0,
              "#0d0887"
             ],
             [
              0.1111111111111111,
              "#46039f"
             ],
             [
              0.2222222222222222,
              "#7201a8"
             ],
             [
              0.3333333333333333,
              "#9c179e"
             ],
             [
              0.4444444444444444,
              "#bd3786"
             ],
             [
              0.5555555555555556,
              "#d8576b"
             ],
             [
              0.6666666666666666,
              "#ed7953"
             ],
             [
              0.7777777777777778,
              "#fb9f3a"
             ],
             [
              0.8888888888888888,
              "#fdca26"
             ],
             [
              1,
              "#f0f921"
             ]
            ],
            "type": "histogram2d"
           }
          ],
          "histogram2dcontour": [
           {
            "colorbar": {
             "outlinewidth": 0,
             "ticks": ""
            },
            "colorscale": [
             [
              0,
              "#0d0887"
             ],
             [
              0.1111111111111111,
              "#46039f"
             ],
             [
              0.2222222222222222,
              "#7201a8"
             ],
             [
              0.3333333333333333,
              "#9c179e"
             ],
             [
              0.4444444444444444,
              "#bd3786"
             ],
             [
              0.5555555555555556,
              "#d8576b"
             ],
             [
              0.6666666666666666,
              "#ed7953"
             ],
             [
              0.7777777777777778,
              "#fb9f3a"
             ],
             [
              0.8888888888888888,
              "#fdca26"
             ],
             [
              1,
              "#f0f921"
             ]
            ],
            "type": "histogram2dcontour"
           }
          ],
          "mesh3d": [
           {
            "colorbar": {
             "outlinewidth": 0,
             "ticks": ""
            },
            "type": "mesh3d"
           }
          ],
          "parcoords": [
           {
            "line": {
             "colorbar": {
              "outlinewidth": 0,
              "ticks": ""
             }
            },
            "type": "parcoords"
           }
          ],
          "pie": [
           {
            "automargin": true,
            "type": "pie"
           }
          ],
          "scatter": [
           {
            "fillpattern": {
             "fillmode": "overlay",
             "size": 10,
             "solidity": 0.2
            },
            "type": "scatter"
           }
          ],
          "scatter3d": [
           {
            "line": {
             "colorbar": {
              "outlinewidth": 0,
              "ticks": ""
             }
            },
            "marker": {
             "colorbar": {
              "outlinewidth": 0,
              "ticks": ""
             }
            },
            "type": "scatter3d"
           }
          ],
          "scattercarpet": [
           {
            "marker": {
             "colorbar": {
              "outlinewidth": 0,
              "ticks": ""
             }
            },
            "type": "scattercarpet"
           }
          ],
          "scattergeo": [
           {
            "marker": {
             "colorbar": {
              "outlinewidth": 0,
              "ticks": ""
             }
            },
            "type": "scattergeo"
           }
          ],
          "scattergl": [
           {
            "marker": {
             "colorbar": {
              "outlinewidth": 0,
              "ticks": ""
             }
            },
            "type": "scattergl"
           }
          ],
          "scattermapbox": [
           {
            "marker": {
             "colorbar": {
              "outlinewidth": 0,
              "ticks": ""
             }
            },
            "type": "scattermapbox"
           }
          ],
          "scatterpolar": [
           {
            "marker": {
             "colorbar": {
              "outlinewidth": 0,
              "ticks": ""
             }
            },
            "type": "scatterpolar"
           }
          ],
          "scatterpolargl": [
           {
            "marker": {
             "colorbar": {
              "outlinewidth": 0,
              "ticks": ""
             }
            },
            "type": "scatterpolargl"
           }
          ],
          "scatterternary": [
           {
            "marker": {
             "colorbar": {
              "outlinewidth": 0,
              "ticks": ""
             }
            },
            "type": "scatterternary"
           }
          ],
          "surface": [
           {
            "colorbar": {
             "outlinewidth": 0,
             "ticks": ""
            },
            "colorscale": [
             [
              0,
              "#0d0887"
             ],
             [
              0.1111111111111111,
              "#46039f"
             ],
             [
              0.2222222222222222,
              "#7201a8"
             ],
             [
              0.3333333333333333,
              "#9c179e"
             ],
             [
              0.4444444444444444,
              "#bd3786"
             ],
             [
              0.5555555555555556,
              "#d8576b"
             ],
             [
              0.6666666666666666,
              "#ed7953"
             ],
             [
              0.7777777777777778,
              "#fb9f3a"
             ],
             [
              0.8888888888888888,
              "#fdca26"
             ],
             [
              1,
              "#f0f921"
             ]
            ],
            "type": "surface"
           }
          ],
          "table": [
           {
            "cells": {
             "fill": {
              "color": "#EBF0F8"
             },
             "line": {
              "color": "white"
             }
            },
            "header": {
             "fill": {
              "color": "#C8D4E3"
             },
             "line": {
              "color": "white"
             }
            },
            "type": "table"
           }
          ]
         },
         "layout": {
          "annotationdefaults": {
           "arrowcolor": "#2a3f5f",
           "arrowhead": 0,
           "arrowwidth": 1
          },
          "autotypenumbers": "strict",
          "coloraxis": {
           "colorbar": {
            "outlinewidth": 0,
            "ticks": ""
           }
          },
          "colorscale": {
           "diverging": [
            [
             0,
             "#8e0152"
            ],
            [
             0.1,
             "#c51b7d"
            ],
            [
             0.2,
             "#de77ae"
            ],
            [
             0.3,
             "#f1b6da"
            ],
            [
             0.4,
             "#fde0ef"
            ],
            [
             0.5,
             "#f7f7f7"
            ],
            [
             0.6,
             "#e6f5d0"
            ],
            [
             0.7,
             "#b8e186"
            ],
            [
             0.8,
             "#7fbc41"
            ],
            [
             0.9,
             "#4d9221"
            ],
            [
             1,
             "#276419"
            ]
           ],
           "sequential": [
            [
             0,
             "#0d0887"
            ],
            [
             0.1111111111111111,
             "#46039f"
            ],
            [
             0.2222222222222222,
             "#7201a8"
            ],
            [
             0.3333333333333333,
             "#9c179e"
            ],
            [
             0.4444444444444444,
             "#bd3786"
            ],
            [
             0.5555555555555556,
             "#d8576b"
            ],
            [
             0.6666666666666666,
             "#ed7953"
            ],
            [
             0.7777777777777778,
             "#fb9f3a"
            ],
            [
             0.8888888888888888,
             "#fdca26"
            ],
            [
             1,
             "#f0f921"
            ]
           ],
           "sequentialminus": [
            [
             0,
             "#0d0887"
            ],
            [
             0.1111111111111111,
             "#46039f"
            ],
            [
             0.2222222222222222,
             "#7201a8"
            ],
            [
             0.3333333333333333,
             "#9c179e"
            ],
            [
             0.4444444444444444,
             "#bd3786"
            ],
            [
             0.5555555555555556,
             "#d8576b"
            ],
            [
             0.6666666666666666,
             "#ed7953"
            ],
            [
             0.7777777777777778,
             "#fb9f3a"
            ],
            [
             0.8888888888888888,
             "#fdca26"
            ],
            [
             1,
             "#f0f921"
            ]
           ]
          },
          "colorway": [
           "#636efa",
           "#EF553B",
           "#00cc96",
           "#ab63fa",
           "#FFA15A",
           "#19d3f3",
           "#FF6692",
           "#B6E880",
           "#FF97FF",
           "#FECB52"
          ],
          "font": {
           "color": "#2a3f5f"
          },
          "geo": {
           "bgcolor": "white",
           "lakecolor": "white",
           "landcolor": "#E5ECF6",
           "showlakes": true,
           "showland": true,
           "subunitcolor": "white"
          },
          "hoverlabel": {
           "align": "left"
          },
          "hovermode": "closest",
          "mapbox": {
           "style": "light"
          },
          "paper_bgcolor": "white",
          "plot_bgcolor": "#E5ECF6",
          "polar": {
           "angularaxis": {
            "gridcolor": "white",
            "linecolor": "white",
            "ticks": ""
           },
           "bgcolor": "#E5ECF6",
           "radialaxis": {
            "gridcolor": "white",
            "linecolor": "white",
            "ticks": ""
           }
          },
          "scene": {
           "xaxis": {
            "backgroundcolor": "#E5ECF6",
            "gridcolor": "white",
            "gridwidth": 2,
            "linecolor": "white",
            "showbackground": true,
            "ticks": "",
            "zerolinecolor": "white"
           },
           "yaxis": {
            "backgroundcolor": "#E5ECF6",
            "gridcolor": "white",
            "gridwidth": 2,
            "linecolor": "white",
            "showbackground": true,
            "ticks": "",
            "zerolinecolor": "white"
           },
           "zaxis": {
            "backgroundcolor": "#E5ECF6",
            "gridcolor": "white",
            "gridwidth": 2,
            "linecolor": "white",
            "showbackground": true,
            "ticks": "",
            "zerolinecolor": "white"
           }
          },
          "shapedefaults": {
           "line": {
            "color": "#2a3f5f"
           }
          },
          "ternary": {
           "aaxis": {
            "gridcolor": "white",
            "linecolor": "white",
            "ticks": ""
           },
           "baxis": {
            "gridcolor": "white",
            "linecolor": "white",
            "ticks": ""
           },
           "bgcolor": "#E5ECF6",
           "caxis": {
            "gridcolor": "white",
            "linecolor": "white",
            "ticks": ""
           }
          },
          "title": {
           "x": 0.05
          },
          "xaxis": {
           "automargin": true,
           "gridcolor": "white",
           "linecolor": "white",
           "ticks": "",
           "title": {
            "standoff": 15
           },
           "zerolinecolor": "white",
           "zerolinewidth": 2
          },
          "yaxis": {
           "automargin": true,
           "gridcolor": "white",
           "linecolor": "white",
           "ticks": "",
           "title": {
            "standoff": 15
           },
           "zerolinecolor": "white",
           "zerolinewidth": 2
          }
         }
        },
        "title": {
         "text": "동별 이용자수 및 폐공가 수-면적"
        },
        "xaxis": {
         "anchor": "y",
         "autorange": true,
         "domain": [
          0,
          1
         ],
         "range": [
          0.7204722934639229,
          36.284095031669736
         ],
         "title": {
          "text": "폐공가수"
         },
         "type": "linear"
        },
        "yaxis": {
         "anchor": "x",
         "autorange": true,
         "domain": [
          0,
          1
         ],
         "range": [
          68.66960226329999,
          185.39536215017156
         ],
         "title": {
          "text": "연면적 (m^2)"
         },
         "type": "linear"
        }
       }
      },
      "image/png": "[encoded data removed]",
      "text/html": [
       "<div>                            <div id=\"1f00efd4-7778-4696-a7f6-85ef77388e9a\" class=\"plotly-graph-div\" style=\"height:800px; width:100%;\"></div>            <script type=\"text/javascript\">                require([\"plotly\"], function(Plotly) {                    window.PLOTLYENV=window.PLOTLYENV || {};                                    if (document.getElementById(\"1f00efd4-7778-4696-a7f6-85ef77388e9a\")) {                    Plotly.newPlot(                        \"1f00efd4-7778-4696-a7f6-85ef77388e9a\",                        [{\"hovertemplate\":\"\\uc74d\\uba74\\ub3d9=\\uac15\\ub0a8\\ub3d9<br>\\ud3d0\\uacf5\\uac00\\uc218=%{x}<br>\\uc5f0\\uba74\\uc801=%{marker.size}<br>\\uc774\\uc6a9\\uc790\\uc218=%{text}<extra></extra>\",\"legendgroup\":\"\\uac15\\ub0a8\\ub3d9\",\"marker\":{\"color\":\"#636efa\",\"size\":[99.68],\"sizemode\":\"area\",\"sizeref\":0.04754722222222222,\"symbol\":\"circle\"},\"mode\":\"markers+text\",\"name\":\"\\uac15\\ub0a8\\ub3d9\",\"orientation\":\"v\",\"showlegend\":true,\"text\":[443.54],\"x\":[7],\"xaxis\":\"x\",\"y\":[99.68],\"yaxis\":\"y\",\"type\":\"scatter\"},{\"hovertemplate\":\"\\uc74d\\uba74\\ub3d9=\\uad50\\ub3d9<br>\\ud3d0\\uacf5\\uac00\\uc218=%{x}<br>\\uc5f0\\uba74\\uc801=%{marker.size}<br>\\uc774\\uc6a9\\uc790\\uc218=%{text}<extra></extra>\",\"legendgroup\":\"\\uad50\\ub3d9\",\"marker\":{\"color\":\"#EF553B\",\"size\":[147.99],\"sizemode\":\"area\",\"sizeref\":0.04754722222222222,\"symbol\":\"circle\"},\"mode\":\"markers+text\",\"name\":\"\\uad50\\ub3d9\",\"orientation\":\"v\",\"showlegend\":true,\"text\":[131.01],\"x\":[9],\"xaxis\":\"x\",\"y\":[147.99],\"yaxis\":\"y\",\"type\":\"scatter\"},{\"hovertemplate\":\"\\uc74d\\uba74\\ub3d9=\\uadfc\\ud654\\ub3d9<br>\\ud3d0\\uacf5\\uac00\\uc218=%{x}<br>\\uc5f0\\uba74\\uc801=%{marker.size}<br>\\uc774\\uc6a9\\uc790\\uc218=%{text}<extra></extra>\",\"legendgroup\":\"\\uadfc\\ud654\\ub3d9\",\"marker\":{\"color\":\"#00cc96\",\"size\":[106.67],\"sizemode\":\"area\",\"sizeref\":0.04754722222222222,\"symbol\":\"circle\"},\"mode\":\"markers+text\",\"name\":\"\\uadfc\\ud654\\ub3d9\",\"orientation\":\"v\",\"showlegend\":true,\"text\":[206.39],\"x\":[4],\"xaxis\":\"x\",\"y\":[106.67],\"yaxis\":\"y\",\"type\":\"scatter\"},{\"hovertemplate\":\"\\uc74d\\uba74\\ub3d9=\\uc18c\\uc591\\ub3d9<br>\\ud3d0\\uacf5\\uac00\\uc218=%{x}<br>\\uc5f0\\uba74\\uc801=%{marker.size}<br>\\uc774\\uc6a9\\uc790\\uc218=%{text}<extra></extra>\",\"legendgroup\":\"\\uc18c\\uc591\\ub3d9\",\"marker\":{\"color\":\"#ab63fa\",\"size\":[171.17],\"sizemode\":\"area\",\"sizeref\":0.04754722222222222,\"symbol\":\"circle\"},\"mode\":\"markers+text\",\"name\":\"\\uc18c\\uc591\\ub3d9\",\"orientation\":\"v\",\"showlegend\":true,\"text\":[3915.98],\"x\":[17],\"xaxis\":\"x\",\"y\":[171.17],\"yaxis\":\"y\",\"type\":\"scatter\"},{\"hovertemplate\":\"\\uc74d\\uba74\\ub3d9=\\uc2e0\\uc0ac\\uc6b0\\ub3d9<br>\\ud3d0\\uacf5\\uac00\\uc218=%{x}<br>\\uc5f0\\uba74\\uc801=%{marker.size}<br>\\uc774\\uc6a9\\uc790\\uc218=%{text}<extra></extra>\",\"legendgroup\":\"\\uc2e0\\uc0ac\\uc6b0\\ub3d9\",\"marker\":{\"color\":\"#FFA15A\",\"size\":[91.23],\"sizemode\":\"area\",\"sizeref\":0.04754722222222222,\"symbol\":\"circle\"},\"mode\":\"markers+text\",\"name\":\"\\uc2e0\\uc0ac\\uc6b0\\ub3d9\",\"orientation\":\"v\",\"showlegend\":true,\"text\":[176.81],\"x\":[16],\"xaxis\":\"x\",\"y\":[91.23],\"yaxis\":\"y\",\"type\":\"scatter\"},{\"hovertemplate\":\"\\uc74d\\uba74\\ub3d9=\\uc57d\\uc0ac\\uba85\\ub3d9<br>\\ud3d0\\uacf5\\uac00\\uc218=%{x}<br>\\uc5f0\\uba74\\uc801=%{marker.size}<br>\\uc774\\uc6a9\\uc790\\uc218=%{text}<extra></extra>\",\"legendgroup\":\"\\uc57d\\uc0ac\\uba85\\ub3d9\",\"marker\":{\"color\":\"#19d3f3\",\"size\":[80.25],\"sizemode\":\"area\",\"sizeref\":0.04754722222222222,\"symbol\":\"circle\"},\"mode\":\"markers+text\",\"name\":\"\\uc57d\\uc0ac\\uba85\\ub3d9\",\"orientation\":\"v\",\"showlegend\":true,\"text\":[2170.44],\"x\":[14],\"xaxis\":\"x\",\"y\":[80.25],\"yaxis\":\"y\",\"type\":\"scatter\"},{\"hovertemplate\":\"\\uc74d\\uba74\\ub3d9=\\uc870\\uc6b4\\ub3d9<br>\\ud3d0\\uacf5\\uac00\\uc218=%{x}<br>\\uc5f0\\uba74\\uc801=%{marker.size}<br>\\uc774\\uc6a9\\uc790\\uc218=%{text}<extra></extra>\",\"legendgroup\":\"\\uc870\\uc6b4\\ub3d9\",\"marker\":{\"color\":\"#FF6692\",\"size\":[113.61],\"sizemode\":\"area\",\"sizeref\":0.04754722222222222,\"symbol\":\"circle\"},\"mode\":\"markers+text\",\"name\":\"\\uc870\\uc6b4\\ub3d9\",\"orientation\":\"v\",\"showlegend\":true,\"text\":[3819.26],\"x\":[15],\"xaxis\":\"x\",\"y\":[113.61],\"yaxis\":\"y\",\"type\":\"scatter\"},{\"hovertemplate\":\"\\uc74d\\uba74\\ub3d9=\\ud1f4\\uacc4\\ub3d9<br>\\ud3d0\\uacf5\\uac00\\uc218=%{x}<br>\\uc5f0\\uba74\\uc801=%{marker.size}<br>\\uc774\\uc6a9\\uc790\\uc218=%{text}<extra></extra>\",\"legendgroup\":\"\\ud1f4\\uacc4\\ub3d9\",\"marker\":{\"color\":\"#B6E880\",\"size\":[92.78],\"sizemode\":\"area\",\"sizeref\":0.04754722222222222,\"symbol\":\"circle\"},\"mode\":\"markers+text\",\"name\":\"\\ud1f4\\uacc4\\ub3d9\",\"orientation\":\"v\",\"showlegend\":true,\"text\":[1477.44],\"x\":[6],\"xaxis\":\"x\",\"y\":[92.78],\"yaxis\":\"y\",\"type\":\"scatter\"},{\"hovertemplate\":\"\\uc74d\\uba74\\ub3d9=\\ud6a8\\uc790\\ub3d9<br>\\ud3d0\\uacf5\\uac00\\uc218=%{x}<br>\\uc5f0\\uba74\\uc801=%{marker.size}<br>\\uc774\\uc6a9\\uc790\\uc218=%{text}<extra></extra>\",\"legendgroup\":\"\\ud6a8\\uc790\\ub3d9\",\"marker\":{\"color\":\"#FF97FF\",\"size\":[107.32],\"sizemode\":\"area\",\"sizeref\":0.04754722222222222,\"symbol\":\"circle\"},\"mode\":\"markers+text\",\"name\":\"\\ud6a8\\uc790\\ub3d9\",\"orientation\":\"v\",\"showlegend\":true,\"text\":[714.69],\"x\":[33],\"xaxis\":\"x\",\"y\":[107.32],\"yaxis\":\"y\",\"type\":\"scatter\"},{\"hovertemplate\":\"\\uc74d\\uba74\\ub3d9=\\ud6c4\\ud3c9\\ub3d9<br>\\ud3d0\\uacf5\\uac00\\uc218=%{x}<br>\\uc5f0\\uba74\\uc801=%{marker.size}<br>\\uc774\\uc6a9\\uc790\\uc218=%{text}<extra></extra>\",\"legendgroup\":\"\\ud6c4\\ud3c9\\ub3d9\",\"marker\":{\"color\":\"#FECB52\",\"size\":[127.16],\"sizemode\":\"area\",\"sizeref\":0.04754722222222222,\"symbol\":\"circle\"},\"mode\":\"markers+text\",\"name\":\"\\ud6c4\\ud3c9\\ub3d9\",\"orientation\":\"v\",\"showlegend\":true,\"text\":[310.9],\"x\":[13],\"xaxis\":\"x\",\"y\":[127.16],\"yaxis\":\"y\",\"type\":\"scatter\"}],                        {\"template\":{\"data\":{\"histogram2dcontour\":[{\"type\":\"histogram2dcontour\",\"colorbar\":{\"outlinewidth\":0,\"ticks\":\"\"},\"colorscale\":[[0.0,\"#0d0887\"],[0.1111111111111111,\"#46039f\"],[0.2222222222222222,\"#7201a8\"],[0.3333333333333333,\"#9c179e\"],[0.4444444444444444,\"#bd3786\"],[0.5555555555555556,\"#d8576b\"],[0.6666666666666666,\"#ed7953\"],[0.7777777777777778,\"#fb9f3a\"],[0.8888888888888888,\"#fdca26\"],[1.0,\"#f0f921\"]]}],\"choropleth\":[{\"type\":\"choropleth\",\"colorbar\":{\"outlinewidth\":0,\"ticks\":\"\"}}],\"histogram2d\":[{\"type\":\"histogram2d\",\"colorbar\":{\"outlinewidth\":0,\"ticks\":\"\"},\"colorscale\":[[0.0,\"#0d0887\"],[0.1111111111111111,\"#46039f\"],[0.2222222222222222,\"#7201a8\"],[0.3333333333333333,\"#9c179e\"],[0.4444444444444444,\"#bd3786\"],[0.5555555555555556,\"#d8576b\"],[0.6666666666666666,\"#ed7953\"],[0.7777777777777778,\"#fb9f3a\"],[0.8888888888888888,\"#fdca26\"],[1.0,\"#f0f921\"]]}],\"heatmap\":[{\"type\":\"heatmap\",\"colorbar\":{\"outlinewidth\":0,\"ticks\":\"\"},\"colorscale\":[[0.0,\"#0d0887\"],[0.1111111111111111,\"#46039f\"],[0.2222222222222222,\"#7201a8\"],[0.3333333333333333,\"#9c179e\"],[0.4444444444444444,\"#bd3786\"],[0.5555555555555556,\"#d8576b\"],[0.6666666666666666,\"#ed7953\"],[0.7777777777777778,\"#fb9f3a\"],[0.8888888888888888,\"#fdca26\"],[1.0,\"#f0f921\"]]}],\"heatmapgl\":[{\"type\":\"heatmapgl\",\"colorbar\":{\"outlinewidth\":0,\"ticks\":\"\"},\"colorscale\":[[0.0,\"#0d0887\"],[0.1111111111111111,\"#46039f\"],[0.2222222222222222,\"#7201a8\"],[0.3333333333333333,\"#9c179e\"],[0.4444444444444444,\"#bd3786\"],[0.5555555555555556,\"#d8576b\"],[0.6666666666666666,\"#ed7953\"],[0.7777777777777778,\"#fb9f3a\"],[0.8888888888888888,\"#fdca26\"],[1.0,\"#f0f921\"]]}],\"contourcarpet\":[{\"type\":\"contourcarpet\",\"colorbar\":{\"outlinewidth\":0,\"ticks\":\"\"}}],\"contour\":[{\"type\":\"contour\",\"colorbar\":{\"outlinewidth\":0,\"ticks\":\"\"},\"colorscale\":[[0.0,\"#0d0887\"],[0.1111111111111111,\"#46039f\"],[0.2222222222222222,\"#7201a8\"],[0.3333333333333333,\"#9c179e\"],[0.4444444444444444,\"#bd3786\"],[0.5555555555555556,\"#d8576b\"],[0.6666666666666666,\"#ed7953\"],[0.7777777777777778,\"#fb9f3a\"],[0.8888888888888888,\"#fdca26\"],[1.0,\"#f0f921\"]]}],\"surface\":[{\"type\":\"surface\",\"colorbar\":{\"outlinewidth\":0,\"ticks\":\"\"},\"colorscale\":[[0.0,\"#0d0887\"],[0.1111111111111111,\"#46039f\"],[0.2222222222222222,\"#7201a8\"],[0.3333333333333333,\"#9c179e\"],[0.4444444444444444,\"#bd3786\"],[0.5555555555555556,\"#d8576b\"],[0.6666666666666666,\"#ed7953\"],[0.7777777777777778,\"#fb9f3a\"],[0.8888888888888888,\"#fdca26\"],[1.0,\"#f0f921\"]]}],\"mesh3d\":[{\"type\":\"mesh3d\",\"colorbar\":{\"outlinewidth\":0,\"ticks\":\"\"}}],\"scatter\":[{\"fillpattern\":{\"fillmode\":\"overlay\",\"size\":10,\"solidity\":0.2},\"type\":\"scatter\"}],\"parcoords\":[{\"type\":\"parcoords\",\"line\":{\"colorbar\":{\"outlinewidth\":0,\"ticks\":\"\"}}}],\"scatterpolargl\":[{\"type\":\"scatterpolargl\",\"marker\":{\"colorbar\":{\"outlinewidth\":0,\"ticks\":\"\"}}}],\"bar\":[{\"error_x\":{\"color\":\"#2a3f5f\"},\"error_y\":{\"color\":\"#2a3f5f\"},\"marker\":{\"line\":{\"color\":\"#E5ECF6\",\"width\":0.5},\"pattern\":{\"fillmode\":\"overlay\",\"size\":10,\"solidity\":0.2}},\"type\":\"bar\"}],\"scattergeo\":[{\"type\":\"scattergeo\",\"marker\":{\"colorbar\":{\"outlinewidth\":0,\"ticks\":\"\"}}}],\"scatterpolar\":[{\"type\":\"scatterpolar\",\"marker\":{\"colorbar\":{\"outlinewidth\":0,\"ticks\":\"\"}}}],\"histogram\":[{\"marker\":{\"pattern\":{\"fillmode\":\"overlay\",\"size\":10,\"solidity\":0.2}},\"type\":\"histogram\"}],\"scattergl\":[{\"type\":\"scattergl\",\"marker\":{\"colorbar\":{\"outlinewidth\":0,\"ticks\":\"\"}}}],\"scatter3d\":[{\"type\":\"scatter3d\",\"line\":{\"colorbar\":{\"outlinewidth\":0,\"ticks\":\"\"}},\"marker\":{\"colorbar\":{\"outlinewidth\":0,\"ticks\":\"\"}}}],\"scattermapbox\":[{\"type\":\"scattermapbox\",\"marker\":{\"colorbar\":{\"outlinewidth\":0,\"ticks\":\"\"}}}],\"scatterternary\":[{\"type\":\"scatterternary\",\"marker\":{\"colorbar\":{\"outlinewidth\":0,\"ticks\":\"\"}}}],\"scattercarpet\":[{\"type\":\"scattercarpet\",\"marker\":{\"colorbar\":{\"outlinewidth\":0,\"ticks\":\"\"}}}],\"carpet\":[{\"aaxis\":{\"endlinecolor\":\"#2a3f5f\",\"gridcolor\":\"white\",\"linecolor\":\"white\",\"minorgridcolor\":\"white\",\"startlinecolor\":\"#2a3f5f\"},\"baxis\":{\"endlinecolor\":\"#2a3f5f\",\"gridcolor\":\"white\",\"linecolor\":\"white\",\"minorgridcolor\":\"white\",\"startlinecolor\":\"#2a3f5f\"},\"type\":\"carpet\"}],\"table\":[{\"cells\":{\"fill\":{\"color\":\"#EBF0F8\"},\"line\":{\"color\":\"white\"}},\"header\":{\"fill\":{\"color\":\"#C8D4E3\"},\"line\":{\"color\":\"white\"}},\"type\":\"table\"}],\"barpolar\":[{\"marker\":{\"line\":{\"color\":\"#E5ECF6\",\"width\":0.5},\"pattern\":{\"fillmode\":\"overlay\",\"size\":10,\"solidity\":0.2}},\"type\":\"barpolar\"}],\"pie\":[{\"automargin\":true,\"type\":\"pie\"}]},\"layout\":{\"autotypenumbers\":\"strict\",\"colorway\":[\"#636efa\",\"#EF553B\",\"#00cc96\",\"#ab63fa\",\"#FFA15A\",\"#19d3f3\",\"#FF6692\",\"#B6E880\",\"#FF97FF\",\"#FECB52\"],\"font\":{\"color\":\"#2a3f5f\"},\"hovermode\":\"closest\",\"hoverlabel\":{\"align\":\"left\"},\"paper_bgcolor\":\"white\",\"plot_bgcolor\":\"#E5ECF6\",\"polar\":{\"bgcolor\":\"#E5ECF6\",\"angularaxis\":{\"gridcolor\":\"white\",\"linecolor\":\"white\",\"ticks\":\"\"},\"radialaxis\":{\"gridcolor\":\"white\",\"linecolor\":\"white\",\"ticks\":\"\"}},\"ternary\":{\"bgcolor\":\"#E5ECF6\",\"aaxis\":{\"gridcolor\":\"white\",\"linecolor\":\"white\",\"ticks\":\"\"},\"baxis\":{\"gridcolor\":\"white\",\"linecolor\":\"white\",\"ticks\":\"\"},\"caxis\":{\"gridcolor\":\"white\",\"linecolor\":\"white\",\"ticks\":\"\"}},\"coloraxis\":{\"colorbar\":{\"outlinewidth\":0,\"ticks\":\"\"}},\"colorscale\":{\"sequential\":[[0.0,\"#0d0887\"],[0.1111111111111111,\"#46039f\"],[0.2222222222222222,\"#7201a8\"],[0.3333333333333333,\"#9c179e\"],[0.4444444444444444,\"#bd3786\"],[0.5555555555555556,\"#d8576b\"],[0.6666666666666666,\"#ed7953\"],[0.7777777777777778,\"#fb9f3a\"],[0.8888888888888888,\"#fdca26\"],[1.0,\"#f0f921\"]],\"sequentialminus\":[[0.0,\"#0d0887\"],[0.1111111111111111,\"#46039f\"],[0.2222222222222222,\"#7201a8\"],[0.3333333333333333,\"#9c179e\"],[0.4444444444444444,\"#bd3786\"],[0.5555555555555556,\"#d8576b\"],[0.6666666666666666,\"#ed7953\"],[0.7777777777777778,\"#fb9f3a\"],[0.8888888888888888,\"#fdca26\"],[1.0,\"#f0f921\"]],\"diverging\":[[0,\"#8e0152\"],[0.1,\"#c51b7d\"],[0.2,\"#de77ae\"],[0.3,\"#f1b6da\"],[0.4,\"#fde0ef\"],[0.5,\"#f7f7f7\"],[0.6,\"#e6f5d0\"],[0.7,\"#b8e186\"],[0.8,\"#7fbc41\"],[0.9,\"#4d9221\"],[1,\"#276419\"]]},\"xaxis\":{\"gridcolor\":\"white\",\"linecolor\":\"white\",\"ticks\":\"\",\"title\":{\"standoff\":15},\"zerolinecolor\":\"white\",\"automargin\":true,\"zerolinewidth\":2},\"yaxis\":{\"gridcolor\":\"white\",\"linecolor\":\"white\",\"ticks\":\"\",\"title\":{\"standoff\":15},\"zerolinecolor\":\"white\",\"automargin\":true,\"zerolinewidth\":2},\"scene\":{\"xaxis\":{\"backgroundcolor\":\"#E5ECF6\",\"gridcolor\":\"white\",\"linecolor\":\"white\",\"showbackground\":true,\"ticks\":\"\",\"zerolinecolor\":\"white\",\"gridwidth\":2},\"yaxis\":{\"backgroundcolor\":\"#E5ECF6\",\"gridcolor\":\"white\",\"linecolor\":\"white\",\"showbackground\":true,\"ticks\":\"\",\"zerolinecolor\":\"white\",\"gridwidth\":2},\"zaxis\":{\"backgroundcolor\":\"#E5ECF6\",\"gridcolor\":\"white\",\"linecolor\":\"white\",\"showbackground\":true,\"ticks\":\"\",\"zerolinecolor\":\"white\",\"gridwidth\":2}},\"shapedefaults\":{\"line\":{\"color\":\"#2a3f5f\"}},\"annotationdefaults\":{\"arrowcolor\":\"#2a3f5f\",\"arrowhead\":0,\"arrowwidth\":1},\"geo\":{\"bgcolor\":\"white\",\"landcolor\":\"#E5ECF6\",\"subunitcolor\":\"white\",\"showland\":true,\"showlakes\":true,\"lakecolor\":\"white\"},\"title\":{\"x\":0.05},\"mapbox\":{\"style\":\"light\"}}},\"xaxis\":{\"anchor\":\"y\",\"domain\":[0.0,1.0],\"title\":{\"text\":\"\\ud3d0\\uacf5\\uac00\\uc218\"}},\"yaxis\":{\"anchor\":\"x\",\"domain\":[0.0,1.0],\"title\":{\"text\":\"\\uc5f0\\uba74\\uc801 (m^2)\"}},\"legend\":{\"title\":{\"text\":\"\\uc74d\\uba74\\ub3d9\"},\"tracegroupgap\":0,\"itemsizing\":\"constant\"},\"margin\":{\"t\":60},\"title\":{\"text\":\"\\ub3d9\\ubcc4 \\uc774\\uc6a9\\uc790\\uc218 \\ubc0f \\ud3d0\\uacf5\\uac00 \\uc218-\\uba74\\uc801\"},\"height\":800},                        {\"responsive\": true}                    ).then(function(){\n",
       "                            \n",
       "var gd = document.getElementById('1f00efd4-7778-4696-a7f6-85ef77388e9a');\n",
       "var x = new MutationObserver(function (mutations, observer) {{\n",
       "        var display = window.getComputedStyle(gd).display;\n",
       "        if (!display || display === 'none') {{\n",
       "            console.log([gd, 'removed!']);\n",
       "            Plotly.purge(gd);\n",
       "            observer.disconnect();\n",
       "        }}\n",
       "}});\n",
       "\n",
       "// Listen for the removal of the full notebook cells\n",
       "var notebookContainer = gd.closest('#notebook-container');\n",
       "if (notebookContainer) {{\n",
       "    x.observe(notebookContainer, {childList: true});\n",
       "}}\n",
       "\n",
       "// Listen for the clearing of the current output cell\n",
       "var outputEl = gd.closest('.output');\n",
       "if (outputEl) {{\n",
       "    x.observe(outputEl, {childList: true});\n",
       "}}\n",
       "\n",
       "                        })                };                });            </script>        </div>"
      ]
     },
     "metadata": {},
     "output_type": "display_data"
    }
   ],
   "source": [
    "fig = px.scatter(df_sum, x='폐공가수', y='연면적', size= '연면적', color = '읍면동', text = '이용자수', size_max=60)\n",
    "\n",
    "fig.update_layout(title_text=\"동별 이용자수 및 폐공가 수-면적\", height=800)\n",
    "# fig.update_traces(textposition='top center')\n",
    "fig.update_xaxes(title_text ='폐공가수')\n",
    "fig.update_yaxes(title_text ='연면적 (m^2)')\n",
    "\n",
    "fig.show()"
   ]
  },
  {
   "cell_type": "code",
   "execution_count": 99,
   "id": "34bbfbdf-b27c-455d-b969-0fca72a35095",
   "metadata": {},
   "outputs": [
    {
     "data": {
      "text/html": [
       "<div>\n",
       "<style scoped>\n",
       "    .dataframe tbody tr th:only-of-type {\n",
       "        vertical-align: middle;\n",
       "    }\n",
       "\n",
       "    .dataframe tbody tr th {\n",
       "        vertical-align: top;\n",
       "    }\n",
       "\n",
       "    .dataframe thead th {\n",
       "        text-align: right;\n",
       "    }\n",
       "</style>\n",
       "<table border=\"1\" class=\"dataframe\">\n",
       "  <thead>\n",
       "    <tr style=\"text-align: right;\">\n",
       "      <th></th>\n",
       "      <th>상호명</th>\n",
       "      <th>날짜</th>\n",
       "      <th>업종</th>\n",
       "      <th>위도</th>\n",
       "      <th>경도</th>\n",
       "      <th>시도</th>\n",
       "      <th>시군구</th>\n",
       "      <th>읍면동</th>\n",
       "      <th>이용자수</th>\n",
       "      <th>남성비율</th>\n",
       "      <th>여성비율</th>\n",
       "      <th>10대비율</th>\n",
       "      <th>20대비율</th>\n",
       "      <th>30대비율</th>\n",
       "      <th>40대비율</th>\n",
       "      <th>50대이상비율</th>\n",
       "      <th>데이터기준일</th>\n",
       "    </tr>\n",
       "  </thead>\n",
       "  <tbody>\n",
       "    <tr>\n",
       "      <th>0</th>\n",
       "      <td>(주)화천레미콘</td>\n",
       "      <td>2021-07-19</td>\n",
       "      <td>기타시설</td>\n",
       "      <td>37.851783</td>\n",
       "      <td>127.750995</td>\n",
       "      <td>강원</td>\n",
       "      <td>춘천시</td>\n",
       "      <td>효자동</td>\n",
       "      <td>551</td>\n",
       "      <td>26.17</td>\n",
       "      <td>73.83</td>\n",
       "      <td>0.97</td>\n",
       "      <td>2.47</td>\n",
       "      <td>1.36</td>\n",
       "      <td>4.14</td>\n",
       "      <td>91.06</td>\n",
       "      <td>2021-12-21</td>\n",
       "    </tr>\n",
       "    <tr>\n",
       "      <th>1</th>\n",
       "      <td>여의도순복음춘천교회</td>\n",
       "      <td>2021-07-19</td>\n",
       "      <td>종교시설</td>\n",
       "      <td>37.849759</td>\n",
       "      <td>127.755033</td>\n",
       "      <td>강원</td>\n",
       "      <td>춘천시</td>\n",
       "      <td>동내면</td>\n",
       "      <td>79</td>\n",
       "      <td>42.50</td>\n",
       "      <td>57.50</td>\n",
       "      <td>13.22</td>\n",
       "      <td>18.84</td>\n",
       "      <td>25.55</td>\n",
       "      <td>21.69</td>\n",
       "      <td>20.70</td>\n",
       "      <td>2021-12-21</td>\n",
       "    </tr>\n",
       "    <tr>\n",
       "      <th>2</th>\n",
       "      <td>디자인카페티이오</td>\n",
       "      <td>2021-07-19</td>\n",
       "      <td>카페</td>\n",
       "      <td>37.884288</td>\n",
       "      <td>127.728886</td>\n",
       "      <td>강원</td>\n",
       "      <td>춘천시</td>\n",
       "      <td>소양동</td>\n",
       "      <td>95</td>\n",
       "      <td>46.24</td>\n",
       "      <td>53.76</td>\n",
       "      <td>13.52</td>\n",
       "      <td>20.90</td>\n",
       "      <td>21.89</td>\n",
       "      <td>21.74</td>\n",
       "      <td>21.95</td>\n",
       "      <td>2021-12-21</td>\n",
       "    </tr>\n",
       "    <tr>\n",
       "      <th>3</th>\n",
       "      <td>브이스페이스(VSpace)</td>\n",
       "      <td>2021-07-19</td>\n",
       "      <td>카페</td>\n",
       "      <td>37.815480</td>\n",
       "      <td>127.716347</td>\n",
       "      <td>강원</td>\n",
       "      <td>춘천시</td>\n",
       "      <td>신동면</td>\n",
       "      <td>72</td>\n",
       "      <td>55.17</td>\n",
       "      <td>44.83</td>\n",
       "      <td>10.38</td>\n",
       "      <td>20.74</td>\n",
       "      <td>20.02</td>\n",
       "      <td>22.26</td>\n",
       "      <td>26.60</td>\n",
       "      <td>2021-12-21</td>\n",
       "    </tr>\n",
       "    <tr>\n",
       "      <th>4</th>\n",
       "      <td>오꼬만봄내점</td>\n",
       "      <td>2021-07-19</td>\n",
       "      <td>음식점</td>\n",
       "      <td>37.855721</td>\n",
       "      <td>127.745546</td>\n",
       "      <td>강원</td>\n",
       "      <td>춘천시</td>\n",
       "      <td>효자동</td>\n",
       "      <td>315</td>\n",
       "      <td>28.96</td>\n",
       "      <td>71.04</td>\n",
       "      <td>15.33</td>\n",
       "      <td>21.03</td>\n",
       "      <td>19.13</td>\n",
       "      <td>22.74</td>\n",
       "      <td>21.77</td>\n",
       "      <td>2021-12-21</td>\n",
       "    </tr>\n",
       "    <tr>\n",
       "      <th>...</th>\n",
       "      <td>...</td>\n",
       "      <td>...</td>\n",
       "      <td>...</td>\n",
       "      <td>...</td>\n",
       "      <td>...</td>\n",
       "      <td>...</td>\n",
       "      <td>...</td>\n",
       "      <td>...</td>\n",
       "      <td>...</td>\n",
       "      <td>...</td>\n",
       "      <td>...</td>\n",
       "      <td>...</td>\n",
       "      <td>...</td>\n",
       "      <td>...</td>\n",
       "      <td>...</td>\n",
       "      <td>...</td>\n",
       "      <td>...</td>\n",
       "    </tr>\n",
       "    <tr>\n",
       "      <th>984657</th>\n",
       "      <td>블랙박스</td>\n",
       "      <td>2021-11-17</td>\n",
       "      <td>의류판매</td>\n",
       "      <td>37.879256</td>\n",
       "      <td>127.728921</td>\n",
       "      <td>강원</td>\n",
       "      <td>춘천시</td>\n",
       "      <td>조운동</td>\n",
       "      <td>61713</td>\n",
       "      <td>46.29</td>\n",
       "      <td>53.71</td>\n",
       "      <td>27.70</td>\n",
       "      <td>17.58</td>\n",
       "      <td>17.61</td>\n",
       "      <td>15.24</td>\n",
       "      <td>21.87</td>\n",
       "      <td>2021-12-21</td>\n",
       "    </tr>\n",
       "    <tr>\n",
       "      <th>984658</th>\n",
       "      <td>뉴욕바닷가재</td>\n",
       "      <td>2021-11-17</td>\n",
       "      <td>음식점</td>\n",
       "      <td>37.841142</td>\n",
       "      <td>127.766668</td>\n",
       "      <td>강원</td>\n",
       "      <td>춘천시</td>\n",
       "      <td>동내면</td>\n",
       "      <td>71</td>\n",
       "      <td>54.29</td>\n",
       "      <td>45.71</td>\n",
       "      <td>14.88</td>\n",
       "      <td>18.76</td>\n",
       "      <td>22.37</td>\n",
       "      <td>21.64</td>\n",
       "      <td>22.35</td>\n",
       "      <td>2021-12-21</td>\n",
       "    </tr>\n",
       "    <tr>\n",
       "      <th>984659</th>\n",
       "      <td>봄시내재가노인복지센터</td>\n",
       "      <td>2021-11-17</td>\n",
       "      <td>기타시설</td>\n",
       "      <td>37.881195</td>\n",
       "      <td>127.759578</td>\n",
       "      <td>강원</td>\n",
       "      <td>춘천시</td>\n",
       "      <td>동면</td>\n",
       "      <td>97</td>\n",
       "      <td>54.30</td>\n",
       "      <td>45.70</td>\n",
       "      <td>16.68</td>\n",
       "      <td>15.44</td>\n",
       "      <td>22.66</td>\n",
       "      <td>25.20</td>\n",
       "      <td>20.02</td>\n",
       "      <td>2021-12-21</td>\n",
       "    </tr>\n",
       "    <tr>\n",
       "      <th>984660</th>\n",
       "      <td>춘천2번지닭갈비</td>\n",
       "      <td>2021-11-17</td>\n",
       "      <td>음식점</td>\n",
       "      <td>37.852734</td>\n",
       "      <td>127.747395</td>\n",
       "      <td>강원</td>\n",
       "      <td>춘천시</td>\n",
       "      <td>효자동</td>\n",
       "      <td>126</td>\n",
       "      <td>22.43</td>\n",
       "      <td>77.57</td>\n",
       "      <td>14.71</td>\n",
       "      <td>20.51</td>\n",
       "      <td>18.51</td>\n",
       "      <td>25.04</td>\n",
       "      <td>21.23</td>\n",
       "      <td>2021-12-21</td>\n",
       "    </tr>\n",
       "    <tr>\n",
       "      <th>984661</th>\n",
       "      <td>지에스25 춘천외솔점</td>\n",
       "      <td>2021-11-17</td>\n",
       "      <td>편의점</td>\n",
       "      <td>37.857769</td>\n",
       "      <td>127.757196</td>\n",
       "      <td>강원</td>\n",
       "      <td>춘천시</td>\n",
       "      <td>동내면</td>\n",
       "      <td>70</td>\n",
       "      <td>54.64</td>\n",
       "      <td>45.36</td>\n",
       "      <td>13.65</td>\n",
       "      <td>18.85</td>\n",
       "      <td>23.47</td>\n",
       "      <td>22.90</td>\n",
       "      <td>21.13</td>\n",
       "      <td>2021-12-21</td>\n",
       "    </tr>\n",
       "  </tbody>\n",
       "</table>\n",
       "<p>984662 rows × 17 columns</p>\n",
       "</div>"
      ],
      "text/plain": [
       "                   상호명         날짜    업종         위도          경도  시도  시군구  읍면동  \\\n",
       "0             (주)화천레미콘 2021-07-19  기타시설  37.851783  127.750995  강원  춘천시  효자동   \n",
       "1           여의도순복음춘천교회 2021-07-19  종교시설  37.849759  127.755033  강원  춘천시  동내면   \n",
       "2             디자인카페티이오 2021-07-19    카페  37.884288  127.728886  강원  춘천시  소양동   \n",
       "3       브이스페이스(VSpace) 2021-07-19    카페  37.815480  127.716347  강원  춘천시  신동면   \n",
       "4               오꼬만봄내점 2021-07-19   음식점  37.855721  127.745546  강원  춘천시  효자동   \n",
       "...                ...        ...   ...        ...         ...  ..  ...  ...   \n",
       "984657            블랙박스 2021-11-17  의류판매  37.879256  127.728921  강원  춘천시  조운동   \n",
       "984658          뉴욕바닷가재 2021-11-17   음식점  37.841142  127.766668  강원  춘천시  동내면   \n",
       "984659     봄시내재가노인복지센터 2021-11-17  기타시설  37.881195  127.759578  강원  춘천시   동면   \n",
       "984660        춘천2번지닭갈비 2021-11-17   음식점  37.852734  127.747395  강원  춘천시  효자동   \n",
       "984661     지에스25 춘천외솔점 2021-11-17   편의점  37.857769  127.757196  강원  춘천시  동내면   \n",
       "\n",
       "         이용자수   남성비율   여성비율  10대비율  20대비율  30대비율  40대비율  50대이상비율      데이터기준일  \n",
       "0         551  26.17  73.83   0.97   2.47   1.36   4.14    91.06  2021-12-21  \n",
       "1          79  42.50  57.50  13.22  18.84  25.55  21.69    20.70  2021-12-21  \n",
       "2          95  46.24  53.76  13.52  20.90  21.89  21.74    21.95  2021-12-21  \n",
       "3          72  55.17  44.83  10.38  20.74  20.02  22.26    26.60  2021-12-21  \n",
       "4         315  28.96  71.04  15.33  21.03  19.13  22.74    21.77  2021-12-21  \n",
       "...       ...    ...    ...    ...    ...    ...    ...      ...         ...  \n",
       "984657  61713  46.29  53.71  27.70  17.58  17.61  15.24    21.87  2021-12-21  \n",
       "984658     71  54.29  45.71  14.88  18.76  22.37  21.64    22.35  2021-12-21  \n",
       "984659     97  54.30  45.70  16.68  15.44  22.66  25.20    20.02  2021-12-21  \n",
       "984660    126  22.43  77.57  14.71  20.51  18.51  25.04    21.23  2021-12-21  \n",
       "984661     70  54.64  45.36  13.65  18.85  23.47  22.90    21.13  2021-12-21  \n",
       "\n",
       "[984662 rows x 17 columns]"
      ]
     },
     "execution_count": 99,
     "metadata": {},
     "output_type": "execute_result"
    }
   ],
   "source": [
    "df2"
   ]
  },
  {
   "cell_type": "code",
   "execution_count": 97,
   "id": "a869e86c-3368-4387-b169-00a32091016e",
   "metadata": {},
   "outputs": [
    {
     "data": {
      "text/html": [
       "<div>\n",
       "<style scoped>\n",
       "    .dataframe tbody tr th:only-of-type {\n",
       "        vertical-align: middle;\n",
       "    }\n",
       "\n",
       "    .dataframe tbody tr th {\n",
       "        vertical-align: top;\n",
       "    }\n",
       "\n",
       "    .dataframe thead th {\n",
       "        text-align: right;\n",
       "    }\n",
       "</style>\n",
       "<table border=\"1\" class=\"dataframe\">\n",
       "  <thead>\n",
       "    <tr style=\"text-align: right;\">\n",
       "      <th></th>\n",
       "      <th>시도</th>\n",
       "      <th>시군구</th>\n",
       "      <th>읍면동</th>\n",
       "      <th>이용자수</th>\n",
       "    </tr>\n",
       "  </thead>\n",
       "  <tbody>\n",
       "    <tr>\n",
       "      <th>0</th>\n",
       "      <td>강원</td>\n",
       "      <td>춘천시</td>\n",
       "      <td>강남동</td>\n",
       "      <td>31110</td>\n",
       "    </tr>\n",
       "    <tr>\n",
       "      <th>1</th>\n",
       "      <td>강원</td>\n",
       "      <td>춘천시</td>\n",
       "      <td>교동</td>\n",
       "      <td>21716</td>\n",
       "    </tr>\n",
       "    <tr>\n",
       "      <th>2</th>\n",
       "      <td>강원</td>\n",
       "      <td>춘천시</td>\n",
       "      <td>근화동</td>\n",
       "      <td>65758</td>\n",
       "    </tr>\n",
       "    <tr>\n",
       "      <th>3</th>\n",
       "      <td>강원</td>\n",
       "      <td>춘천시</td>\n",
       "      <td>남산면</td>\n",
       "      <td>39772</td>\n",
       "    </tr>\n",
       "    <tr>\n",
       "      <th>4</th>\n",
       "      <td>강원</td>\n",
       "      <td>춘천시</td>\n",
       "      <td>동내면</td>\n",
       "      <td>102968</td>\n",
       "    </tr>\n",
       "    <tr>\n",
       "      <th>5</th>\n",
       "      <td>강원</td>\n",
       "      <td>춘천시</td>\n",
       "      <td>동면</td>\n",
       "      <td>115290</td>\n",
       "    </tr>\n",
       "    <tr>\n",
       "      <th>6</th>\n",
       "      <td>강원</td>\n",
       "      <td>춘천시</td>\n",
       "      <td>동산면</td>\n",
       "      <td>4636</td>\n",
       "    </tr>\n",
       "    <tr>\n",
       "      <th>7</th>\n",
       "      <td>강원</td>\n",
       "      <td>춘천시</td>\n",
       "      <td>북산면</td>\n",
       "      <td>1586</td>\n",
       "    </tr>\n",
       "    <tr>\n",
       "      <th>8</th>\n",
       "      <td>강원</td>\n",
       "      <td>춘천시</td>\n",
       "      <td>사북면</td>\n",
       "      <td>9272</td>\n",
       "    </tr>\n",
       "    <tr>\n",
       "      <th>9</th>\n",
       "      <td>강원</td>\n",
       "      <td>춘천시</td>\n",
       "      <td>서면</td>\n",
       "      <td>15738</td>\n",
       "    </tr>\n",
       "    <tr>\n",
       "      <th>10</th>\n",
       "      <td>강원</td>\n",
       "      <td>춘천시</td>\n",
       "      <td>소양동</td>\n",
       "      <td>34404</td>\n",
       "    </tr>\n",
       "    <tr>\n",
       "      <th>11</th>\n",
       "      <td>강원</td>\n",
       "      <td>춘천시</td>\n",
       "      <td>신동면</td>\n",
       "      <td>8418</td>\n",
       "    </tr>\n",
       "    <tr>\n",
       "      <th>12</th>\n",
       "      <td>강원</td>\n",
       "      <td>춘천시</td>\n",
       "      <td>신북읍</td>\n",
       "      <td>4514</td>\n",
       "    </tr>\n",
       "    <tr>\n",
       "      <th>13</th>\n",
       "      <td>강원</td>\n",
       "      <td>춘천시</td>\n",
       "      <td>신사우동</td>\n",
       "      <td>17202</td>\n",
       "    </tr>\n",
       "    <tr>\n",
       "      <th>14</th>\n",
       "      <td>강원</td>\n",
       "      <td>춘천시</td>\n",
       "      <td>약사명동</td>\n",
       "      <td>33184</td>\n",
       "    </tr>\n",
       "    <tr>\n",
       "      <th>15</th>\n",
       "      <td>강원</td>\n",
       "      <td>춘천시</td>\n",
       "      <td>조운동</td>\n",
       "      <td>47824</td>\n",
       "    </tr>\n",
       "    <tr>\n",
       "      <th>16</th>\n",
       "      <td>강원</td>\n",
       "      <td>춘천시</td>\n",
       "      <td>퇴계동</td>\n",
       "      <td>25864</td>\n",
       "    </tr>\n",
       "    <tr>\n",
       "      <th>17</th>\n",
       "      <td>강원</td>\n",
       "      <td>춘천시</td>\n",
       "      <td>효자동</td>\n",
       "      <td>329034</td>\n",
       "    </tr>\n",
       "    <tr>\n",
       "      <th>18</th>\n",
       "      <td>강원</td>\n",
       "      <td>춘천시</td>\n",
       "      <td>후평동</td>\n",
       "      <td>76372</td>\n",
       "    </tr>\n",
       "  </tbody>\n",
       "</table>\n",
       "</div>"
      ],
      "text/plain": [
       "    시도  시군구   읍면동    이용자수\n",
       "0   강원  춘천시   강남동   31110\n",
       "1   강원  춘천시    교동   21716\n",
       "2   강원  춘천시   근화동   65758\n",
       "3   강원  춘천시   남산면   39772\n",
       "4   강원  춘천시   동내면  102968\n",
       "5   강원  춘천시    동면  115290\n",
       "6   강원  춘천시   동산면    4636\n",
       "7   강원  춘천시   북산면    1586\n",
       "8   강원  춘천시   사북면    9272\n",
       "9   강원  춘천시    서면   15738\n",
       "10  강원  춘천시   소양동   34404\n",
       "11  강원  춘천시   신동면    8418\n",
       "12  강원  춘천시   신북읍    4514\n",
       "13  강원  춘천시  신사우동   17202\n",
       "14  강원  춘천시  약사명동   33184\n",
       "15  강원  춘천시   조운동   47824\n",
       "16  강원  춘천시   퇴계동   25864\n",
       "17  강원  춘천시   효자동  329034\n",
       "18  강원  춘천시   후평동   76372"
      ]
     },
     "execution_count": 97,
     "metadata": {},
     "output_type": "execute_result"
    }
   ],
   "source": [
    "df_sample = df2.groupby(['시도', '시군구', '읍면동']).count()[['이용자수']].reset_index()\n",
    "df_sample"
   ]
  },
  {
   "cell_type": "code",
   "execution_count": 102,
   "id": "ed708b67-ace0-4162-8699-a84bfda20523",
   "metadata": {},
   "outputs": [
    {
     "data": {
      "application/vnd.plotly.v1+json": {
       "config": {
        "plotlyServerURL": "https://plot.ly"
       },
       "data": [
        {
         "branchvalues": "total",
         "customdata": [
          [
           "강남동"
          ],
          [
           "교동"
          ],
          [
           "근화동"
          ],
          [
           "남산면"
          ],
          [
           "동내면"
          ],
          [
           "동면"
          ],
          [
           "동산면"
          ],
          [
           "북산면"
          ],
          [
           "사북면"
          ],
          [
           "서면"
          ],
          [
           "소양동"
          ],
          [
           "신동면"
          ],
          [
           "신북읍"
          ],
          [
           "신사우동"
          ],
          [
           "약사명동"
          ],
          [
           "조운동"
          ],
          [
           "퇴계동"
          ],
          [
           "효자동"
          ],
          [
           "후평동"
          ],
          [
           "(?)"
          ],
          [
           "(?)"
          ]
         ],
         "domain": {
          "x": [
           0,
           1
          ],
          "y": [
           0,
           1
          ]
         },
         "hovertemplate": "labels=%{label}<br>이용자수=%{value}<br>parent=%{parent}<br>id=%{id}<br>읍면동=%{customdata[0]}<extra></extra>",
         "ids": [
          "강원/춘천시/강남동",
          "강원/춘천시/교동",
          "강원/춘천시/근화동",
          "강원/춘천시/남산면",
          "강원/춘천시/동내면",
          "강원/춘천시/동면",
          "강원/춘천시/동산면",
          "강원/춘천시/북산면",
          "강원/춘천시/사북면",
          "강원/춘천시/서면",
          "강원/춘천시/소양동",
          "강원/춘천시/신동면",
          "강원/춘천시/신북읍",
          "강원/춘천시/신사우동",
          "강원/춘천시/약사명동",
          "강원/춘천시/조운동",
          "강원/춘천시/퇴계동",
          "강원/춘천시/효자동",
          "강원/춘천시/후평동",
          "강원/춘천시",
          "강원"
         ],
         "labels": [
          "강남동",
          "교동",
          "근화동",
          "남산면",
          "동내면",
          "동면",
          "동산면",
          "북산면",
          "사북면",
          "서면",
          "소양동",
          "신동면",
          "신북읍",
          "신사우동",
          "약사명동",
          "조운동",
          "퇴계동",
          "효자동",
          "후평동",
          "춘천시",
          "강원"
         ],
         "marker": {
          "colors": [
           "#636efa",
           "#EF553B",
           "#00cc96",
           "#ab63fa",
           "#FFA15A",
           "#19d3f3",
           "#FF6692",
           "#B6E880",
           "#FF97FF",
           "#FECB52",
           "#636efa",
           "#EF553B",
           "#00cc96",
           "#ab63fa",
           "#FFA15A",
           "#19d3f3",
           "#FF6692",
           "#B6E880",
           "#FF97FF",
           "#FECB52",
           "#FECB52"
          ]
         },
         "name": "",
         "parents": [
          "강원/춘천시",
          "강원/춘천시",
          "강원/춘천시",
          "강원/춘천시",
          "강원/춘천시",
          "강원/춘천시",
          "강원/춘천시",
          "강원/춘천시",
          "강원/춘천시",
          "강원/춘천시",
          "강원/춘천시",
          "강원/춘천시",
          "강원/춘천시",
          "강원/춘천시",
          "강원/춘천시",
          "강원/춘천시",
          "강원/춘천시",
          "강원/춘천시",
          "강원/춘천시",
          "강원",
          ""
         ],
         "type": "sunburst",
         "values": [
          31110,
          21716,
          65758,
          39772,
          102968,
          115290,
          4636,
          1586,
          9272,
          15738,
          34404,
          8418,
          4514,
          17202,
          33184,
          47824,
          25864,
          329034,
          76372,
          984662,
          984662
         ]
        }
       ],
       "layout": {
        "height": 750,
        "legend": {
         "tracegroupgap": 0
        },
        "template": {
         "data": {
          "bar": [
           {
            "error_x": {
             "color": "#2a3f5f"
            },
            "error_y": {
             "color": "#2a3f5f"
            },
            "marker": {
             "line": {
              "color": "#E5ECF6",
              "width": 0.5
             },
             "pattern": {
              "fillmode": "overlay",
              "size": 10,
              "solidity": 0.2
             }
            },
            "type": "bar"
           }
          ],
          "barpolar": [
           {
            "marker": {
             "line": {
              "color": "#E5ECF6",
              "width": 0.5
             },
             "pattern": {
              "fillmode": "overlay",
              "size": 10,
              "solidity": 0.2
             }
            },
            "type": "barpolar"
           }
          ],
          "carpet": [
           {
            "aaxis": {
             "endlinecolor": "#2a3f5f",
             "gridcolor": "white",
             "linecolor": "white",
             "minorgridcolor": "white",
             "startlinecolor": "#2a3f5f"
            },
            "baxis": {
             "endlinecolor": "#2a3f5f",
             "gridcolor": "white",
             "linecolor": "white",
             "minorgridcolor": "white",
             "startlinecolor": "#2a3f5f"
            },
            "type": "carpet"
           }
          ],
          "choropleth": [
           {
            "colorbar": {
             "outlinewidth": 0,
             "ticks": ""
            },
            "type": "choropleth"
           }
          ],
          "contour": [
           {
            "colorbar": {
             "outlinewidth": 0,
             "ticks": ""
            },
            "colorscale": [
             [
              0,
              "#0d0887"
             ],
             [
              0.1111111111111111,
              "#46039f"
             ],
             [
              0.2222222222222222,
              "#7201a8"
             ],
             [
              0.3333333333333333,
              "#9c179e"
             ],
             [
              0.4444444444444444,
              "#bd3786"
             ],
             [
              0.5555555555555556,
              "#d8576b"
             ],
             [
              0.6666666666666666,
              "#ed7953"
             ],
             [
              0.7777777777777778,
              "#fb9f3a"
             ],
             [
              0.8888888888888888,
              "#fdca26"
             ],
             [
              1,
              "#f0f921"
             ]
            ],
            "type": "contour"
           }
          ],
          "contourcarpet": [
           {
            "colorbar": {
             "outlinewidth": 0,
             "ticks": ""
            },
            "type": "contourcarpet"
           }
          ],
          "heatmap": [
           {
            "colorbar": {
             "outlinewidth": 0,
             "ticks": ""
            },
            "colorscale": [
             [
              0,
              "#0d0887"
             ],
             [
              0.1111111111111111,
              "#46039f"
             ],
             [
              0.2222222222222222,
              "#7201a8"
             ],
             [
              0.3333333333333333,
              "#9c179e"
             ],
             [
              0.4444444444444444,
              "#bd3786"
             ],
             [
              0.5555555555555556,
              "#d8576b"
             ],
             [
              0.6666666666666666,
              "#ed7953"
             ],
             [
              0.7777777777777778,
              "#fb9f3a"
             ],
             [
              0.8888888888888888,
              "#fdca26"
             ],
             [
              1,
              "#f0f921"
             ]
            ],
            "type": "heatmap"
           }
          ],
          "heatmapgl": [
           {
            "colorbar": {
             "outlinewidth": 0,
             "ticks": ""
            },
            "colorscale": [
             [
              0,
              "#0d0887"
             ],
             [
              0.1111111111111111,
              "#46039f"
             ],
             [
              0.2222222222222222,
              "#7201a8"
             ],
             [
              0.3333333333333333,
              "#9c179e"
             ],
             [
              0.4444444444444444,
              "#bd3786"
             ],
             [
              0.5555555555555556,
              "#d8576b"
             ],
             [
              0.6666666666666666,
              "#ed7953"
             ],
             [
              0.7777777777777778,
              "#fb9f3a"
             ],
             [
              0.8888888888888888,
              "#fdca26"
             ],
             [
              1,
              "#f0f921"
             ]
            ],
            "type": "heatmapgl"
           }
          ],
          "histogram": [
           {
            "marker": {
             "pattern": {
              "fillmode": "overlay",
              "size": 10,
              "solidity": 0.2
             }
            },
            "type": "histogram"
           }
          ],
          "histogram2d": [
           {
            "colorbar": {
             "outlinewidth": 0,
             "ticks": ""
            },
            "colorscale": [
             [
              0,
              "#0d0887"
             ],
             [
              0.1111111111111111,
              "#46039f"
             ],
             [
              0.2222222222222222,
              "#7201a8"
             ],
             [
              0.3333333333333333,
              "#9c179e"
             ],
             [
              0.4444444444444444,
              "#bd3786"
             ],
             [
              0.5555555555555556,
              "#d8576b"
             ],
             [
              0.6666666666666666,
              "#ed7953"
             ],
             [
              0.7777777777777778,
              "#fb9f3a"
             ],
             [
              0.8888888888888888,
              "#fdca26"
             ],
             [
              1,
              "#f0f921"
             ]
            ],
            "type": "histogram2d"
           }
          ],
          "histogram2dcontour": [
           {
            "colorbar": {
             "outlinewidth": 0,
             "ticks": ""
            },
            "colorscale": [
             [
              0,
              "#0d0887"
             ],
             [
              0.1111111111111111,
              "#46039f"
             ],
             [
              0.2222222222222222,
              "#7201a8"
             ],
             [
              0.3333333333333333,
              "#9c179e"
             ],
             [
              0.4444444444444444,
              "#bd3786"
             ],
             [
              0.5555555555555556,
              "#d8576b"
             ],
             [
              0.6666666666666666,
              "#ed7953"
             ],
             [
              0.7777777777777778,
              "#fb9f3a"
             ],
             [
              0.8888888888888888,
              "#fdca26"
             ],
             [
              1,
              "#f0f921"
             ]
            ],
            "type": "histogram2dcontour"
           }
          ],
          "mesh3d": [
           {
            "colorbar": {
             "outlinewidth": 0,
             "ticks": ""
            },
            "type": "mesh3d"
           }
          ],
          "parcoords": [
           {
            "line": {
             "colorbar": {
              "outlinewidth": 0,
              "ticks": ""
             }
            },
            "type": "parcoords"
           }
          ],
          "pie": [
           {
            "automargin": true,
            "type": "pie"
           }
          ],
          "scatter": [
           {
            "fillpattern": {
             "fillmode": "overlay",
             "size": 10,
             "solidity": 0.2
            },
            "type": "scatter"
           }
          ],
          "scatter3d": [
           {
            "line": {
             "colorbar": {
              "outlinewidth": 0,
              "ticks": ""
             }
            },
            "marker": {
             "colorbar": {
              "outlinewidth": 0,
              "ticks": ""
             }
            },
            "type": "scatter3d"
           }
          ],
          "scattercarpet": [
           {
            "marker": {
             "colorbar": {
              "outlinewidth": 0,
              "ticks": ""
             }
            },
            "type": "scattercarpet"
           }
          ],
          "scattergeo": [
           {
            "marker": {
             "colorbar": {
              "outlinewidth": 0,
              "ticks": ""
             }
            },
            "type": "scattergeo"
           }
          ],
          "scattergl": [
           {
            "marker": {
             "colorbar": {
              "outlinewidth": 0,
              "ticks": ""
             }
            },
            "type": "scattergl"
           }
          ],
          "scattermapbox": [
           {
            "marker": {
             "colorbar": {
              "outlinewidth": 0,
              "ticks": ""
             }
            },
            "type": "scattermapbox"
           }
          ],
          "scatterpolar": [
           {
            "marker": {
             "colorbar": {
              "outlinewidth": 0,
              "ticks": ""
             }
            },
            "type": "scatterpolar"
           }
          ],
          "scatterpolargl": [
           {
            "marker": {
             "colorbar": {
              "outlinewidth": 0,
              "ticks": ""
             }
            },
            "type": "scatterpolargl"
           }
          ],
          "scatterternary": [
           {
            "marker": {
             "colorbar": {
              "outlinewidth": 0,
              "ticks": ""
             }
            },
            "type": "scatterternary"
           }
          ],
          "surface": [
           {
            "colorbar": {
             "outlinewidth": 0,
             "ticks": ""
            },
            "colorscale": [
             [
              0,
              "#0d0887"
             ],
             [
              0.1111111111111111,
              "#46039f"
             ],
             [
              0.2222222222222222,
              "#7201a8"
             ],
             [
              0.3333333333333333,
              "#9c179e"
             ],
             [
              0.4444444444444444,
              "#bd3786"
             ],
             [
              0.5555555555555556,
              "#d8576b"
             ],
             [
              0.6666666666666666,
              "#ed7953"
             ],
             [
              0.7777777777777778,
              "#fb9f3a"
             ],
             [
              0.8888888888888888,
              "#fdca26"
             ],
             [
              1,
              "#f0f921"
             ]
            ],
            "type": "surface"
           }
          ],
          "table": [
           {
            "cells": {
             "fill": {
              "color": "#EBF0F8"
             },
             "line": {
              "color": "white"
             }
            },
            "header": {
             "fill": {
              "color": "#C8D4E3"
             },
             "line": {
              "color": "white"
             }
            },
            "type": "table"
           }
          ]
         },
         "layout": {
          "annotationdefaults": {
           "arrowcolor": "#2a3f5f",
           "arrowhead": 0,
           "arrowwidth": 1
          },
          "autotypenumbers": "strict",
          "coloraxis": {
           "colorbar": {
            "outlinewidth": 0,
            "ticks": ""
           }
          },
          "colorscale": {
           "diverging": [
            [
             0,
             "#8e0152"
            ],
            [
             0.1,
             "#c51b7d"
            ],
            [
             0.2,
             "#de77ae"
            ],
            [
             0.3,
             "#f1b6da"
            ],
            [
             0.4,
             "#fde0ef"
            ],
            [
             0.5,
             "#f7f7f7"
            ],
            [
             0.6,
             "#e6f5d0"
            ],
            [
             0.7,
             "#b8e186"
            ],
            [
             0.8,
             "#7fbc41"
            ],
            [
             0.9,
             "#4d9221"
            ],
            [
             1,
             "#276419"
            ]
           ],
           "sequential": [
            [
             0,
             "#0d0887"
            ],
            [
             0.1111111111111111,
             "#46039f"
            ],
            [
             0.2222222222222222,
             "#7201a8"
            ],
            [
             0.3333333333333333,
             "#9c179e"
            ],
            [
             0.4444444444444444,
             "#bd3786"
            ],
            [
             0.5555555555555556,
             "#d8576b"
            ],
            [
             0.6666666666666666,
             "#ed7953"
            ],
            [
             0.7777777777777778,
             "#fb9f3a"
            ],
            [
             0.8888888888888888,
             "#fdca26"
            ],
            [
             1,
             "#f0f921"
            ]
           ],
           "sequentialminus": [
            [
             0,
             "#0d0887"
            ],
            [
             0.1111111111111111,
             "#46039f"
            ],
            [
             0.2222222222222222,
             "#7201a8"
            ],
            [
             0.3333333333333333,
             "#9c179e"
            ],
            [
             0.4444444444444444,
             "#bd3786"
            ],
            [
             0.5555555555555556,
             "#d8576b"
            ],
            [
             0.6666666666666666,
             "#ed7953"
            ],
            [
             0.7777777777777778,
             "#fb9f3a"
            ],
            [
             0.8888888888888888,
             "#fdca26"
            ],
            [
             1,
             "#f0f921"
            ]
           ]
          },
          "colorway": [
           "#636efa",
           "#EF553B",
           "#00cc96",
           "#ab63fa",
           "#FFA15A",
           "#19d3f3",
           "#FF6692",
           "#B6E880",
           "#FF97FF",
           "#FECB52"
          ],
          "font": {
           "color": "#2a3f5f"
          },
          "geo": {
           "bgcolor": "white",
           "lakecolor": "white",
           "landcolor": "#E5ECF6",
           "showlakes": true,
           "showland": true,
           "subunitcolor": "white"
          },
          "hoverlabel": {
           "align": "left"
          },
          "hovermode": "closest",
          "mapbox": {
           "style": "light"
          },
          "paper_bgcolor": "white",
          "plot_bgcolor": "#E5ECF6",
          "polar": {
           "angularaxis": {
            "gridcolor": "white",
            "linecolor": "white",
            "ticks": ""
           },
           "bgcolor": "#E5ECF6",
           "radialaxis": {
            "gridcolor": "white",
            "linecolor": "white",
            "ticks": ""
           }
          },
          "scene": {
           "xaxis": {
            "backgroundcolor": "#E5ECF6",
            "gridcolor": "white",
            "gridwidth": 2,
            "linecolor": "white",
            "showbackground": true,
            "ticks": "",
            "zerolinecolor": "white"
           },
           "yaxis": {
            "backgroundcolor": "#E5ECF6",
            "gridcolor": "white",
            "gridwidth": 2,
            "linecolor": "white",
            "showbackground": true,
            "ticks": "",
            "zerolinecolor": "white"
           },
           "zaxis": {
            "backgroundcolor": "#E5ECF6",
            "gridcolor": "white",
            "gridwidth": 2,
            "linecolor": "white",
            "showbackground": true,
            "ticks": "",
            "zerolinecolor": "white"
           }
          },
          "shapedefaults": {
           "line": {
            "color": "#2a3f5f"
           }
          },
          "ternary": {
           "aaxis": {
            "gridcolor": "white",
            "linecolor": "white",
            "ticks": ""
           },
           "baxis": {
            "gridcolor": "white",
            "linecolor": "white",
            "ticks": ""
           },
           "bgcolor": "#E5ECF6",
           "caxis": {
            "gridcolor": "white",
            "linecolor": "white",
            "ticks": ""
           }
          },
          "title": {
           "x": 0.05
          },
          "xaxis": {
           "automargin": true,
           "gridcolor": "white",
           "linecolor": "white",
           "ticks": "",
           "title": {
            "standoff": 15
           },
           "zerolinecolor": "white",
           "zerolinewidth": 2
          },
          "yaxis": {
           "automargin": true,
           "gridcolor": "white",
           "linecolor": "white",
           "ticks": "",
           "title": {
            "standoff": 15
           },
           "zerolinecolor": "white",
           "zerolinewidth": 2
          }
         }
        },
        "title": {
         "text": "몰라용"
        },
        "width": 750
       }
      },
      "image/png": "[encoded data removed]",
      "text/html": [
       "<div>                            <div id=\"a27aa263-ed32-4ffe-95b8-6c7a922242c6\" class=\"plotly-graph-div\" style=\"height:750px; width:750px;\"></div>            <script type=\"text/javascript\">                require([\"plotly\"], function(Plotly) {                    window.PLOTLYENV=window.PLOTLYENV || {};                                    if (document.getElementById(\"a27aa263-ed32-4ffe-95b8-6c7a922242c6\")) {                    Plotly.newPlot(                        \"a27aa263-ed32-4ffe-95b8-6c7a922242c6\",                        [{\"branchvalues\":\"total\",\"customdata\":[[\"\\uac15\\ub0a8\\ub3d9\"],[\"\\uad50\\ub3d9\"],[\"\\uadfc\\ud654\\ub3d9\"],[\"\\ub0a8\\uc0b0\\uba74\"],[\"\\ub3d9\\ub0b4\\uba74\"],[\"\\ub3d9\\uba74\"],[\"\\ub3d9\\uc0b0\\uba74\"],[\"\\ubd81\\uc0b0\\uba74\"],[\"\\uc0ac\\ubd81\\uba74\"],[\"\\uc11c\\uba74\"],[\"\\uc18c\\uc591\\ub3d9\"],[\"\\uc2e0\\ub3d9\\uba74\"],[\"\\uc2e0\\ubd81\\uc74d\"],[\"\\uc2e0\\uc0ac\\uc6b0\\ub3d9\"],[\"\\uc57d\\uc0ac\\uba85\\ub3d9\"],[\"\\uc870\\uc6b4\\ub3d9\"],[\"\\ud1f4\\uacc4\\ub3d9\"],[\"\\ud6a8\\uc790\\ub3d9\"],[\"\\ud6c4\\ud3c9\\ub3d9\"],[\"(?)\"],[\"(?)\"]],\"domain\":{\"x\":[0.0,1.0],\"y\":[0.0,1.0]},\"hovertemplate\":\"labels=%{label}<br>\\uc774\\uc6a9\\uc790\\uc218=%{value}<br>parent=%{parent}<br>id=%{id}<br>\\uc74d\\uba74\\ub3d9=%{customdata[0]}<extra></extra>\",\"ids\":[\"\\uac15\\uc6d0/\\ucd98\\ucc9c\\uc2dc/\\uac15\\ub0a8\\ub3d9\",\"\\uac15\\uc6d0/\\ucd98\\ucc9c\\uc2dc/\\uad50\\ub3d9\",\"\\uac15\\uc6d0/\\ucd98\\ucc9c\\uc2dc/\\uadfc\\ud654\\ub3d9\",\"\\uac15\\uc6d0/\\ucd98\\ucc9c\\uc2dc/\\ub0a8\\uc0b0\\uba74\",\"\\uac15\\uc6d0/\\ucd98\\ucc9c\\uc2dc/\\ub3d9\\ub0b4\\uba74\",\"\\uac15\\uc6d0/\\ucd98\\ucc9c\\uc2dc/\\ub3d9\\uba74\",\"\\uac15\\uc6d0/\\ucd98\\ucc9c\\uc2dc/\\ub3d9\\uc0b0\\uba74\",\"\\uac15\\uc6d0/\\ucd98\\ucc9c\\uc2dc/\\ubd81\\uc0b0\\uba74\",\"\\uac15\\uc6d0/\\ucd98\\ucc9c\\uc2dc/\\uc0ac\\ubd81\\uba74\",\"\\uac15\\uc6d0/\\ucd98\\ucc9c\\uc2dc/\\uc11c\\uba74\",\"\\uac15\\uc6d0/\\ucd98\\ucc9c\\uc2dc/\\uc18c\\uc591\\ub3d9\",\"\\uac15\\uc6d0/\\ucd98\\ucc9c\\uc2dc/\\uc2e0\\ub3d9\\uba74\",\"\\uac15\\uc6d0/\\ucd98\\ucc9c\\uc2dc/\\uc2e0\\ubd81\\uc74d\",\"\\uac15\\uc6d0/\\ucd98\\ucc9c\\uc2dc/\\uc2e0\\uc0ac\\uc6b0\\ub3d9\",\"\\uac15\\uc6d0/\\ucd98\\ucc9c\\uc2dc/\\uc57d\\uc0ac\\uba85\\ub3d9\",\"\\uac15\\uc6d0/\\ucd98\\ucc9c\\uc2dc/\\uc870\\uc6b4\\ub3d9\",\"\\uac15\\uc6d0/\\ucd98\\ucc9c\\uc2dc/\\ud1f4\\uacc4\\ub3d9\",\"\\uac15\\uc6d0/\\ucd98\\ucc9c\\uc2dc/\\ud6a8\\uc790\\ub3d9\",\"\\uac15\\uc6d0/\\ucd98\\ucc9c\\uc2dc/\\ud6c4\\ud3c9\\ub3d9\",\"\\uac15\\uc6d0/\\ucd98\\ucc9c\\uc2dc\",\"\\uac15\\uc6d0\"],\"labels\":[\"\\uac15\\ub0a8\\ub3d9\",\"\\uad50\\ub3d9\",\"\\uadfc\\ud654\\ub3d9\",\"\\ub0a8\\uc0b0\\uba74\",\"\\ub3d9\\ub0b4\\uba74\",\"\\ub3d9\\uba74\",\"\\ub3d9\\uc0b0\\uba74\",\"\\ubd81\\uc0b0\\uba74\",\"\\uc0ac\\ubd81\\uba74\",\"\\uc11c\\uba74\",\"\\uc18c\\uc591\\ub3d9\",\"\\uc2e0\\ub3d9\\uba74\",\"\\uc2e0\\ubd81\\uc74d\",\"\\uc2e0\\uc0ac\\uc6b0\\ub3d9\",\"\\uc57d\\uc0ac\\uba85\\ub3d9\",\"\\uc870\\uc6b4\\ub3d9\",\"\\ud1f4\\uacc4\\ub3d9\",\"\\ud6a8\\uc790\\ub3d9\",\"\\ud6c4\\ud3c9\\ub3d9\",\"\\ucd98\\ucc9c\\uc2dc\",\"\\uac15\\uc6d0\"],\"marker\":{\"colors\":[\"#636efa\",\"#EF553B\",\"#00cc96\",\"#ab63fa\",\"#FFA15A\",\"#19d3f3\",\"#FF6692\",\"#B6E880\",\"#FF97FF\",\"#FECB52\",\"#636efa\",\"#EF553B\",\"#00cc96\",\"#ab63fa\",\"#FFA15A\",\"#19d3f3\",\"#FF6692\",\"#B6E880\",\"#FF97FF\",\"#FECB52\",\"#FECB52\"]},\"name\":\"\",\"parents\":[\"\\uac15\\uc6d0/\\ucd98\\ucc9c\\uc2dc\",\"\\uac15\\uc6d0/\\ucd98\\ucc9c\\uc2dc\",\"\\uac15\\uc6d0/\\ucd98\\ucc9c\\uc2dc\",\"\\uac15\\uc6d0/\\ucd98\\ucc9c\\uc2dc\",\"\\uac15\\uc6d0/\\ucd98\\ucc9c\\uc2dc\",\"\\uac15\\uc6d0/\\ucd98\\ucc9c\\uc2dc\",\"\\uac15\\uc6d0/\\ucd98\\ucc9c\\uc2dc\",\"\\uac15\\uc6d0/\\ucd98\\ucc9c\\uc2dc\",\"\\uac15\\uc6d0/\\ucd98\\ucc9c\\uc2dc\",\"\\uac15\\uc6d0/\\ucd98\\ucc9c\\uc2dc\",\"\\uac15\\uc6d0/\\ucd98\\ucc9c\\uc2dc\",\"\\uac15\\uc6d0/\\ucd98\\ucc9c\\uc2dc\",\"\\uac15\\uc6d0/\\ucd98\\ucc9c\\uc2dc\",\"\\uac15\\uc6d0/\\ucd98\\ucc9c\\uc2dc\",\"\\uac15\\uc6d0/\\ucd98\\ucc9c\\uc2dc\",\"\\uac15\\uc6d0/\\ucd98\\ucc9c\\uc2dc\",\"\\uac15\\uc6d0/\\ucd98\\ucc9c\\uc2dc\",\"\\uac15\\uc6d0/\\ucd98\\ucc9c\\uc2dc\",\"\\uac15\\uc6d0/\\ucd98\\ucc9c\\uc2dc\",\"\\uac15\\uc6d0\",\"\"],\"values\":[31110,21716,65758,39772,102968,115290,4636,1586,9272,15738,34404,8418,4514,17202,33184,47824,25864,329034,76372,984662,984662],\"type\":\"sunburst\"}],                        {\"template\":{\"data\":{\"histogram2dcontour\":[{\"type\":\"histogram2dcontour\",\"colorbar\":{\"outlinewidth\":0,\"ticks\":\"\"},\"colorscale\":[[0.0,\"#0d0887\"],[0.1111111111111111,\"#46039f\"],[0.2222222222222222,\"#7201a8\"],[0.3333333333333333,\"#9c179e\"],[0.4444444444444444,\"#bd3786\"],[0.5555555555555556,\"#d8576b\"],[0.6666666666666666,\"#ed7953\"],[0.7777777777777778,\"#fb9f3a\"],[0.8888888888888888,\"#fdca26\"],[1.0,\"#f0f921\"]]}],\"choropleth\":[{\"type\":\"choropleth\",\"colorbar\":{\"outlinewidth\":0,\"ticks\":\"\"}}],\"histogram2d\":[{\"type\":\"histogram2d\",\"colorbar\":{\"outlinewidth\":0,\"ticks\":\"\"},\"colorscale\":[[0.0,\"#0d0887\"],[0.1111111111111111,\"#46039f\"],[0.2222222222222222,\"#7201a8\"],[0.3333333333333333,\"#9c179e\"],[0.4444444444444444,\"#bd3786\"],[0.5555555555555556,\"#d8576b\"],[0.6666666666666666,\"#ed7953\"],[0.7777777777777778,\"#fb9f3a\"],[0.8888888888888888,\"#fdca26\"],[1.0,\"#f0f921\"]]}],\"heatmap\":[{\"type\":\"heatmap\",\"colorbar\":{\"outlinewidth\":0,\"ticks\":\"\"},\"colorscale\":[[0.0,\"#0d0887\"],[0.1111111111111111,\"#46039f\"],[0.2222222222222222,\"#7201a8\"],[0.3333333333333333,\"#9c179e\"],[0.4444444444444444,\"#bd3786\"],[0.5555555555555556,\"#d8576b\"],[0.6666666666666666,\"#ed7953\"],[0.7777777777777778,\"#fb9f3a\"],[0.8888888888888888,\"#fdca26\"],[1.0,\"#f0f921\"]]}],\"heatmapgl\":[{\"type\":\"heatmapgl\",\"colorbar\":{\"outlinewidth\":0,\"ticks\":\"\"},\"colorscale\":[[0.0,\"#0d0887\"],[0.1111111111111111,\"#46039f\"],[0.2222222222222222,\"#7201a8\"],[0.3333333333333333,\"#9c179e\"],[0.4444444444444444,\"#bd3786\"],[0.5555555555555556,\"#d8576b\"],[0.6666666666666666,\"#ed7953\"],[0.7777777777777778,\"#fb9f3a\"],[0.8888888888888888,\"#fdca26\"],[1.0,\"#f0f921\"]]}],\"contourcarpet\":[{\"type\":\"contourcarpet\",\"colorbar\":{\"outlinewidth\":0,\"ticks\":\"\"}}],\"contour\":[{\"type\":\"contour\",\"colorbar\":{\"outlinewidth\":0,\"ticks\":\"\"},\"colorscale\":[[0.0,\"#0d0887\"],[0.1111111111111111,\"#46039f\"],[0.2222222222222222,\"#7201a8\"],[0.3333333333333333,\"#9c179e\"],[0.4444444444444444,\"#bd3786\"],[0.5555555555555556,\"#d8576b\"],[0.6666666666666666,\"#ed7953\"],[0.7777777777777778,\"#fb9f3a\"],[0.8888888888888888,\"#fdca26\"],[1.0,\"#f0f921\"]]}],\"surface\":[{\"type\":\"surface\",\"colorbar\":{\"outlinewidth\":0,\"ticks\":\"\"},\"colorscale\":[[0.0,\"#0d0887\"],[0.1111111111111111,\"#46039f\"],[0.2222222222222222,\"#7201a8\"],[0.3333333333333333,\"#9c179e\"],[0.4444444444444444,\"#bd3786\"],[0.5555555555555556,\"#d8576b\"],[0.6666666666666666,\"#ed7953\"],[0.7777777777777778,\"#fb9f3a\"],[0.8888888888888888,\"#fdca26\"],[1.0,\"#f0f921\"]]}],\"mesh3d\":[{\"type\":\"mesh3d\",\"colorbar\":{\"outlinewidth\":0,\"ticks\":\"\"}}],\"scatter\":[{\"fillpattern\":{\"fillmode\":\"overlay\",\"size\":10,\"solidity\":0.2},\"type\":\"scatter\"}],\"parcoords\":[{\"type\":\"parcoords\",\"line\":{\"colorbar\":{\"outlinewidth\":0,\"ticks\":\"\"}}}],\"scatterpolargl\":[{\"type\":\"scatterpolargl\",\"marker\":{\"colorbar\":{\"outlinewidth\":0,\"ticks\":\"\"}}}],\"bar\":[{\"error_x\":{\"color\":\"#2a3f5f\"},\"error_y\":{\"color\":\"#2a3f5f\"},\"marker\":{\"line\":{\"color\":\"#E5ECF6\",\"width\":0.5},\"pattern\":{\"fillmode\":\"overlay\",\"size\":10,\"solidity\":0.2}},\"type\":\"bar\"}],\"scattergeo\":[{\"type\":\"scattergeo\",\"marker\":{\"colorbar\":{\"outlinewidth\":0,\"ticks\":\"\"}}}],\"scatterpolar\":[{\"type\":\"scatterpolar\",\"marker\":{\"colorbar\":{\"outlinewidth\":0,\"ticks\":\"\"}}}],\"histogram\":[{\"marker\":{\"pattern\":{\"fillmode\":\"overlay\",\"size\":10,\"solidity\":0.2}},\"type\":\"histogram\"}],\"scattergl\":[{\"type\":\"scattergl\",\"marker\":{\"colorbar\":{\"outlinewidth\":0,\"ticks\":\"\"}}}],\"scatter3d\":[{\"type\":\"scatter3d\",\"line\":{\"colorbar\":{\"outlinewidth\":0,\"ticks\":\"\"}},\"marker\":{\"colorbar\":{\"outlinewidth\":0,\"ticks\":\"\"}}}],\"scattermapbox\":[{\"type\":\"scattermapbox\",\"marker\":{\"colorbar\":{\"outlinewidth\":0,\"ticks\":\"\"}}}],\"scatterternary\":[{\"type\":\"scatterternary\",\"marker\":{\"colorbar\":{\"outlinewidth\":0,\"ticks\":\"\"}}}],\"scattercarpet\":[{\"type\":\"scattercarpet\",\"marker\":{\"colorbar\":{\"outlinewidth\":0,\"ticks\":\"\"}}}],\"carpet\":[{\"aaxis\":{\"endlinecolor\":\"#2a3f5f\",\"gridcolor\":\"white\",\"linecolor\":\"white\",\"minorgridcolor\":\"white\",\"startlinecolor\":\"#2a3f5f\"},\"baxis\":{\"endlinecolor\":\"#2a3f5f\",\"gridcolor\":\"white\",\"linecolor\":\"white\",\"minorgridcolor\":\"white\",\"startlinecolor\":\"#2a3f5f\"},\"type\":\"carpet\"}],\"table\":[{\"cells\":{\"fill\":{\"color\":\"#EBF0F8\"},\"line\":{\"color\":\"white\"}},\"header\":{\"fill\":{\"color\":\"#C8D4E3\"},\"line\":{\"color\":\"white\"}},\"type\":\"table\"}],\"barpolar\":[{\"marker\":{\"line\":{\"color\":\"#E5ECF6\",\"width\":0.5},\"pattern\":{\"fillmode\":\"overlay\",\"size\":10,\"solidity\":0.2}},\"type\":\"barpolar\"}],\"pie\":[{\"automargin\":true,\"type\":\"pie\"}]},\"layout\":{\"autotypenumbers\":\"strict\",\"colorway\":[\"#636efa\",\"#EF553B\",\"#00cc96\",\"#ab63fa\",\"#FFA15A\",\"#19d3f3\",\"#FF6692\",\"#B6E880\",\"#FF97FF\",\"#FECB52\"],\"font\":{\"color\":\"#2a3f5f\"},\"hovermode\":\"closest\",\"hoverlabel\":{\"align\":\"left\"},\"paper_bgcolor\":\"white\",\"plot_bgcolor\":\"#E5ECF6\",\"polar\":{\"bgcolor\":\"#E5ECF6\",\"angularaxis\":{\"gridcolor\":\"white\",\"linecolor\":\"white\",\"ticks\":\"\"},\"radialaxis\":{\"gridcolor\":\"white\",\"linecolor\":\"white\",\"ticks\":\"\"}},\"ternary\":{\"bgcolor\":\"#E5ECF6\",\"aaxis\":{\"gridcolor\":\"white\",\"linecolor\":\"white\",\"ticks\":\"\"},\"baxis\":{\"gridcolor\":\"white\",\"linecolor\":\"white\",\"ticks\":\"\"},\"caxis\":{\"gridcolor\":\"white\",\"linecolor\":\"white\",\"ticks\":\"\"}},\"coloraxis\":{\"colorbar\":{\"outlinewidth\":0,\"ticks\":\"\"}},\"colorscale\":{\"sequential\":[[0.0,\"#0d0887\"],[0.1111111111111111,\"#46039f\"],[0.2222222222222222,\"#7201a8\"],[0.3333333333333333,\"#9c179e\"],[0.4444444444444444,\"#bd3786\"],[0.5555555555555556,\"#d8576b\"],[0.6666666666666666,\"#ed7953\"],[0.7777777777777778,\"#fb9f3a\"],[0.8888888888888888,\"#fdca26\"],[1.0,\"#f0f921\"]],\"sequentialminus\":[[0.0,\"#0d0887\"],[0.1111111111111111,\"#46039f\"],[0.2222222222222222,\"#7201a8\"],[0.3333333333333333,\"#9c179e\"],[0.4444444444444444,\"#bd3786\"],[0.5555555555555556,\"#d8576b\"],[0.6666666666666666,\"#ed7953\"],[0.7777777777777778,\"#fb9f3a\"],[0.8888888888888888,\"#fdca26\"],[1.0,\"#f0f921\"]],\"diverging\":[[0,\"#8e0152\"],[0.1,\"#c51b7d\"],[0.2,\"#de77ae\"],[0.3,\"#f1b6da\"],[0.4,\"#fde0ef\"],[0.5,\"#f7f7f7\"],[0.6,\"#e6f5d0\"],[0.7,\"#b8e186\"],[0.8,\"#7fbc41\"],[0.9,\"#4d9221\"],[1,\"#276419\"]]},\"xaxis\":{\"gridcolor\":\"white\",\"linecolor\":\"white\",\"ticks\":\"\",\"title\":{\"standoff\":15},\"zerolinecolor\":\"white\",\"automargin\":true,\"zerolinewidth\":2},\"yaxis\":{\"gridcolor\":\"white\",\"linecolor\":\"white\",\"ticks\":\"\",\"title\":{\"standoff\":15},\"zerolinecolor\":\"white\",\"automargin\":true,\"zerolinewidth\":2},\"scene\":{\"xaxis\":{\"backgroundcolor\":\"#E5ECF6\",\"gridcolor\":\"white\",\"linecolor\":\"white\",\"showbackground\":true,\"ticks\":\"\",\"zerolinecolor\":\"white\",\"gridwidth\":2},\"yaxis\":{\"backgroundcolor\":\"#E5ECF6\",\"gridcolor\":\"white\",\"linecolor\":\"white\",\"showbackground\":true,\"ticks\":\"\",\"zerolinecolor\":\"white\",\"gridwidth\":2},\"zaxis\":{\"backgroundcolor\":\"#E5ECF6\",\"gridcolor\":\"white\",\"linecolor\":\"white\",\"showbackground\":true,\"ticks\":\"\",\"zerolinecolor\":\"white\",\"gridwidth\":2}},\"shapedefaults\":{\"line\":{\"color\":\"#2a3f5f\"}},\"annotationdefaults\":{\"arrowcolor\":\"#2a3f5f\",\"arrowhead\":0,\"arrowwidth\":1},\"geo\":{\"bgcolor\":\"white\",\"landcolor\":\"#E5ECF6\",\"subunitcolor\":\"white\",\"showland\":true,\"showlakes\":true,\"lakecolor\":\"white\"},\"title\":{\"x\":0.05},\"mapbox\":{\"style\":\"light\"}}},\"legend\":{\"tracegroupgap\":0},\"title\":{\"text\":\"\\ubab0\\ub77c\\uc6a9\"},\"height\":750,\"width\":750},                        {\"responsive\": true}                    ).then(function(){\n",
       "                            \n",
       "var gd = document.getElementById('a27aa263-ed32-4ffe-95b8-6c7a922242c6');\n",
       "var x = new MutationObserver(function (mutations, observer) {{\n",
       "        var display = window.getComputedStyle(gd).display;\n",
       "        if (!display || display === 'none') {{\n",
       "            console.log([gd, 'removed!']);\n",
       "            Plotly.purge(gd);\n",
       "            observer.disconnect();\n",
       "        }}\n",
       "}});\n",
       "\n",
       "// Listen for the removal of the full notebook cells\n",
       "var notebookContainer = gd.closest('#notebook-container');\n",
       "if (notebookContainer) {{\n",
       "    x.observe(notebookContainer, {childList: true});\n",
       "}}\n",
       "\n",
       "// Listen for the clearing of the current output cell\n",
       "var outputEl = gd.closest('.output');\n",
       "if (outputEl) {{\n",
       "    x.observe(outputEl, {childList: true});\n",
       "}}\n",
       "\n",
       "                        })                };                });            </script>        </div>"
      ]
     },
     "metadata": {},
     "output_type": "display_data"
    }
   ],
   "source": [
    "fig = px.sunburst(df_sample,\n",
    "                  path=[\"시도\", \"시군구\", \"읍면동\"],\n",
    "                  values='이용자수',\n",
    "                  title=\"몰라용\",\n",
    "                  width=750, height=750,\n",
    "                  color= '읍면동')\n",
    "fig.show()"
   ]
  },
  {
   "cell_type": "code",
   "execution_count": null,
   "id": "eebca9c8-df23-41f9-bfd4-72b8acc259d3",
   "metadata": {},
   "outputs": [],
   "source": []
  }
 ],
 "metadata": {
  "kernelspec": {
   "display_name": "Python 3 (ipykernel)",
   "language": "python",
   "name": "python3"
  },
  "language_info": {
   "codemirror_mode": {
    "name": "ipython",
    "version": 3
   },
   "file_extension": ".py",
   "mimetype": "text/x-python",
   "name": "python",
   "nbconvert_exporter": "python",
   "pygments_lexer": "ipython3",
   "version": "3.10.5"
  }
 },
 "nbformat": 4,
 "nbformat_minor": 5
}
