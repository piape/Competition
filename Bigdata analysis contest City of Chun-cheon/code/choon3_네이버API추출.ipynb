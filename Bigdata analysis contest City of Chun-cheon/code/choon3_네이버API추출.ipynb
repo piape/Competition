{
 "cells": [
  {
   "cell_type": "markdown",
   "id": "07713111-b6ac-4b02-aa08-e8a72910c132",
   "metadata": {
    "tags": []
   },
   "source": [
    "---\n",
    "# 춘천시 빅데이터 공모전\n",
    "---"
   ]
  },
  {
   "cell_type": "code",
   "execution_count": 1,
   "id": "2463306f-e854-4c61-8cb7-21cf9d6103a1",
   "metadata": {},
   "outputs": [],
   "source": [
    "import warnings\n",
    "warnings.filterwarnings('ignore')\n",
    "import pandas as pd\n",
    "import numpy as np\n",
    "import seaborn as sns\n",
    "import matplotlib.pyplot as plt\n",
    "import os\n",
    "import plotly.graph_objects as go\n",
    "import plotly.express as px\n",
    "\n",
    "plt.rcParams['font.family'] = 'Malgun Gothic' # Windows 맑은 고딕\n",
    "plt.rcParams['font.size'] = 20\n",
    "plt.rcParams['figure.figsize'] = 15, 10\n",
    "\n",
    "# 폴리움임포트\n",
    "import folium\n",
    "from folium.plugins import MarkerCluster\n",
    "import json # for 코로플리쓰 \n",
    "import os\n",
    "import sys\n",
    "import urllib.request"
   ]
  },
  {
   "cell_type": "code",
   "execution_count": 2,
   "id": "f6841bea-e6d4-4c29-8aff-fa5ff6c03243",
   "metadata": {},
   "outputs": [],
   "source": [
    "from wordcloud import WordCloud\n",
    "import matplotlib.pyplot as plt\n",
    "from collections import Counter\n",
    "from konlpy.tag import Okt\n",
    "from PIL import Image\n",
    "import numpy as np"
   ]
  },
  {
   "cell_type": "markdown",
   "id": "b9f9e176-bdd4-4242-9ee9-fd0d7a32eef1",
   "metadata": {},
   "source": [
    "---\n",
    "# Naver, 검색어 워드클라우드\n",
    "---"
   ]
  },
  {
   "cell_type": "code",
   "execution_count": 3,
   "id": "5d44e983-2496-42a7-aece-75adb21f3ec0",
   "metadata": {
    "tags": []
   },
   "outputs": [],
   "source": [
    "client_id = \"iJvpCiLiIkAme06RYlIm\"\n",
    "client_secret = \"MPTVssZ0Oe\"\n",
    "encText = urllib.parse.quote(\"부산, 여행 , 관광\")\n",
    "\n",
    "word_list = []"
   ]
  },
  {
   "cell_type": "code",
   "execution_count": 4,
   "id": "506e4f4c-e552-4f45-bb02-be163ec29c88",
   "metadata": {},
   "outputs": [],
   "source": [
    "def save_list(s):\n",
    "    url = \"https://openapi.naver.com/v1/search/blog.json?&display=100&query=\" + encText + '&start=' + str(s)\n",
    "    request = urllib.request.Request(url)\n",
    "    request.add_header(\"X-Naver-Client-Id\", client_id)\n",
    "    request.add_header(\"X-Naver-Client-Secret\", client_secret)\n",
    "    response = urllib.request.urlopen(request)\n",
    "    rescode = response.getcode()\n",
    "    if(rescode==200):\n",
    "        response_body = response.read()\n",
    "        word_list.append(json.loads(response_body.decode('utf-8')))\n",
    "    else:\n",
    "        print(s)"
   ]
  },
  {
   "cell_type": "markdown",
   "id": "5ccbed1c-d600-462e-bf52-1ef4bfcb5919",
   "metadata": {},
   "source": [
    "### 페이지당 100개 * 100 페이지의 데이터를 네이버 블로그로 부터 가져와서 word_list에 저장한다."
   ]
  },
  {
   "cell_type": "code",
   "execution_count": null,
   "id": "fbee0273-6e7a-4b98-980d-b32f2c7f43b2",
   "metadata": {
    "tags": []
   },
   "outputs": [
    {
     "name": "stdout",
     "output_type": "stream",
     "text": [
      "page : 1 저장중\n",
      "page : 2 저장중\n",
      "page : 3 저장중\n",
      "page : 4 저장중\n",
      "page : 5 저장중\n",
      "page : 6 저장중\n",
      "page : 7 저장중\n",
      "page : 8 저장중\n",
      "page : 9 저장중\n",
      "page : 10 저장중\n",
      "page : 11 저장중\n",
      "page : 12 저장중\n",
      "page : 13 저장중\n",
      "page : 14 저장중\n",
      "page : 15 저장중\n",
      "page : 16 저장중\n",
      "page : 17 저장중\n",
      "page : 18 저장중\n",
      "page : 19 저장중\n",
      "page : 20 저장중\n",
      "page : 21 저장중\n",
      "page : 22 저장중\n",
      "page : 23 저장중\n",
      "page : 24 저장중\n",
      "page : 25 저장중\n",
      "page : 26 저장중\n",
      "page : 27 저장중\n",
      "page : 28 저장중\n",
      "page : 29 저장중\n",
      "page : 30 저장중\n",
      "page : 31 저장중\n",
      "page : 32 저장중\n",
      "page : 33 저장중\n",
      "page : 34 저장중\n",
      "page : 35 저장중\n",
      "page : 36 저장중\n",
      "page : 37 저장중\n",
      "page : 38 저장중\n",
      "page : 39 저장중\n",
      "page : 40 저장중\n",
      "page : 41 저장중\n",
      "page : 42 저장중\n",
      "page : 43 저장중\n",
      "page : 44 저장중\n",
      "page : 45 저장중\n",
      "page : 46 저장중\n",
      "page : 47 저장중\n",
      "page : 48 저장중\n",
      "page : 49 저장중\n",
      "page : 50 저장중\n",
      "page : 51 저장중\n",
      "page : 52 저장중\n",
      "page : 53 저장중\n",
      "page : 54 저장중\n",
      "page : 55 저장중\n",
      "page : 56 저장중\n",
      "page : 57 저장중\n",
      "page : 58 저장중\n",
      "page : 59 저장중\n",
      "page : 60 저장중\n",
      "page : 61 저장중\n",
      "page : 62 저장중\n",
      "page : 63 저장중\n",
      "page : 64 저장중\n",
      "page : 65 저장중\n",
      "page : 66 저장중\n",
      "page : 67 저장중\n",
      "page : 68 저장중\n",
      "page : 69 저장중\n",
      "page : 70 저장중\n",
      "page : 71 저장중\n",
      "page : 72 저장중\n",
      "page : 73 저장중\n",
      "page : 74 저장중\n",
      "page : 75 저장중\n",
      "page : 76 저장중\n",
      "page : 77 저장중\n",
      "page : 78 저장중\n",
      "page : 79 저장중\n",
      "page : 80 저장중\n",
      "page : 81 저장중\n",
      "page : 82 저장중\n",
      "page : 83 저장중\n",
      "page : 84 저장중\n",
      "page : 85 저장중\n",
      "page : 86 저장중\n",
      "page : 87 저장중\n",
      "page : 88 저장중\n",
      "page : 89 저장중\n",
      "page : 90 저장중\n",
      "page : 91 저장중\n",
      "page : 92 저장중\n",
      "page : 93 저장중\n",
      "page : 94 저장중\n"
     ]
    }
   ],
   "source": [
    "for i in range(1, 100):\n",
    "    save_list(i)\n",
    "    print(f'page : {i} 저장중')"
   ]
  },
  {
   "cell_type": "code",
   "execution_count": null,
   "id": "4cc8b7be-a529-4c9d-afb6-676df557c3c7",
   "metadata": {
    "tags": []
   },
   "outputs": [],
   "source": [
    "word_list[0]['items'][0]['title']"
   ]
  },
  {
   "cell_type": "code",
   "execution_count": null,
   "id": "60999ba2-0d70-4f9d-980a-b54ac2417ef3",
   "metadata": {},
   "outputs": [],
   "source": [
    "word_list[0]['items'][0]['title'].replace('<b>','').replace('</b>', '')"
   ]
  },
  {
   "cell_type": "code",
   "execution_count": null,
   "id": "dcea7e76-45d0-49b3-ad1e-7bfbd4cc0c07",
   "metadata": {},
   "outputs": [],
   "source": [
    "len(word_list)"
   ]
  },
  {
   "cell_type": "code",
   "execution_count": null,
   "id": "f124f16f-12c0-4835-a5a0-1feb38057d69",
   "metadata": {},
   "outputs": [],
   "source": [
    "choon_word = []"
   ]
  },
  {
   "cell_type": "code",
   "execution_count": null,
   "id": "80debbe6-6dbc-452b-b4e6-46959e7e48c2",
   "metadata": {
    "tags": []
   },
   "outputs": [],
   "source": [
    "for i in range(0, len(word_list)):\n",
    "    for j in range(0, 100): \n",
    "        choon_word.append(word_list[i]['items'][j]['title'].replace('<b>','').replace('</b>', '').replace('...','').replace('apos;','').replace('&quot;',''))"
   ]
  },
  {
   "cell_type": "code",
   "execution_count": null,
   "id": "400d91be-ebc5-4761-bbdf-2b4dab7febe5",
   "metadata": {
    "tags": []
   },
   "outputs": [],
   "source": [
    "len(choon_word)"
   ]
  },
  {
   "cell_type": "code",
   "execution_count": null,
   "id": "51b7c9e0-7034-415c-8861-03081658f048",
   "metadata": {},
   "outputs": [],
   "source": [
    "choon_word[9899]"
   ]
  },
  {
   "cell_type": "code",
   "execution_count": null,
   "id": "ec0b00e8-bf29-45b5-8e88-4536299ca6e8",
   "metadata": {},
   "outputs": [],
   "source": [
    "#제목 및 본문 txt에 저장\n",
    "total_contents = choon_word\n",
    "\n",
    "text = open(\"busan_text1.txt\",'w',encoding='utf-8') \n",
    "for i in total_contents:\n",
    "    text.write(i+'\\n')\n",
    "text.close()"
   ]
  },
  {
   "cell_type": "code",
   "execution_count": null,
   "id": "26d77812-ae57-4a31-8c64-a4c52a6a291e",
   "metadata": {},
   "outputs": [],
   "source": []
  },
  {
   "cell_type": "code",
   "execution_count": null,
   "id": "5181e40f-8d5c-4b42-b123-8c64c0976219",
   "metadata": {},
   "outputs": [],
   "source": []
  }
 ],
 "metadata": {
  "kernelspec": {
   "display_name": "Python 3 (ipykernel)",
   "language": "python",
   "name": "python3"
  },
  "language_info": {
   "codemirror_mode": {
    "name": "ipython",
    "version": 3
   },
   "file_extension": ".py",
   "mimetype": "text/x-python",
   "name": "python",
   "nbconvert_exporter": "python",
   "pygments_lexer": "ipython3",
   "version": "3.10.5"
  }
 },
 "nbformat": 4,
 "nbformat_minor": 5
}
